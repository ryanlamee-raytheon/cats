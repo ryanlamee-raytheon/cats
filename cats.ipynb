{
 "cells": [
  {
   "cell_type": "markdown",
   "metadata": {
    "toc": true
   },
   "source": [
    "<h1>Table of Contents<span class=\"tocSkip\"></span></h1>\n",
    "<div class=\"toc\"><ul class=\"toc-item\"><li><span><a href=\"#Imports\" data-toc-modified-id=\"Imports-1\"><span class=\"toc-item-num\">1&nbsp;&nbsp;</span>Imports</a></span></li><li><span><a href=\"#Functions\" data-toc-modified-id=\"Functions-2\"><span class=\"toc-item-num\">2&nbsp;&nbsp;</span>Functions</a></span><ul class=\"toc-item\"><li><span><a href=\"#Insert-Function\" data-toc-modified-id=\"Insert-Function-2.1\"><span class=\"toc-item-num\">2.1&nbsp;&nbsp;</span>Insert Function</a></span></li><li><span><a href=\"#init_c_df\" data-toc-modified-id=\"init_c_df-2.2\"><span class=\"toc-item-num\">2.2&nbsp;&nbsp;</span>init_c_df</a></span></li><li><span><a href=\"#create_date_run_df\" data-toc-modified-id=\"create_date_run_df-2.3\"><span class=\"toc-item-num\">2.3&nbsp;&nbsp;</span>create_date_run_df</a></span></li><li><span><a href=\"#Get-Empty-DataFrame\" data-toc-modified-id=\"Get-Empty-DataFrame-2.4\"><span class=\"toc-item-num\">2.4&nbsp;&nbsp;</span>Get Empty DataFrame</a></span></li><li><span><a href=\"#Subprocess-Kill\" data-toc-modified-id=\"Subprocess-Kill-2.5\"><span class=\"toc-item-num\">2.5&nbsp;&nbsp;</span>Subprocess Kill</a></span></li><li><span><a href=\"#Kill-Processes-Named\" data-toc-modified-id=\"Kill-Processes-Named-2.6\"><span class=\"toc-item-num\">2.6&nbsp;&nbsp;</span>Kill Processes Named</a></span></li><li><span><a href=\"#Change-File-To-Read-Write-Mode\" data-toc-modified-id=\"Change-File-To-Read-Write-Mode-2.7\"><span class=\"toc-item-num\">2.7&nbsp;&nbsp;</span>Change File To Read Write Mode</a></span></li><li><span><a href=\"#Change-File-To-Read-Only-Mode\" data-toc-modified-id=\"Change-File-To-Read-Only-Mode-2.8\"><span class=\"toc-item-num\">2.8&nbsp;&nbsp;</span>Change File To Read Only Mode</a></span></li><li><span><a href=\"#Close-Program-By-Force\" data-toc-modified-id=\"Close-Program-By-Force-2.9\"><span class=\"toc-item-num\">2.9&nbsp;&nbsp;</span>Close Program By Force</a></span></li><li><span><a href=\"#Robocopy-File\" data-toc-modified-id=\"Robocopy-File-2.10\"><span class=\"toc-item-num\">2.10&nbsp;&nbsp;</span>Robocopy File</a></span></li><li><span><a href=\"#Multi-Threading-Robocopy-Files\" data-toc-modified-id=\"Multi-Threading-Robocopy-Files-2.11\"><span class=\"toc-item-num\">2.11&nbsp;&nbsp;</span>Multi-Threading Robocopy Files</a></span></li><li><span><a href=\"#Universal-Path\" data-toc-modified-id=\"Universal-Path-2.12\"><span class=\"toc-item-num\">2.12&nbsp;&nbsp;</span>Universal Path</a></span></li><li><span><a href=\"#Get-Excel-Cell-Background-Color\" data-toc-modified-id=\"Get-Excel-Cell-Background-Color-2.13\"><span class=\"toc-item-num\">2.13&nbsp;&nbsp;</span>Get Excel Cell Background Color</a></span></li><li><span><a href=\"#Is-Target-Color\" data-toc-modified-id=\"Is-Target-Color-2.14\"><span class=\"toc-item-num\">2.14&nbsp;&nbsp;</span>Is Target Color</a></span></li></ul></li><li><span><a href=\"#Parameters\" data-toc-modified-id=\"Parameters-3\"><span class=\"toc-item-num\">3&nbsp;&nbsp;</span>Parameters</a></span><ul class=\"toc-item\"><li><span><a href=\"#Current-Date\" data-toc-modified-id=\"Current-Date-3.1\"><span class=\"toc-item-num\">3.1&nbsp;&nbsp;</span>Current Date</a></span></li><li><span><a href=\"#Abs-Executable-Folder\" data-toc-modified-id=\"Abs-Executable-Folder-3.2\"><span class=\"toc-item-num\">3.2&nbsp;&nbsp;</span>Abs Executable Folder</a></span></li><li><span><a href=\"#Config-File\" data-toc-modified-id=\"Config-File-3.3\"><span class=\"toc-item-num\">3.3&nbsp;&nbsp;</span>Config File</a></span></li></ul></li><li><span><a href=\"#Import-c_df,-p_df,-And-cats_col_df\" data-toc-modified-id=\"Import-c_df,-p_df,-And-cats_col_df-4\"><span class=\"toc-item-num\">4&nbsp;&nbsp;</span>Import c_df, p_df, And cats_col_df</a></span><ul class=\"toc-item\"><li><span><a href=\"#c_df\" data-toc-modified-id=\"c_df-4.1\"><span class=\"toc-item-num\">4.1&nbsp;&nbsp;</span>c_df</a></span></li><li><span><a href=\"#p_df\" data-toc-modified-id=\"p_df-4.2\"><span class=\"toc-item-num\">4.2&nbsp;&nbsp;</span>p_df</a></span></li><li><span><a href=\"#Archive-Folder\" data-toc-modified-id=\"Archive-Folder-4.3\"><span class=\"toc-item-num\">4.3&nbsp;&nbsp;</span>Archive Folder</a></span></li><li><span><a href=\"#col_map_df\" data-toc-modified-id=\"col_map_df-4.4\"><span class=\"toc-item-num\">4.4&nbsp;&nbsp;</span>col_map_df</a></span></li><li><span><a href=\"#Output-Folder\" data-toc-modified-id=\"Output-Folder-4.5\"><span class=\"toc-item-num\">4.5&nbsp;&nbsp;</span>Output Folder</a></span></li><li><span><a href=\"#Use-Database-Tables\" data-toc-modified-id=\"Use-Database-Tables-4.6\"><span class=\"toc-item-num\">4.6&nbsp;&nbsp;</span>Use Database Tables</a></span></li><li><span><a href=\"#Copy-Locally\" data-toc-modified-id=\"Copy-Locally-4.7\"><span class=\"toc-item-num\">4.7&nbsp;&nbsp;</span>Copy Locally</a></span></li><li><span><a href=\"#Archive-Source-Files-Before-CATS-Update\" data-toc-modified-id=\"Archive-Source-Files-Before-CATS-Update-4.8\"><span class=\"toc-item-num\">4.8&nbsp;&nbsp;</span>Archive Source Files Before CATS Update</a></span></li><li><span><a href=\"#Local-Folder\" data-toc-modified-id=\"Local-Folder-4.9\"><span class=\"toc-item-num\">4.9&nbsp;&nbsp;</span>Local Folder</a></span></li><li><span><a href=\"#CATS-Local-Files\" data-toc-modified-id=\"CATS-Local-Files-4.10\"><span class=\"toc-item-num\">4.10&nbsp;&nbsp;</span>CATS Local Files</a></span></li><li><span><a href=\"#Old---Create-Robocopy-Lists-For-CATS-Source-Files\" data-toc-modified-id=\"Old---Create-Robocopy-Lists-For-CATS-Source-Files-4.11\"><span class=\"toc-item-num\">4.11&nbsp;&nbsp;</span>Old - Create Robocopy Lists For CATS Source Files</a></span></li></ul></li><li><span><a href=\"#Robocopy-Source-Files\" data-toc-modified-id=\"Robocopy-Source-Files-5\"><span class=\"toc-item-num\">5&nbsp;&nbsp;</span>Robocopy Source Files</a></span><ul class=\"toc-item\"><li><span><a href=\"#Create-File-Compare-DataFrame-t_df\" data-toc-modified-id=\"Create-File-Compare-DataFrame-t_df-5.1\"><span class=\"toc-item-num\">5.1&nbsp;&nbsp;</span>Create File Compare DataFrame t_df</a></span></li><li><span><a href=\"#Robocopy-Supporting-CATS-Files\" data-toc-modified-id=\"Robocopy-Supporting-CATS-Files-5.2\"><span class=\"toc-item-num\">5.2&nbsp;&nbsp;</span>Robocopy Supporting CATS Files</a></span></li><li><span><a href=\"#Extract-Data-From-Excel-Files\" data-toc-modified-id=\"Extract-Data-From-Excel-Files-5.3\"><span class=\"toc-item-num\">5.3&nbsp;&nbsp;</span>Extract Data From Excel Files</a></span></li><li><span><a href=\"#Check-All-Files-Exist-In-Local-Folder\" data-toc-modified-id=\"Check-All-Files-Exist-In-Local-Folder-5.4\"><span class=\"toc-item-num\">5.4&nbsp;&nbsp;</span>Check All Files Exist In Local Folder</a></span></li></ul></li><li><span><a href=\"#Main\" data-toc-modified-id=\"Main-6\"><span class=\"toc-item-num\">6&nbsp;&nbsp;</span>Main</a></span><ul class=\"toc-item\"><li><span><a href=\"#Init-CATS-DF\" data-toc-modified-id=\"Init-CATS-DF-6.1\"><span class=\"toc-item-num\">6.1&nbsp;&nbsp;</span>Init CATS DF</a></span></li><li><span><a href=\"#Rename-Columns-To-Match-Access\" data-toc-modified-id=\"Rename-Columns-To-Match-Access-6.2\"><span class=\"toc-item-num\">6.2&nbsp;&nbsp;</span>Rename Columns To Match Access</a></span></li><li><span><a href=\"#Add-Columns-S/L-Type-And-POC\" data-toc-modified-id=\"Add-Columns-S/L-Type-And-POC-6.3\"><span class=\"toc-item-num\">6.3&nbsp;&nbsp;</span>Add Columns S/L Type And POC</a></span></li><li><span><a href=\"#Add-Column-Date-Run\" data-toc-modified-id=\"Add-Column-Date-Run-6.4\"><span class=\"toc-item-num\">6.4&nbsp;&nbsp;</span>Add Column Date Run</a></span></li></ul></li><li><span><a href=\"#Create-Date-Run-Table\" data-toc-modified-id=\"Create-Date-Run-Table-7\"><span class=\"toc-item-num\">7&nbsp;&nbsp;</span>Create Date Run Table</a></span></li><li><span><a href=\"#Import-Data\" data-toc-modified-id=\"Import-Data-8\"><span class=\"toc-item-num\">8&nbsp;&nbsp;</span>Import Data</a></span><ul class=\"toc-item\"><li><span><a href=\"#Init-Writer\" data-toc-modified-id=\"Init-Writer-8.1\"><span class=\"toc-item-num\">8.1&nbsp;&nbsp;</span>Init Writer</a></span></li><li><span><a href=\"#Create-source_dfs_dict\" data-toc-modified-id=\"Create-source_dfs_dict-8.2\"><span class=\"toc-item-num\">8.2&nbsp;&nbsp;</span>Create source_dfs_dict</a></span></li><li><span><a href=\"#Import-DFs\" data-toc-modified-id=\"Import-DFs-8.3\"><span class=\"toc-item-num\">8.3&nbsp;&nbsp;</span>Import DFs</a></span></li></ul></li><li><span><a href=\"#Clean-Column-Names-For-DB\" data-toc-modified-id=\"Clean-Column-Names-For-DB-9\"><span class=\"toc-item-num\">9&nbsp;&nbsp;</span>Clean Column Names For DB</a></span></li><li><span><a href=\"#Save-Column-Mapping\" data-toc-modified-id=\"Save-Column-Mapping-10\"><span class=\"toc-item-num\">10&nbsp;&nbsp;</span>Save Column Mapping</a></span></li><li><span><a href=\"#Create-Table-SQL-Scripts\" data-toc-modified-id=\"Create-Table-SQL-Scripts-11\"><span class=\"toc-item-num\">11&nbsp;&nbsp;</span>Create Table SQL Scripts</a></span></li><li><span><a href=\"#Create-Insert-Into-Table-Scripts\" data-toc-modified-id=\"Create-Insert-Into-Table-Scripts-12\"><span class=\"toc-item-num\">12&nbsp;&nbsp;</span>Create Insert Into Table Scripts</a></span><ul class=\"toc-item\"><li><span><a href=\"#Create-Scripts\" data-toc-modified-id=\"Create-Scripts-12.1\"><span class=\"toc-item-num\">12.1&nbsp;&nbsp;</span>Create Scripts</a></span></li><li><span><a href=\"#Get-Insert-Scripts-By-Themselves\" data-toc-modified-id=\"Get-Insert-Scripts-By-Themselves-12.2\"><span class=\"toc-item-num\">12.2&nbsp;&nbsp;</span>Get Insert Scripts By Themselves</a></span></li></ul></li><li><span><a href=\"#Robocopy-To-Database-Folder\" data-toc-modified-id=\"Robocopy-To-Database-Folder-13\"><span class=\"toc-item-num\">13&nbsp;&nbsp;</span>Robocopy To Database Folder</a></span></li><li><span><a href=\"#Testing\" data-toc-modified-id=\"Testing-14\"><span class=\"toc-item-num\">14&nbsp;&nbsp;</span>Testing</a></span><ul class=\"toc-item\"><li><span><a href=\"#Drop-And-Recreate-Database-Table\" data-toc-modified-id=\"Drop-And-Recreate-Database-Table-14.1\"><span class=\"toc-item-num\">14.1&nbsp;&nbsp;</span>Drop And Recreate Database Table</a></span></li></ul></li><li><span><a href=\"#End-Item-Search\" data-toc-modified-id=\"End-Item-Search-15\"><span class=\"toc-item-num\">15&nbsp;&nbsp;</span>End Item Search</a></span></li><li><span><a href=\"#Query-Values-Search\" data-toc-modified-id=\"Query-Values-Search-16\"><span class=\"toc-item-num\">16&nbsp;&nbsp;</span>Query Values Search</a></span><ul class=\"toc-item\"><li><span><a href=\"#Import-Query-Values-File\" data-toc-modified-id=\"Import-Query-Values-File-16.1\"><span class=\"toc-item-num\">16.1&nbsp;&nbsp;</span>Import Query Values File</a></span></li><li><span><a href=\"#Match-To-Query-Values-DataFrame\" data-toc-modified-id=\"Match-To-Query-Values-DataFrame-16.2\"><span class=\"toc-item-num\">16.2&nbsp;&nbsp;</span>Match To Query Values DataFrame</a></span></li></ul></li><li><span><a href=\"#Try-Using-WBS\" data-toc-modified-id=\"Try-Using-WBS-17\"><span class=\"toc-item-num\">17&nbsp;&nbsp;</span>Try Using WBS</a></span><ul class=\"toc-item\"><li><span><a href=\"#Import-WBS\" data-toc-modified-id=\"Import-WBS-17.1\"><span class=\"toc-item-num\">17.1&nbsp;&nbsp;</span>Import WBS</a></span></li><li><span><a href=\"#Export-WBS-Results\" data-toc-modified-id=\"Export-WBS-Results-17.2\"><span class=\"toc-item-num\">17.2&nbsp;&nbsp;</span>Export WBS Results</a></span></li></ul></li><li><span><a href=\"#Init-Access\" data-toc-modified-id=\"Init-Access-18\"><span class=\"toc-item-num\">18&nbsp;&nbsp;</span>Init Access</a></span><ul class=\"toc-item\"><li><span><a href=\"#Print-Linked-Table-Source-Files\" data-toc-modified-id=\"Print-Linked-Table-Source-Files-18.1\"><span class=\"toc-item-num\">18.1&nbsp;&nbsp;</span>Print Linked Table Source Files</a></span></li><li><span><a href=\"#Print-Table-Columns\" data-toc-modified-id=\"Print-Table-Columns-18.2\"><span class=\"toc-item-num\">18.2&nbsp;&nbsp;</span>Print Table Columns</a></span></li></ul></li><li><span><a href=\"#Non-Shop-Hours\" data-toc-modified-id=\"Non-Shop-Hours-19\"><span class=\"toc-item-num\">19&nbsp;&nbsp;</span>Non-Shop Hours</a></span><ul class=\"toc-item\"><li><span><a href=\"#Target\" data-toc-modified-id=\"Target-19.1\"><span class=\"toc-item-num\">19.1&nbsp;&nbsp;</span>Target</a></span></li></ul></li><li><span><a href=\"#Import-CATS-DF\" data-toc-modified-id=\"Import-CATS-DF-20\"><span class=\"toc-item-num\">20&nbsp;&nbsp;</span>Import CATS DF</a></span><ul class=\"toc-item\"><li><span><a href=\"#Add-Cost-Center-In-Lower-Case\" data-toc-modified-id=\"Add-Cost-Center-In-Lower-Case-20.1\"><span class=\"toc-item-num\">20.1&nbsp;&nbsp;</span>Add Cost Center In Lower Case</a></span></li><li><span><a href=\"#Create-date_run_df\" data-toc-modified-id=\"Create-date_run_df-20.2\"><span class=\"toc-item-num\">20.2&nbsp;&nbsp;</span>Create date_run_df</a></span></li><li><span><a href=\"#Merge-cats_df-And-date_run_df\" data-toc-modified-id=\"Merge-cats_df-And-date_run_df-20.3\"><span class=\"toc-item-num\">20.3&nbsp;&nbsp;</span>Merge cats_df And date_run_df</a></span></li><li><span><a href=\"#Import-Cost-Center-Mapping\" data-toc-modified-id=\"Import-Cost-Center-Mapping-20.4\"><span class=\"toc-item-num\">20.4&nbsp;&nbsp;</span>Import Cost Center Mapping</a></span></li><li><span><a href=\"#Create-Cost-Center-Str-Column\" data-toc-modified-id=\"Create-Cost-Center-Str-Column-20.5\"><span class=\"toc-item-num\">20.5&nbsp;&nbsp;</span>Create Cost Center Str Column</a></span></li><li><span><a href=\"#Merge-cats_df-To-ccm_df-On-Cost-Center\" data-toc-modified-id=\"Merge-cats_df-To-ccm_df-On-Cost-Center-20.6\"><span class=\"toc-item-num\">20.6&nbsp;&nbsp;</span>Merge cats_df To ccm_df On Cost Center</a></span></li><li><span><a href=\"#Add-Lab-Type-Column\" data-toc-modified-id=\"Add-Lab-Type-Column-20.7\"><span class=\"toc-item-num\">20.7&nbsp;&nbsp;</span>Add Lab Type Column</a></span></li><li><span><a href=\"#Add-S/O-Column\" data-toc-modified-id=\"Add-S/O-Column-20.8\"><span class=\"toc-item-num\">20.8&nbsp;&nbsp;</span>Add S/O Column</a></span></li><li><span><a href=\"#Non-Shop-Column-Function\" data-toc-modified-id=\"Non-Shop-Column-Function-20.9\"><span class=\"toc-item-num\">20.9&nbsp;&nbsp;</span>Non Shop Column Function</a></span></li><li><span><a href=\"#Add-Non-Shop-Column\" data-toc-modified-id=\"Add-Non-Shop-Column-20.10\"><span class=\"toc-item-num\">20.10&nbsp;&nbsp;</span>Add Non Shop Column</a></span></li></ul></li><li><span><a href=\"#Import-Activity-Mapping\" data-toc-modified-id=\"Import-Activity-Mapping-21\"><span class=\"toc-item-num\">21&nbsp;&nbsp;</span>Import Activity Mapping</a></span><ul class=\"toc-item\"><li><span><a href=\"#Add-AA-Column\" data-toc-modified-id=\"Add-AA-Column-21.1\"><span class=\"toc-item-num\">21.1&nbsp;&nbsp;</span>Add AA Column</a></span></li><li><span><a href=\"#Fuzzywuzzy-Matching\" data-toc-modified-id=\"Fuzzywuzzy-Matching-21.2\"><span class=\"toc-item-num\">21.2&nbsp;&nbsp;</span>Fuzzywuzzy Matching</a></span></li><li><span><a href=\"#Create-CATS-Attend/Absence-Type---Short-Text-Lookup-DataFrame\" data-toc-modified-id=\"Create-CATS-Attend/Absence-Type---Short-Text-Lookup-DataFrame-21.3\"><span class=\"toc-item-num\">21.3&nbsp;&nbsp;</span>Create CATS Attend/Absence Type - Short Text Lookup DataFrame</a></span></li><li><span><a href=\"#Add-Jury-Duty\" data-toc-modified-id=\"Add-Jury-Duty-21.4\"><span class=\"toc-item-num\">21.4&nbsp;&nbsp;</span>Add Jury Duty</a></span></li><li><span><a href=\"#Check-For-Any-Additional-Missing-Matches\" data-toc-modified-id=\"Check-For-Any-Additional-Missing-Matches-21.5\"><span class=\"toc-item-num\">21.5&nbsp;&nbsp;</span>Check For Any Additional Missing Matches</a></span></li><li><span><a href=\"#Rename-matches-Column\" data-toc-modified-id=\"Rename-matches-Column-21.6\"><span class=\"toc-item-num\">21.6&nbsp;&nbsp;</span>Rename matches Column</a></span></li><li><span><a href=\"#Merge-cats_df-To-caat_df\" data-toc-modified-id=\"Merge-cats_df-To-caat_df-21.7\"><span class=\"toc-item-num\">21.7&nbsp;&nbsp;</span>Merge cats_df To caat_df</a></span></li></ul></li><li><span><a href=\"#Shop-Hours-Pivot-Table\" data-toc-modified-id=\"Shop-Hours-Pivot-Table-22\"><span class=\"toc-item-num\">22&nbsp;&nbsp;</span>Shop Hours Pivot Table</a></span></li><li><span><a href=\"#STOPPING-POINT\" data-toc-modified-id=\"STOPPING-POINT-23\"><span class=\"toc-item-num\">23&nbsp;&nbsp;</span>STOPPING POINT</a></span></li><li><span><a href=\"#Activity-Map-Join-SQL\" data-toc-modified-id=\"Activity-Map-Join-SQL-24\"><span class=\"toc-item-num\">24&nbsp;&nbsp;</span>Activity Map Join SQL</a></span></li><li><span><a href=\"#Attend-Type-SQL\" data-toc-modified-id=\"Attend-Type-SQL-25\"><span class=\"toc-item-num\">25&nbsp;&nbsp;</span>Attend Type SQL</a></span></li><li><span><a href=\"#Non-Shop-SQL\" data-toc-modified-id=\"Non-Shop-SQL-26\"><span class=\"toc-item-num\">26&nbsp;&nbsp;</span>Non-Shop SQL</a></span></li><li><span><a href=\"#Shop-Hours-Make-Table-SQL\" data-toc-modified-id=\"Shop-Hours-Make-Table-SQL-27\"><span class=\"toc-item-num\">27&nbsp;&nbsp;</span>Shop Hours Make Table SQL</a></span><ul class=\"toc-item\"><li><span><a href=\"#Print-cats_df-Columns\" data-toc-modified-id=\"Print-cats_df-Columns-27.1\"><span class=\"toc-item-num\">27.1&nbsp;&nbsp;</span>Print cats_df Columns</a></span></li></ul></li><li><span><a href=\"#Shop-Hours-Pivot-Table\" data-toc-modified-id=\"Shop-Hours-Pivot-Table-28\"><span class=\"toc-item-num\">28&nbsp;&nbsp;</span>Shop Hours Pivot Table</a></span></li><li><span><a href=\"#Print-Access-Queries\" data-toc-modified-id=\"Print-Access-Queries-29\"><span class=\"toc-item-num\">29&nbsp;&nbsp;</span>Print Access Queries</a></span><ul class=\"toc-item\"><li><span><a href=\"#Init-Access\" data-toc-modified-id=\"Init-Access-29.1\"><span class=\"toc-item-num\">29.1&nbsp;&nbsp;</span>Init Access</a></span></li><li><span><a href=\"#Query-Names-And-SQL-To-Dictionary\" data-toc-modified-id=\"Query-Names-And-SQL-To-Dictionary-29.2\"><span class=\"toc-item-num\">29.2&nbsp;&nbsp;</span>Query Names And SQL To Dictionary</a></span></li><li><span><a href=\"#Close-Database\" data-toc-modified-id=\"Close-Database-29.3\"><span class=\"toc-item-num\">29.3&nbsp;&nbsp;</span>Close Database</a></span></li><li><span><a href=\"#Print-First-Query\" data-toc-modified-id=\"Print-First-Query-29.4\"><span class=\"toc-item-num\">29.4&nbsp;&nbsp;</span>Print First Query</a></span></li><li><span><a href=\"#Save-All-To-SQL-Export-Folder\" data-toc-modified-id=\"Save-All-To-SQL-Export-Folder-29.5\"><span class=\"toc-item-num\">29.5&nbsp;&nbsp;</span>Save All To SQL Export Folder</a></span></li></ul></li><li><span><a href=\"#Import-Depot\" data-toc-modified-id=\"Import-Depot-30\"><span class=\"toc-item-num\">30&nbsp;&nbsp;</span>Import Depot</a></span></li><li><span><a href=\"#Import-Previous-Cats-Hours-File\" data-toc-modified-id=\"Import-Previous-Cats-Hours-File-31\"><span class=\"toc-item-num\">31&nbsp;&nbsp;</span>Import Previous Cats Hours File</a></span></li><li><span><a href=\"#Get-Unique-Counts-Per-CATS-Column\" data-toc-modified-id=\"Get-Unique-Counts-Per-CATS-Column-32\"><span class=\"toc-item-num\">32&nbsp;&nbsp;</span>Get Unique Counts Per CATS Column</a></span></li><li><span><a href=\"#CATS---Add-NWA-Charge-Number\" data-toc-modified-id=\"CATS---Add-NWA-Charge-Number-33\"><span class=\"toc-item-num\">33&nbsp;&nbsp;</span>CATS - Add NWA Charge Number</a></span></li><li><span><a href=\"#CATS---Add-Network-Activity\" data-toc-modified-id=\"CATS---Add-Network-Activity-34\"><span class=\"toc-item-num\">34&nbsp;&nbsp;</span>CATS - Add Network Activity</a></span></li><li><span><a href=\"#Depot---Add-WBS-Element\" data-toc-modified-id=\"Depot---Add-WBS-Element-35\"><span class=\"toc-item-num\">35&nbsp;&nbsp;</span>Depot - Add WBS Element</a></span></li><li><span><a href=\"#Depot---Add-WBS-Description\" data-toc-modified-id=\"Depot---Add-WBS-Description-36\"><span class=\"toc-item-num\">36&nbsp;&nbsp;</span>Depot - Add WBS Description</a></span></li></ul></div>"
   ]
  },
  {
   "cell_type": "code",
   "execution_count": 1,
   "metadata": {
    "ExecuteTime": {
     "end_time": "2020-12-21T13:42:40.934765Z",
     "start_time": "2020-12-21T13:42:40.902715Z"
    },
    "run_control": {
     "marked": false
    }
   },
   "outputs": [
    {
     "data": {
      "text/html": [
       "<style>.container {width:95% !important; } </style>"
      ],
      "text/plain": [
       "<IPython.core.display.HTML object>"
      ]
     },
     "metadata": {},
     "output_type": "display_data"
    }
   ],
   "source": [
    "from IPython.core.display import display, HTML\n",
    "\n",
    "display(HTML('<style>.container {width:95% !important; } </style>'))"
   ]
  },
  {
   "cell_type": "code",
   "execution_count": 2,
   "metadata": {
    "ExecuteTime": {
     "end_time": "2020-12-21T13:42:40.950693Z",
     "start_time": "2020-12-21T13:42:40.936307Z"
    },
    "run_control": {
     "marked": false
    }
   },
   "outputs": [],
   "source": [
    " %config Completer.use_jedi = False "
   ]
  },
  {
   "cell_type": "markdown",
   "metadata": {
    "heading_collapsed": true
   },
   "source": [
    "# Setup"
   ]
  },
  {
   "cell_type": "markdown",
   "metadata": {
    "hidden": true
   },
   "source": [
    "## Imports"
   ]
  },
  {
   "cell_type": "code",
   "execution_count": 3,
   "metadata": {
    "ExecuteTime": {
     "end_time": "2020-12-21T13:42:41.963140Z",
     "start_time": "2020-12-21T13:42:41.583320Z"
    },
    "hidden": true,
    "run_control": {
     "marked": false
    }
   },
   "outputs": [],
   "source": [
    "import os\n",
    "import sys\n",
    "import time\n",
    "import filecmp\n",
    "import pyodbc\n",
    "import pythoncom\n",
    "# import sqlalchemy\n",
    "import numpy as np\n",
    "import pandas as pd\n",
    "import win32com.client\n",
    "import PySimpleGUI as sg\n",
    "from datetime import datetime\n",
    "from collections import defaultdict\n",
    "import math\n",
    "import csv\n",
    "from zipfile import ZipFile"
   ]
  },
  {
   "cell_type": "code",
   "execution_count": 4,
   "metadata": {
    "ExecuteTime": {
     "end_time": "2020-12-21T13:42:41.978313Z",
     "start_time": "2020-12-21T13:42:41.965168Z"
    },
    "hidden": true,
    "run_control": {
     "marked": false
    }
   },
   "outputs": [],
   "source": [
    "pd.set_option('display.max_rows', 500)"
   ]
  },
  {
   "cell_type": "markdown",
   "metadata": {
    "heading_collapsed": true
   },
   "source": [
    "# Functions"
   ]
  },
  {
   "cell_type": "markdown",
   "metadata": {
    "hidden": true
   },
   "source": [
    "## Functions"
   ]
  },
  {
   "cell_type": "markdown",
   "metadata": {
    "hidden": true
   },
   "source": [
    "### Insert Function"
   ]
  },
  {
   "cell_type": "code",
   "execution_count": 5,
   "metadata": {
    "ExecuteTime": {
     "end_time": "2020-12-21T13:42:42.623102Z",
     "start_time": "2020-12-21T13:42:42.620207Z"
    },
    "hidden": true,
    "run_control": {
     "marked": false
    }
   },
   "outputs": [],
   "source": [
    "def insert_sql_init(t_db_name=None, t_db_file=None, t_delimiter='\\t'):\n",
    "    insert_sql = f\"\"\"\n",
    "USE [OpsData]\n",
    "\n",
    "If OBJECT_ID('OpsData.dbo.{t_db_name}','U') is not Null \n",
    "BEGIN\n",
    "    TRUNCATE TABLE dbo.{t_db_name}\n",
    "END;\n",
    "\n",
    "BULK INSERT {t_db_name} FROM '{t_db_file}'\n",
    "WITH(\n",
    "    FirstRow = 2,\"\"\"\n",
    "    \n",
    "    if t_delimiter == '\\t':\n",
    "        insert_sql += \"\"\"\n",
    "FIELDTERMINATOR = '\\t',\"\"\"\n",
    "\n",
    "\n",
    "    elif t_delimiter == ',':\n",
    "        insert_sql +=\"\"\"\n",
    "FIELDTERMINATOR = ',',\"\"\"\n",
    "\n",
    "    insert_sql += \"\"\"\n",
    "ROWTERMINATOR = '\\\\n'\n",
    "); \"\"\"\n",
    "    \n",
    "    return insert_sql"
   ]
  },
  {
   "cell_type": "markdown",
   "metadata": {
    "hidden": true
   },
   "source": [
    "### init_c_df"
   ]
  },
  {
   "cell_type": "code",
   "execution_count": 6,
   "metadata": {
    "ExecuteTime": {
     "end_time": "2020-12-21T13:42:42.957111Z",
     "start_time": "2020-12-21T13:42:42.942176Z"
    },
    "hidden": true,
    "run_control": {
     "marked": false
    }
   },
   "outputs": [],
   "source": [
    "def init_c_df(c_df=None):\n",
    "    c_df = pd.read_excel(config_file, sheet_name='Files')\n",
    "    ### Add Processed File Column\n",
    "    c_df['Processed File'] = False\n",
    "    ### Add Processed Time Column\n",
    "    c_df['Processed Time'] = None\n",
    "    return c_df"
   ]
  },
  {
   "cell_type": "markdown",
   "metadata": {
    "hidden": true
   },
   "source": [
    "### create_date_run_df"
   ]
  },
  {
   "cell_type": "code",
   "execution_count": 7,
   "metadata": {
    "ExecuteTime": {
     "end_time": "2020-12-21T13:42:43.290691Z",
     "start_time": "2020-12-21T13:42:43.279650Z"
    },
    "hidden": true,
    "run_control": {
     "marked": false
    }
   },
   "outputs": [],
   "source": [
    "def create_date_run_df(target_year=None):\n",
    "    '''\n",
    "    Where target_year is a string in the format yyyy.\n",
    "    Defaults to current year when none is provided.\n",
    "    Returns pd.DataFrame with columns ['Date', 'LongDate', 'CalWeekYear']\n",
    "    '''\n",
    "    from datetime import datetime\n",
    "    \n",
    "    if not target_year:\n",
    "        print('Using current year')\n",
    "        target_year = datetime.now().strftime(\"%Y\")\n",
    "    \n",
    "    date_run = []\n",
    "\n",
    "    for _ in range(1, 53, 1):\n",
    "        d = f'{target_year}-W{_}'\n",
    "        \n",
    "        t_mondays_date = datetime.strptime(d + '-1', \"%Y-W%W-%w\") # -1 and -%w pattern tells the parser to pick the Monday in that week    \n",
    "        t_calendar_week = t_mondays_date.strftime('%V')\n",
    "\n",
    "        if int(t_calendar_week) == 1:\n",
    "            t_last_calendar_week = f\"52/{(int(t_mondays_date.strftime('%Y')) - 1)}\"\n",
    "        else:\n",
    "            t_last_calendar_week = f\"{int(t_calendar_week) - 1}/{t_mondays_date.strftime('%Y')}\"\n",
    "            \n",
    "        date_run.append([t_mondays_date, t_mondays_date.strftime('%A, %B %#d %Y'), t_last_calendar_week])\n",
    "    \n",
    "    date_run = pd.DataFrame( date_run, columns=['Date', 'LongDate', 'CalWeekYear'])\n",
    "    return date_run"
   ]
  },
  {
   "cell_type": "markdown",
   "metadata": {
    "heading_collapsed": true,
    "hidden": true
   },
   "source": [
    "### Get Empty DataFrame"
   ]
  },
  {
   "cell_type": "code",
   "execution_count": 8,
   "metadata": {
    "ExecuteTime": {
     "end_time": "2020-12-21T13:42:43.658952Z",
     "start_time": "2020-12-21T13:42:43.612837Z"
    },
    "hidden": true,
    "run_control": {
     "marked": false
    }
   },
   "outputs": [],
   "source": [
    "def get_empty_dataframe():\n",
    "    return pd.DataFrame([])"
   ]
  },
  {
   "cell_type": "markdown",
   "metadata": {
    "hidden": true
   },
   "source": [
    "### Subprocess Kill"
   ]
  },
  {
   "cell_type": "code",
   "execution_count": 9,
   "metadata": {
    "ExecuteTime": {
     "end_time": "2020-12-21T13:42:44.003490Z",
     "start_time": "2020-12-21T13:42:43.980411Z"
    },
    "hidden": true,
    "run_control": {
     "marked": false
    }
   },
   "outputs": [],
   "source": [
    "def kill_with_subprocess(process_name):\n",
    "    # Example: kill_with_suprocess('EXCEL.EXE')\n",
    "    \n",
    "    import subprocess\n",
    "    \n",
    "    subprocess.call([\"taskkill\", \"/f\", \"/im\", \"EXCEL.EXE\"])\n",
    "    return True"
   ]
  },
  {
   "cell_type": "markdown",
   "metadata": {
    "hidden": true
   },
   "source": [
    "### Kill Processes Named"
   ]
  },
  {
   "cell_type": "code",
   "execution_count": 10,
   "metadata": {
    "ExecuteTime": {
     "end_time": "2020-12-21T13:42:44.343163Z",
     "start_time": "2020-12-21T13:42:44.328112Z"
    },
    "hidden": true,
    "run_control": {
     "marked": false
    }
   },
   "outputs": [],
   "source": [
    "def kill_all_processes_named(process_name):\n",
    "    # Example: kill_all_processes_named(\"EXCEL.EXE\")\n",
    "    \n",
    "    import psutil\n",
    "\n",
    "    for proc in psutil.process_iter():\n",
    "        if proc.name() == process_name:\n",
    "            proc.kill()"
   ]
  },
  {
   "cell_type": "markdown",
   "metadata": {
    "hidden": true
   },
   "source": [
    "### Change File To Read Write Mode"
   ]
  },
  {
   "cell_type": "code",
   "execution_count": 11,
   "metadata": {
    "ExecuteTime": {
     "end_time": "2020-12-21T13:42:44.714163Z",
     "start_time": "2020-12-21T13:42:44.699343Z"
    },
    "hidden": true,
    "run_control": {
     "marked": false
    }
   },
   "outputs": [],
   "source": [
    "def file_read_write_mode(abs_file):\n",
    "    import os\n",
    "    from stat import S_IREAD, S_IRGRP, S_IROTH, S_IWUSR\n",
    "    \n",
    "    os.chmod(abs_file, S_IWUSR|S_IREAD) # This makes the file read/write for the owner"
   ]
  },
  {
   "cell_type": "markdown",
   "metadata": {
    "hidden": true
   },
   "source": [
    "### Change File To Read Only Mode"
   ]
  },
  {
   "cell_type": "code",
   "execution_count": 12,
   "metadata": {
    "ExecuteTime": {
     "end_time": "2020-12-21T13:42:45.073994Z",
     "start_time": "2020-12-21T13:42:45.059456Z"
    },
    "hidden": true,
    "run_control": {
     "marked": false
    }
   },
   "outputs": [],
   "source": [
    "def file_read_only_mode(abs_file):\n",
    "    import os\n",
    "    from stat import S_IREAD, S_IRGRP, S_IROTH, S_IWUSR\n",
    "    \n",
    "    os.chmod(abs_file, S_IREAD|S_IRGRP|S_IROTH)"
   ]
  },
  {
   "cell_type": "markdown",
   "metadata": {
    "hidden": true
   },
   "source": [
    "### Close Program By Force"
   ]
  },
  {
   "cell_type": "code",
   "execution_count": 13,
   "metadata": {
    "ExecuteTime": {
     "end_time": "2020-12-21T13:42:45.414681Z",
     "start_time": "2020-12-21T13:42:45.399782Z"
    },
    "hidden": true,
    "run_control": {
     "marked": false
    }
   },
   "outputs": [],
   "source": [
    "def close_by_force(app): \n",
    "    '''\n",
    "    close_by_force(excel_app)\n",
    "    '''\n",
    "\n",
    "    import win32process\n",
    "    import win32gui\n",
    "    import win32api\n",
    "    import win32con\n",
    "\n",
    "    \n",
    "    try:\n",
    "        hwnd = app.hWndAccessApp() # Get the window's process id's\n",
    "    except AttributeError:\n",
    "        hwnd = app.hWnd # Get the window's process id's\n",
    "        \n",
    "    t, p = win32process.GetWindowThreadProcessId(hwnd)\n",
    "    \n",
    "    win32gui.PostMessage(hwnd, win32con.WM_CLOSE, 0, 0) # Ask window nicely to close\n",
    "\n",
    "    time.sleep(1)\n",
    "    \n",
    "    try:\n",
    "        handle = win32api.OpenProcess(win32con.PROCESS_TERMINATE, 0, p)\n",
    "        if handle:\n",
    "            win32api.TerminateProcess(handle, 0)\n",
    "            win32api.CloseHandle(handle)\n",
    "    except:\n",
    "        pass\n"
   ]
  },
  {
   "cell_type": "markdown",
   "metadata": {
    "hidden": true
   },
   "source": [
    "### Robocopy File"
   ]
  },
  {
   "cell_type": "code",
   "execution_count": 14,
   "metadata": {
    "ExecuteTime": {
     "end_time": "2020-12-21T13:42:45.783105Z",
     "start_time": "2020-12-21T13:42:45.746465Z"
    },
    "hidden": true,
    "run_control": {
     "marked": false
    }
   },
   "outputs": [],
   "source": [
    "def robocopy_file(src, dst, file, verbose=True):\n",
    "    '''\n",
    "    Example:\n",
    "        src = r'C:\\\\Users\\\\1155449\\\\project_home\\\\shopload_report\\\\Reports'\n",
    "        dst = r'O:\\\\Manufacturing\\\\BAM Data Reports\\\\ShopLoad\\\\A STAFFING CENSUS FILES\\\\Shopload Files 2020\\\\06 June 2020 Shopload'\n",
    "        file = r'Shopload 06 June 2020-Judged Pass 2 - 23Jun2020 12.xlsb'\n",
    "    '''\n",
    "    import subprocess\n",
    "    \n",
    "    output = subprocess.run(['robocopy.exe',\n",
    "                            src,\n",
    "                            dst, \n",
    "                            file,\n",
    "                            '/Z',\n",
    "                            '/R:5',\n",
    "                            '/W:5',\n",
    "                            '/V',\n",
    "                            '/MT:16',\n",
    "                            '/J',\n",
    "                            '/XO',\n",
    "                            '/TEE'],\n",
    "                            capture_output=True,\n",
    "                            text=True)\n",
    "    if verbose:\n",
    "        print(output.stdout)\n",
    "        \n",
    "    return output"
   ]
  },
  {
   "cell_type": "markdown",
   "metadata": {
    "hidden": true
   },
   "source": [
    "### Multi-Threading Robocopy Files"
   ]
  },
  {
   "cell_type": "code",
   "execution_count": 15,
   "metadata": {
    "ExecuteTime": {
     "end_time": "2020-12-21T13:42:46.122422Z",
     "start_time": "2020-12-21T13:42:46.106869Z"
    },
    "hidden": true,
    "run_control": {
     "marked": false
    }
   },
   "outputs": [],
   "source": [
    "def robocopy_multithreading(srcs, dsts, files, verbose=False):\n",
    "    import concurrent.futures\n",
    "    \n",
    "    with concurrent.futures.ThreadPoolExecutor() as executor:\n",
    "        executor.map( robocopy_file, srcs, dsts, files, verbose)"
   ]
  },
  {
   "cell_type": "markdown",
   "metadata": {
    "heading_collapsed": true,
    "hidden": true
   },
   "source": [
    "### Universal Path"
   ]
  },
  {
   "cell_type": "code",
   "execution_count": 16,
   "metadata": {
    "ExecuteTime": {
     "end_time": "2020-12-21T13:42:46.477862Z",
     "start_time": "2020-12-21T13:42:46.464662Z"
    },
    "hidden": true,
    "run_control": {
     "marked": false
    }
   },
   "outputs": [],
   "source": [
    "def jupyter_notebook_path():\n",
    "    \"\"\"Returns the absolute path of the Notebook or None if it cannot be determined\n",
    "    NOTE: works only when the security is token-based or there is also no password\n",
    "    \"\"\"\n",
    "    import os\n",
    "    import ipykernel\n",
    "    from notebook import notebookapp\n",
    "    import urllib\n",
    "    import json\n",
    "    \n",
    "    connection_file = os.path.basename(ipykernel.get_connection_file())\n",
    "    kernel_id = connection_file.split('-', 1)[1].split('.')[0]\n",
    "\n",
    "    for srv in notebookapp.list_running_servers():\n",
    "        try:\n",
    "            if srv['token']=='' and not srv['password']:  # No token and no password, ahem...\n",
    "                req = urllib.request.urlopen(srv['url']+'api/sessions')\n",
    "            else:\n",
    "                req = urllib.request.urlopen(srv['url']+'api/sessions?token='+srv['token'])\n",
    "            sessions = json.load(req)\n",
    "            for sess in sessions:\n",
    "                if sess['kernel']['id'] == kernel_id:\n",
    "                    return os.path.join(srv['notebook_dir'],sess['notebook']['path'])\n",
    "        except:\n",
    "            pass  # There may be stale entries in the runtime directory \n",
    "    return None\n",
    "\n",
    "\n",
    "def pyinstaller_path():\n",
    "    import os\n",
    "    import sys\n",
    "    \n",
    "    # determine if application is a script file or frozen exe\n",
    "    if getattr(sys, 'frozen', False):\n",
    "        application_path = os.path.dirname(sys.executable)\n",
    "    elif __file__:\n",
    "        application_path = os.path.dirname(__file__)\n",
    "    return application_path\n",
    "\n",
    "\n",
    "\n",
    "\n",
    "def get_universal_path(path=None):\n",
    "    '''\n",
    "    Example:\n",
    "        get_universal_path(  'O:/Manufacturing/BAM Data Reports/CLIN OTD/2020/0920/Archive'  )\n",
    "        \n",
    "        '\\\\\\\\estp-fs003.stp.us.ray.com\\\\w2k-projects1\\\\Manufacturing\\\\BAM Data Reports\\\\CLIN OTD\\\\2020\\\\0920\\\\Archive'\n",
    "    '''\n",
    "    import os\n",
    "    import win32wnet\n",
    "    from win32net import error\n",
    "    \n",
    "    if path == None:\n",
    "        path = os.getcwd()\n",
    "    try:\n",
    "        return win32wnet.WNetGetUniversalName(os.path.abspath( path ))\n",
    "    except error:\n",
    "        return os.path.abspath( path )"
   ]
  },
  {
   "cell_type": "markdown",
   "metadata": {
    "hidden": true
   },
   "source": [
    "### Get Excel Cell Background Color"
   ]
  },
  {
   "cell_type": "code",
   "execution_count": 17,
   "metadata": {
    "ExecuteTime": {
     "end_time": "2020-12-21T13:42:46.841622Z",
     "start_time": "2020-12-21T13:42:46.827198Z"
    },
    "hidden": true,
    "run_control": {
     "marked": false
    }
   },
   "outputs": [],
   "source": [
    "def get_background_color(excel_rng):\n",
    "    return excel_rng.Interior.Color"
   ]
  },
  {
   "cell_type": "markdown",
   "metadata": {
    "hidden": true
   },
   "source": [
    "### Is Target Color"
   ]
  },
  {
   "cell_type": "code",
   "execution_count": 18,
   "metadata": {
    "ExecuteTime": {
     "end_time": "2020-12-21T13:42:47.207004Z",
     "start_time": "2020-12-21T13:42:47.188610Z"
    },
    "hidden": true,
    "run_control": {
     "marked": false
    }
   },
   "outputs": [],
   "source": [
    "def is_target_color(excel_interior_color):\n",
    "    return str(excel_interior_color) == '15917529.0' or str(excel_interior_color) == '15917529'"
   ]
  },
  {
   "cell_type": "markdown",
   "metadata": {},
   "source": [
    "# Parameters"
   ]
  },
  {
   "cell_type": "markdown",
   "metadata": {
    "heading_collapsed": true
   },
   "source": [
    "## Parameters"
   ]
  },
  {
   "cell_type": "markdown",
   "metadata": {
    "hidden": true
   },
   "source": [
    "### Current Date"
   ]
  },
  {
   "cell_type": "code",
   "execution_count": 19,
   "metadata": {
    "ExecuteTime": {
     "end_time": "2020-12-21T13:42:48.341961Z",
     "start_time": "2020-12-21T13:42:48.337064Z"
    },
    "hidden": true,
    "run_control": {
     "marked": false
    }
   },
   "outputs": [],
   "source": [
    "cur_date = datetime.now()"
   ]
  },
  {
   "cell_type": "markdown",
   "metadata": {
    "hidden": true
   },
   "source": [
    "### Abs Executable Folder"
   ]
  },
  {
   "cell_type": "code",
   "execution_count": 20,
   "metadata": {
    "ExecuteTime": {
     "end_time": "2020-12-21T13:42:48.745373Z",
     "start_time": "2020-12-21T13:42:48.706593Z"
    },
    "hidden": true,
    "run_control": {
     "marked": false
    }
   },
   "outputs": [],
   "source": [
    "abs_execuatble_folder = get_universal_path()"
   ]
  },
  {
   "cell_type": "markdown",
   "metadata": {
    "hidden": true
   },
   "source": [
    "### Config File"
   ]
  },
  {
   "cell_type": "code",
   "execution_count": 21,
   "metadata": {
    "ExecuteTime": {
     "end_time": "2020-12-21T13:42:54.635011Z",
     "start_time": "2020-12-21T13:42:49.083113Z"
    },
    "hidden": true,
    "run_control": {
     "marked": false
    }
   },
   "outputs": [],
   "source": [
    "try:\n",
    "    config_file\n",
    "except:\n",
    "    config_file = get_universal_path(sg.PopupGetFile('Select The CATS Config File', keep_on_top=True, initial_folder=abs_execuatble_folder))"
   ]
  },
  {
   "cell_type": "markdown",
   "metadata": {},
   "source": [
    "## Import c_df, p_df, And cats_col_df"
   ]
  },
  {
   "cell_type": "markdown",
   "metadata": {
    "heading_collapsed": true
   },
   "source": [
    "### c_df"
   ]
  },
  {
   "cell_type": "code",
   "execution_count": 22,
   "metadata": {
    "ExecuteTime": {
     "end_time": "2020-12-21T13:42:54.755286Z",
     "start_time": "2020-12-21T13:42:54.637366Z"
    },
    "hidden": true,
    "run_control": {
     "marked": false
    }
   },
   "outputs": [],
   "source": [
    "try:\n",
    "    c_df\n",
    "except:\n",
    "    c_df = init_c_df()"
   ]
  },
  {
   "cell_type": "markdown",
   "metadata": {
    "heading_collapsed": true
   },
   "source": [
    "### p_df"
   ]
  },
  {
   "cell_type": "code",
   "execution_count": 23,
   "metadata": {
    "ExecuteTime": {
     "end_time": "2020-12-21T13:42:54.813104Z",
     "start_time": "2020-12-21T13:42:54.757031Z"
    },
    "hidden": true,
    "run_control": {
     "marked": false
    }
   },
   "outputs": [],
   "source": [
    "try:\n",
    "    p_df\n",
    "except:\n",
    "    p_df = pd.read_excel(config_file, sheet_name='Parameters')"
   ]
  },
  {
   "cell_type": "markdown",
   "metadata": {
    "heading_collapsed": true
   },
   "source": [
    "### Archive Folder"
   ]
  },
  {
   "cell_type": "code",
   "execution_count": 24,
   "metadata": {
    "ExecuteTime": {
     "end_time": "2020-12-21T13:42:54.831175Z",
     "start_time": "2020-12-21T13:42:54.814253Z"
    },
    "hidden": true,
    "run_control": {
     "marked": false
    }
   },
   "outputs": [],
   "source": [
    "archive_folder = get_universal_path(p_df.loc[0, 'Archive Folder'])"
   ]
  },
  {
   "cell_type": "markdown",
   "metadata": {
    "heading_collapsed": true
   },
   "source": [
    "### col_map_df"
   ]
  },
  {
   "cell_type": "code",
   "execution_count": 25,
   "metadata": {
    "ExecuteTime": {
     "end_time": "2020-12-21T13:42:54.894210Z",
     "start_time": "2020-12-21T13:42:54.831175Z"
    },
    "hidden": true,
    "run_control": {
     "marked": false
    }
   },
   "outputs": [],
   "source": [
    "try:\n",
    "    col_map_df\n",
    "except:\n",
    "    col_map_df = pd.read_excel(config_file, sheet_name='CATS Hours Column Mapping')"
   ]
  },
  {
   "cell_type": "markdown",
   "metadata": {},
   "source": [
    "### Output Folder"
   ]
  },
  {
   "cell_type": "code",
   "execution_count": 26,
   "metadata": {
    "ExecuteTime": {
     "end_time": "2020-12-21T13:42:54.913475Z",
     "start_time": "2020-12-21T13:42:54.894923Z"
    },
    "run_control": {
     "marked": false
    }
   },
   "outputs": [],
   "source": [
    "try:\n",
    "    output_folder\n",
    "except:\n",
    "    output_folder = p_df.loc[0, 'Output Folder']"
   ]
  },
  {
   "cell_type": "markdown",
   "metadata": {},
   "source": [
    "### Use Database Tables"
   ]
  },
  {
   "cell_type": "code",
   "execution_count": 27,
   "metadata": {
    "ExecuteTime": {
     "end_time": "2020-12-21T13:42:54.936867Z",
     "start_time": "2020-12-21T13:42:54.914644Z"
    },
    "run_control": {
     "marked": false
    }
   },
   "outputs": [],
   "source": [
    "try:\n",
    "    use_db_tables\n",
    "except:\n",
    "    use_db_tables = p_df.loc[0, 'Use Database Tables']"
   ]
  },
  {
   "cell_type": "markdown",
   "metadata": {},
   "source": [
    "### Copy Locally"
   ]
  },
  {
   "cell_type": "code",
   "execution_count": 28,
   "metadata": {
    "ExecuteTime": {
     "end_time": "2020-12-21T13:42:54.964547Z",
     "start_time": "2020-12-21T13:42:54.940643Z"
    },
    "run_control": {
     "marked": false
    }
   },
   "outputs": [],
   "source": [
    "try:\n",
    "    copy_locally\n",
    "except:\n",
    "    copy_locally = p_df.loc[0, 'Copy Locally']"
   ]
  },
  {
   "cell_type": "code",
   "execution_count": 29,
   "metadata": {
    "ExecuteTime": {
     "end_time": "2020-12-21T13:42:54.992154Z",
     "start_time": "2020-12-21T13:42:54.967205Z"
    },
    "run_control": {
     "marked": false
    }
   },
   "outputs": [],
   "source": [
    "if use_db_tables and copy_locally:\n",
    "    if sg.PopupYesNo('Do You Want To Use Database Tables?') == 'Yes':\n",
    "        copy_locally = False\n",
    "    else:\n",
    "        use_db_tables = False"
   ]
  },
  {
   "cell_type": "markdown",
   "metadata": {},
   "source": [
    "### Archive Source Files Before CATS Update"
   ]
  },
  {
   "cell_type": "code",
   "execution_count": 30,
   "metadata": {
    "ExecuteTime": {
     "end_time": "2020-12-21T13:42:55.701538Z",
     "start_time": "2020-12-21T13:42:54.992154Z"
    },
    "run_control": {
     "marked": false
    }
   },
   "outputs": [
    {
     "name": "stdout",
     "output_type": "stream",
     "text": [
      "Archiving Source Files Before CATS Update\n"
     ]
    }
   ],
   "source": [
    "if copy_locally:\n",
    "    print('Archiving Source Files Before CATS Update')\n",
    "    pre_excel_zip_file = os.path.join(archive_folder, f\"CATS Source Files - Pre - {datetime.now().strftime('%#d%b%Y %#H%M')}.zip\")\n",
    "\n",
    "    with ZipFile(pre_excel_zip_file, 'w') as zip_obj:\n",
    "        for _ in list(c_df[c_df['Use File'] == True]['Local File']):\n",
    "            zip_obj.write(_, os.path.basename(_))"
   ]
  },
  {
   "cell_type": "markdown",
   "metadata": {},
   "source": [
    "### Local Folder"
   ]
  },
  {
   "cell_type": "code",
   "execution_count": 31,
   "metadata": {
    "ExecuteTime": {
     "end_time": "2020-12-21T13:42:55.721538Z",
     "start_time": "2020-12-21T13:42:55.702855Z"
    },
    "run_control": {
     "marked": false
    }
   },
   "outputs": [],
   "source": [
    "if copy_locally:\n",
    "    try:\n",
    "        local_folder\n",
    "    except:\n",
    "        local_folder = p_df.loc[0, 'Local Folder']"
   ]
  },
  {
   "cell_type": "markdown",
   "metadata": {},
   "source": [
    "### CATS Local Files"
   ]
  },
  {
   "cell_type": "code",
   "execution_count": 32,
   "metadata": {
    "ExecuteTime": {
     "end_time": "2020-12-21T13:42:55.741580Z",
     "start_time": "2020-12-21T13:42:55.722905Z"
    },
    "run_control": {
     "marked": false
    }
   },
   "outputs": [],
   "source": [
    "if copy_locally:\n",
    "    local_cats_file = list(c_df[c_df['Access Table Name'] == 'CATS_Hours']['Local File'])[0]"
   ]
  },
  {
   "cell_type": "markdown",
   "metadata": {},
   "source": [
    "### Old - Create Robocopy Lists For CATS Source Files"
   ]
  },
  {
   "cell_type": "code",
   "execution_count": 33,
   "metadata": {
    "ExecuteTime": {
     "end_time": "2020-12-21T13:42:55.761449Z",
     "start_time": "2020-12-21T13:42:55.742462Z"
    },
    "run_control": {
     "marked": false
    }
   },
   "outputs": [],
   "source": [
    "if copy_locally:\n",
    "    srcs = []\n",
    "    dsts = []\n",
    "    files = []\n",
    "    verbs = []\n",
    "\n",
    "    for idx, _ in c_df.iterrows():\n",
    "        if c_df.loc[idx, 'Use File']:\n",
    "            t_src = os.path.dirname( c_df.loc[idx, 'Source File'] )\n",
    "            srcs.append(t_src)\n",
    "\n",
    "            t_filename = c_df.loc[idx, 'Basename']\n",
    "            files.append(t_filename)\n",
    "\n",
    "            dsts.append(local_folder)\n",
    "\n",
    "            verbs.append(True)\n",
    "\n",
    "    del t_src\n",
    "    del t_filename"
   ]
  },
  {
   "cell_type": "markdown",
   "metadata": {},
   "source": [
    "## Robocopy Source Files "
   ]
  },
  {
   "cell_type": "markdown",
   "metadata": {},
   "source": [
    "### Create File Compare DataFrame t_df"
   ]
  },
  {
   "cell_type": "code",
   "execution_count": 34,
   "metadata": {
    "ExecuteTime": {
     "end_time": "2020-12-21T13:42:55.781554Z",
     "start_time": "2020-12-21T13:42:55.763670Z"
    },
    "run_control": {
     "marked": false
    }
   },
   "outputs": [],
   "source": [
    "t_df = c_df.copy(deep=True)\n",
    "\n",
    "t_df['Source Folder'] = [get_universal_path(os.path.dirname(x)) for x in list(t_df.loc[:, 'Source File'])]\n",
    "\n",
    "t_df['Network Files'] = t_df.groupby(['Source Folder'])['Source Folder'].transform(lambda x : '|'.join(x)) \n",
    "t_df['Basenames'] = t_df.groupby(['Source Folder'])['Basename'].transform(lambda x : '|'.join(x)) \n",
    "t_df['Local Files'] = t_df.groupby(['Source Folder'])['Local File'].transform(lambda x : '|'.join(x)) \n",
    "\n",
    "t_df = t_df[['Source Folder', 'Network Files', 'Basenames', 'Local Files']]\n",
    "\n",
    "t_df.drop_duplicates(inplace=True)"
   ]
  },
  {
   "cell_type": "markdown",
   "metadata": {},
   "source": [
    "### Robocopy Supporting CATS Files"
   ]
  },
  {
   "cell_type": "code",
   "execution_count": 35,
   "metadata": {
    "ExecuteTime": {
     "end_time": "2020-12-21T13:42:56.644334Z",
     "start_time": "2020-12-21T13:42:55.782673Z"
    },
    "run_control": {
     "marked": false
    }
   },
   "outputs": [],
   "source": [
    "if copy_locally:\n",
    "    for idx, _ in t_df.iterrows():\n",
    "        network_folder = t_df.loc[idx, 'Source Folder']\n",
    "        common_files = t_df.loc[idx, 'Basenames'].split('|')\n",
    "        \n",
    "        match, mismatch, errors = filecmp.cmpfiles(network_folder, local_folder, common=common_files)\n",
    "        \n",
    "        while len(errors) > 0:\n",
    "            print(f'Updating {len(errors)} Out Of {len(common_files)} File(s)')\n",
    "            src_folders = [network_folder for _ in errors]\n",
    "            dst_folders = [local_folder for _ in errors]\n",
    "            verbs = [True for _ in errors]\n",
    "            \n",
    "            robocopy_multithreading(srcs=src_folders, dsts=dst_folders, files=errors, verbose=verbs)\n",
    "            time.sleep(2)\n",
    "            match, mismatch, errors = filecmp.cmpfiles(network_folder, local_folder, common=common_files)\n",
    "\n",
    "            if len(errors) == 0:\n",
    "                print(f'No Errors, Exiting Loop...')\n",
    "                "
   ]
  },
  {
   "cell_type": "code",
   "execution_count": 36,
   "metadata": {
    "ExecuteTime": {
     "end_time": "2020-12-21T13:43:01.247433Z",
     "start_time": "2020-12-21T13:43:01.220976Z"
    },
    "run_control": {
     "marked": false
    }
   },
   "outputs": [],
   "source": [
    "if copy_locally:\n",
    "    idx = 0\n",
    "    network_folder = t_df.loc[idx, 'Source Folder']\n",
    "    common_files = t_df.loc[idx, 'Basenames'].split('|')\n",
    "\n",
    "    match, mismatch, errors = filecmp.cmpfiles(network_folder, local_folder, common=common_files)\n",
    "\n",
    "    while len(errors) > 0:\n",
    "        print(f'Updating {len(errors)} Out Of {len(common_files)} File(s)')\n",
    "        src_folders = [network_folder for _ in errors]\n",
    "        dst_folders = [local_folder for _ in errors]\n",
    "        verbs = [True for _ in errors]\n",
    "\n",
    "        robocopy_multithreading(srcs=src_folders, dsts=dst_folders, files=errors, verbose=verbs)\n",
    "        time.sleep(2)\n",
    "        match, mismatch, errors = filecmp.cmpfiles(network_folder, local_folder, common=common_files)\n",
    "\n",
    "        if len(errors) == 0:\n",
    "            print(f'No Errors, Exiting Loop...')\n"
   ]
  },
  {
   "cell_type": "code",
   "execution_count": 38,
   "metadata": {
    "ExecuteTime": {
     "end_time": "2020-12-21T13:43:18.006795Z",
     "start_time": "2020-12-21T13:43:17.820294Z"
    }
   },
   "outputs": [],
   "source": [
    "match, mismatch, errors = filecmp.cmpfiles(network_folder, local_folder, common=common_files)"
   ]
  },
  {
   "cell_type": "code",
   "execution_count": 42,
   "metadata": {
    "ExecuteTime": {
     "end_time": "2020-12-21T13:43:42.935855Z",
     "start_time": "2020-12-21T13:43:42.907121Z"
    }
   },
   "outputs": [
    {
     "data": {
      "text/plain": [
       "['Activity Mapping.txt',\n",
       " 'IDExceptionMapping.csv',\n",
       " 'Mapping 1.txt',\n",
       " 'WORKCENTERTOCELL.txt',\n",
       " 'PRISIMPoolMapping.txt']"
      ]
     },
     "execution_count": 42,
     "metadata": {},
     "output_type": "execute_result"
    }
   ],
   "source": [
    "match"
   ]
  },
  {
   "cell_type": "code",
   "execution_count": 41,
   "metadata": {
    "ExecuteTime": {
     "end_time": "2020-12-21T13:43:38.574546Z",
     "start_time": "2020-12-21T13:43:38.533368Z"
    }
   },
   "outputs": [
    {
     "data": {
      "text/plain": [
       "[]"
      ]
     },
     "execution_count": 41,
     "metadata": {},
     "output_type": "execute_result"
    }
   ],
   "source": [
    "errors"
   ]
  },
  {
   "cell_type": "code",
   "execution_count": 40,
   "metadata": {
    "ExecuteTime": {
     "end_time": "2020-12-21T13:43:30.984572Z",
     "start_time": "2020-12-21T13:43:30.940485Z"
    }
   },
   "outputs": [
    {
     "data": {
      "text/plain": [
       "['CATS_Hours.txt',\n",
       " 'CostCenterMapping.txt',\n",
       " 'Depot.csv',\n",
       " 'ProductionPegging.csv']"
      ]
     },
     "execution_count": 40,
     "metadata": {},
     "output_type": "execute_result"
    }
   ],
   "source": [
    "mismatch"
   ]
  },
  {
   "cell_type": "code",
   "execution_count": 39,
   "metadata": {
    "ExecuteTime": {
     "end_time": "2020-12-21T13:43:25.998294Z",
     "start_time": "2020-12-21T13:43:25.956783Z"
    }
   },
   "outputs": [
    {
     "data": {
      "text/plain": [
       "['Activity Mapping.txt',\n",
       " 'CATS_Hours.txt',\n",
       " 'CostCenterMapping.txt',\n",
       " 'Depot.csv',\n",
       " 'IDExceptionMapping.csv',\n",
       " 'Mapping 1.txt',\n",
       " 'WORKCENTERTOCELL.txt',\n",
       " 'PRISIMPoolMapping.txt',\n",
       " 'ProductionPegging.csv']"
      ]
     },
     "execution_count": 39,
     "metadata": {},
     "output_type": "execute_result"
    }
   ],
   "source": [
    "common_files"
   ]
  },
  {
   "cell_type": "code",
   "execution_count": 44,
   "metadata": {
    "ExecuteTime": {
     "end_time": "2020-12-21T13:46:12.739946Z",
     "start_time": "2020-12-21T13:46:12.713528Z"
    }
   },
   "outputs": [
    {
     "data": {
      "text/html": [
       "<div>\n",
       "<style scoped>\n",
       "    .dataframe tbody tr th:only-of-type {\n",
       "        vertical-align: middle;\n",
       "    }\n",
       "\n",
       "    .dataframe tbody tr th {\n",
       "        vertical-align: top;\n",
       "    }\n",
       "\n",
       "    .dataframe thead th {\n",
       "        text-align: right;\n",
       "    }\n",
       "</style>\n",
       "<table border=\"1\" class=\"dataframe\">\n",
       "  <thead>\n",
       "    <tr style=\"text-align: right;\">\n",
       "      <th></th>\n",
       "      <th>Source Folder</th>\n",
       "      <th>Network Files</th>\n",
       "      <th>Basenames</th>\n",
       "      <th>Local Files</th>\n",
       "    </tr>\n",
       "  </thead>\n",
       "  <tbody>\n",
       "    <tr>\n",
       "      <th>0</th>\n",
       "      <td>\\\\v2GBSdwesSQL01\\IMPORT\\OPS</td>\n",
       "      <td>\\\\v2GBSdwesSQL01\\IMPORT\\OPS|\\\\v2GBSdwesSQL01\\I...</td>\n",
       "      <td>Activity Mapping.txt|CATS_Hours.txt|CostCenter...</td>\n",
       "      <td>C:\\Users\\1155449\\project_home\\cats\\Reports\\Tem...</td>\n",
       "    </tr>\n",
       "    <tr>\n",
       "      <th>9</th>\n",
       "      <td>\\\\estp-fs003.stp.us.ray.com\\w2k-projects1\\Manu...</td>\n",
       "      <td>\\\\estp-fs003.stp.us.ray.com\\w2k-projects1\\Manu...</td>\n",
       "      <td>Largo Headcount All With Sigma Level.xlsx</td>\n",
       "      <td>C:\\Users\\1155449\\project_home\\cats\\Reports\\Tem...</td>\n",
       "    </tr>\n",
       "    <tr>\n",
       "      <th>10</th>\n",
       "      <td>\\\\estp-fs003.stp.us.ray.com\\w2k-projects1\\Manu...</td>\n",
       "      <td>\\\\estp-fs003.stp.us.ray.com\\w2k-projects1\\Manu...</td>\n",
       "      <td>Master Program XREF.xlsx|WBS XREF.xlsm|Master ...</td>\n",
       "      <td>C:\\Users\\1155449\\project_home\\cats\\Reports\\Tem...</td>\n",
       "    </tr>\n",
       "  </tbody>\n",
       "</table>\n",
       "</div>"
      ],
      "text/plain": [
       "                                        Source Folder  \\\n",
       "0                         \\\\v2GBSdwesSQL01\\IMPORT\\OPS   \n",
       "9   \\\\estp-fs003.stp.us.ray.com\\w2k-projects1\\Manu...   \n",
       "10  \\\\estp-fs003.stp.us.ray.com\\w2k-projects1\\Manu...   \n",
       "\n",
       "                                        Network Files  \\\n",
       "0   \\\\v2GBSdwesSQL01\\IMPORT\\OPS|\\\\v2GBSdwesSQL01\\I...   \n",
       "9   \\\\estp-fs003.stp.us.ray.com\\w2k-projects1\\Manu...   \n",
       "10  \\\\estp-fs003.stp.us.ray.com\\w2k-projects1\\Manu...   \n",
       "\n",
       "                                            Basenames  \\\n",
       "0   Activity Mapping.txt|CATS_Hours.txt|CostCenter...   \n",
       "9           Largo Headcount All With Sigma Level.xlsx   \n",
       "10  Master Program XREF.xlsx|WBS XREF.xlsm|Master ...   \n",
       "\n",
       "                                          Local Files  \n",
       "0   C:\\Users\\1155449\\project_home\\cats\\Reports\\Tem...  \n",
       "9   C:\\Users\\1155449\\project_home\\cats\\Reports\\Tem...  \n",
       "10  C:\\Users\\1155449\\project_home\\cats\\Reports\\Tem...  "
      ]
     },
     "execution_count": 44,
     "metadata": {},
     "output_type": "execute_result"
    }
   ],
   "source": [
    "t_df"
   ]
  },
  {
   "cell_type": "code",
   "execution_count": 47,
   "metadata": {
    "ExecuteTime": {
     "end_time": "2020-12-21T14:10:24.581465Z",
     "start_time": "2020-12-21T14:08:55.633283Z"
    },
    "scrolled": false
   },
   "outputs": [
    {
     "name": "stdout",
     "output_type": "stream",
     "text": [
      "\n",
      "-------------------------------------------------------------------------------\n",
      "   ROBOCOPY     ::     Robust File Copy for Windows                              \n",
      "-------------------------------------------------------------------------------\n",
      "\n",
      "  Started : Monday, December 21, 2020 9:08:55 AM\n",
      "   Source : \\\\v2GBSdwesSQL01\\IMPORT\\OPS\\\n",
      "     Dest : C:\\Users\\1155449\\project_home\\cats\\Reports\\Template\\\n",
      "\n",
      "    Files : Activity Mapping.txt\n",
      "\t    \n",
      "  Options : /V /TEE /DCOPY:DA /COPY:DAT /Z /J /XO /MT:16 /R:5 /W:5 \n",
      "\n",
      "------------------------------------------------------------------------------\n",
      "\n",
      "\t          same\t\t    6400\t\\\\v2GBSdwesSQL01\\IMPORT\\OPS\\Activity Mapping.txt\n",
      "\n",
      "------------------------------------------------------------------------------\n",
      "\n",
      "               Total    Copied   Skipped  Mismatch    FAILED    Extras\n",
      "    Dirs :         1         1         1         0         0         0\n",
      "   Files :         1         0         1         0         0         0\n",
      "   Bytes :     6.2 k         0     6.2 k         0         0         0\n",
      "   Times :   0:00:00   0:00:00                       0:00:00   0:00:00\n",
      "   Ended : Monday, December 21, 2020 9:08:56 AM\n",
      "\n",
      "\n",
      "\n",
      "-------------------------------------------------------------------------------\n",
      "   ROBOCOPY     ::     Robust File Copy for Windows                              \n",
      "-------------------------------------------------------------------------------\n",
      "\n",
      "  Started : Monday, December 21, 2020 9:08:55 AM\n",
      "   Source : \\\\v2GBSdwesSQL01\\IMPORT\\OPS\\\n",
      "     Dest : C:\\Users\\1155449\\project_home\\cats\\Reports\\Template\\\n",
      "\n",
      "    Files : Activity Mapping.txt\n",
      "\t    \n",
      "  Options : /V /TEE /DCOPY:DA /COPY:DAT /Z /J /XO /MT:16 /R:5 /W:5 \n",
      "\n",
      "------------------------------------------------------------------------------\n",
      "\n",
      "\t          same\t\t    6400\t\\\\v2GBSdwesSQL01\\IMPORT\\OPS\\Activity Mapping.txt\n",
      "\n",
      "------------------------------------------------------------------------------\n",
      "\n",
      "               Total    Copied   Skipped  Mismatch    FAILED    Extras\n",
      "    Dirs :         1         1         1         0         0         0\n",
      "   Files :         1         0         1         0         0         0\n",
      "   Bytes :     6.2 k         0     6.2 k         0         0         0\n",
      "   Times :   0:00:00   0:00:00                       0:00:00   0:00:00\n",
      "   Ended : Monday, December 21, 2020 9:08:56 AM\n",
      "\n",
      "\n",
      "\n",
      "-------------------------------------------------------------------------------\n",
      "   ROBOCOPY     ::     Robust File Copy for Windows                              \n",
      "-------------------------------------------------------------------------------\n",
      "\n",
      "  Started : Monday, December 21, 2020 9:08:56 AM\n",
      "   Source : \\\\v2GBSdwesSQL01\\IMPORT\\OPS\\\n",
      "     Dest : C:\\Users\\1155449\\project_home\\cats\\Reports\\Template\\\n",
      "\n",
      "    Files : CATS_Hours.txt\n",
      "\t    \n",
      "  Options : /V /TEE /DCOPY:DA /COPY:DAT /Z /J /XO /MT:16 /R:5 /W:5 \n",
      "\n",
      "------------------------------------------------------------------------------\n",
      "\n",
      "\t    Newer     \t\t 110.8 m\t\\\\v2GBSdwesSQL01\\IMPORT\\OPS\\CATS_Hours.txt\n",
      "  1%  \n",
      "  2%  \n",
      "  3%  \n",
      "  4%  \n",
      "  5%  \n",
      "  6%  \n",
      "  7%  \n",
      "  8%  \n",
      "  9%  \n",
      " 10%  \n",
      " 11%  \n",
      " 12%  \n",
      " 13%  \n",
      " 14%  \n",
      " 15%  \n",
      " 16%  \n",
      " 17%  \n",
      " 18%  \n",
      " 19%  \n",
      " 20%  \n",
      " 21%  \n",
      " 22%  \n",
      " 23%  \n",
      " 24%  \n",
      " 25%  \n",
      " 26%  \n",
      " 27%  \n",
      " 28%  \n",
      " 29%  \n",
      " 30%  \n",
      " 31%  \n",
      " 32%  \n",
      " 34%  \n",
      " 35%  \n",
      " 37%  \n",
      " 38%  \n",
      " 39%  \n",
      " 41%  \n",
      " 42%  \n",
      " 44%  \n",
      " 46%  \n",
      " 47%  \n",
      " 48%  \n",
      " 49%  \n",
      " 50%  \n",
      " 52%  \n",
      " 54%  \n",
      " 56%  \n",
      " 58%  \n",
      " 59%  \n",
      " 61%  \n",
      " 63%  \n",
      " 65%  \n",
      " 67%  \n",
      " 69%  \n",
      " 71%  \n",
      " 73%  \n",
      " 75%  \n",
      " 77%  \n",
      " 79%  \n",
      " 81%  \n",
      " 84%  \n",
      " 86%  \n",
      " 88%  \n",
      " 90%  \n",
      " 92%  \n",
      " 95%  \n",
      " 97%  \n",
      " 99%  \n",
      "100%  \n",
      "\n",
      "------------------------------------------------------------------------------\n",
      "\n",
      "               Total    Copied   Skipped  Mismatch    FAILED    Extras\n",
      "    Dirs :         1         1         1         0         0         0\n",
      "   Files :         1         1         0         0         0         0\n",
      "   Bytes :  110.88 m  110.88 m         0         0         0         0\n",
      "   Times :   0:01:23   0:00:20                       0:00:00   0:00:21\n",
      "\n",
      "\n",
      "   Speed :             5573010 Bytes/sec.\n",
      "   Speed :             318.890 MegaBytes/min.\n",
      "   Ended : Monday, December 21, 2020 9:09:38 AM\n",
      "\n",
      "\n",
      "\n",
      "-------------------------------------------------------------------------------\n",
      "   ROBOCOPY     ::     Robust File Copy for Windows                              \n",
      "-------------------------------------------------------------------------------\n",
      "\n",
      "  Started : Monday, December 21, 2020 9:08:56 AM\n",
      "   Source : \\\\v2GBSdwesSQL01\\IMPORT\\OPS\\\n",
      "     Dest : C:\\Users\\1155449\\project_home\\cats\\Reports\\Template\\\n",
      "\n",
      "    Files : CATS_Hours.txt\n",
      "\t    \n",
      "  Options : /V /TEE /DCOPY:DA /COPY:DAT /Z /J /XO /MT:16 /R:5 /W:5 \n",
      "\n",
      "------------------------------------------------------------------------------\n",
      "\n",
      "\t    Newer     \t\t 110.8 m\t\\\\v2GBSdwesSQL01\\IMPORT\\OPS\\CATS_Hours.txt\n",
      "  1%  \n",
      "  2%  \n",
      "  3%  \n",
      "  4%  \n",
      "  5%  \n",
      "  6%  \n",
      "  7%  \n",
      "  8%  \n",
      "  9%  \n",
      " 10%  \n",
      " 11%  \n",
      " 12%  \n",
      " 13%  \n",
      " 14%  \n",
      " 15%  \n",
      " 16%  \n",
      " 17%  \n",
      " 18%  \n",
      " 19%  \n",
      " 20%  \n",
      " 21%  \n",
      " 22%  \n",
      " 23%  \n",
      " 24%  \n",
      " 25%  \n",
      " 26%  \n",
      " 27%  \n",
      " 28%  \n",
      " 29%  \n",
      " 30%  \n",
      " 31%  \n",
      " 32%  \n",
      " 34%  \n",
      " 35%  \n",
      " 37%  \n",
      " 38%  \n",
      " 39%  \n",
      " 41%  \n",
      " 42%  \n",
      " 44%  \n",
      " 46%  \n",
      " 47%  \n",
      " 48%  \n",
      " 49%  \n",
      " 50%  \n",
      " 52%  \n",
      " 54%  \n",
      " 56%  \n",
      " 58%  \n",
      " 59%  \n",
      " 61%  \n",
      " 63%  \n",
      " 65%  \n",
      " 67%  \n",
      " 69%  \n",
      " 71%  \n",
      " 73%  \n",
      " 75%  \n",
      " 77%  \n",
      " 79%  \n",
      " 81%  \n",
      " 84%  \n",
      " 86%  \n",
      " 88%  \n",
      " 90%  \n",
      " 92%  \n",
      " 95%  \n",
      " 97%  \n",
      " 99%  \n",
      "100%  \n",
      "\n",
      "------------------------------------------------------------------------------\n",
      "\n",
      "               Total    Copied   Skipped  Mismatch    FAILED    Extras\n",
      "    Dirs :         1         1         1         0         0         0\n",
      "   Files :         1         1         0         0         0         0\n",
      "   Bytes :  110.88 m  110.88 m         0         0         0         0\n",
      "   Times :   0:01:23   0:00:20                       0:00:00   0:00:21\n",
      "\n",
      "\n",
      "   Speed :             5573010 Bytes/sec.\n",
      "   Speed :             318.890 MegaBytes/min.\n",
      "   Ended : Monday, December 21, 2020 9:09:38 AM\n",
      "\n",
      "\n",
      "\n",
      "-------------------------------------------------------------------------------\n",
      "   ROBOCOPY     ::     Robust File Copy for Windows                              \n",
      "-------------------------------------------------------------------------------\n",
      "\n",
      "  Started : Monday, December 21, 2020 9:09:38 AM\n",
      "   Source : \\\\v2GBSdwesSQL01\\IMPORT\\OPS\\\n",
      "     Dest : C:\\Users\\1155449\\project_home\\cats\\Reports\\Template\\\n",
      "\n",
      "    Files : CostCenterMapping.txt\n",
      "\t    \n",
      "  Options : /V /TEE /DCOPY:DA /COPY:DAT /Z /J /XO /MT:16 /R:5 /W:5 \n",
      "\n",
      "------------------------------------------------------------------------------\n",
      "\n",
      "\t         older\t\t   15406\t\\\\v2GBSdwesSQL01\\IMPORT\\OPS\\CostCenterMapping.txt\n",
      "\n",
      "------------------------------------------------------------------------------\n",
      "\n",
      "               Total    Copied   Skipped  Mismatch    FAILED    Extras\n",
      "    Dirs :         1         1         1         0         0         0\n",
      "   Files :         1         0         1         0         0         0\n",
      "   Bytes :    15.0 k         0    15.0 k         0         0         0\n",
      "   Times :   0:00:00   0:00:00                       0:00:00   0:00:00\n",
      "   Ended : Monday, December 21, 2020 9:09:38 AM\n",
      "\n",
      "\n",
      "\n",
      "-------------------------------------------------------------------------------\n",
      "   ROBOCOPY     ::     Robust File Copy for Windows                              \n",
      "-------------------------------------------------------------------------------\n",
      "\n",
      "  Started : Monday, December 21, 2020 9:09:38 AM\n",
      "   Source : \\\\v2GBSdwesSQL01\\IMPORT\\OPS\\\n",
      "     Dest : C:\\Users\\1155449\\project_home\\cats\\Reports\\Template\\\n",
      "\n",
      "    Files : CostCenterMapping.txt\n",
      "\t    \n",
      "  Options : /V /TEE /DCOPY:DA /COPY:DAT /Z /J /XO /MT:16 /R:5 /W:5 \n",
      "\n",
      "------------------------------------------------------------------------------\n",
      "\n",
      "\t         older\t\t   15406\t\\\\v2GBSdwesSQL01\\IMPORT\\OPS\\CostCenterMapping.txt\n",
      "\n",
      "------------------------------------------------------------------------------\n",
      "\n",
      "               Total    Copied   Skipped  Mismatch    FAILED    Extras\n",
      "    Dirs :         1         1         1         0         0         0\n",
      "   Files :         1         0         1         0         0         0\n",
      "   Bytes :    15.0 k         0    15.0 k         0         0         0\n",
      "   Times :   0:00:00   0:00:00                       0:00:00   0:00:00\n",
      "   Ended : Monday, December 21, 2020 9:09:38 AM\n",
      "\n",
      "\n",
      "\n",
      "-------------------------------------------------------------------------------\n",
      "   ROBOCOPY     ::     Robust File Copy for Windows                              \n",
      "-------------------------------------------------------------------------------\n",
      "\n",
      "  Started : Monday, December 21, 2020 9:09:38 AM\n",
      "   Source : \\\\v2GBSdwesSQL01\\IMPORT\\OPS\\\n",
      "     Dest : C:\\Users\\1155449\\project_home\\cats\\Reports\\Template\\\n",
      "\n",
      "    Files : Depot.csv\n",
      "\t    \n",
      "  Options : /V /TEE /DCOPY:DA /COPY:DAT /Z /J /XO /MT:16 /R:5 /W:5 \n",
      "\n",
      "------------------------------------------------------------------------------\n",
      "\n",
      "\t    Newer     \t\t  33.1 m\t\\\\v2GBSdwesSQL01\\IMPORT\\OPS\\Depot.csv\n",
      "  0%  \n",
      "  2%  \n",
      "  3%  \n",
      "  5%  \n",
      "  6%  \n",
      "  8%  \n",
      " 11%  \n",
      " 12%  \n",
      " 14%  \n",
      " 15%  \n",
      " 17%  \n",
      " 18%  \n",
      " 20%  \n",
      " 21%  \n",
      " 23%  \n",
      " 24%  \n",
      " 26%  \n",
      " 27%  \n",
      " 29%  \n",
      " 31%  \n",
      " 33%  \n",
      " 35%  \n",
      " 37%  \n",
      " 39%  \n",
      " 41%  \n",
      " 44%  \n",
      " 46%  \n",
      " 49%  \n",
      " 51%  \n",
      " 54%  \n",
      " 57%  \n",
      " 60%  \n",
      " 63%  \n",
      " 66%  \n",
      " 69%  \n",
      " 71%  \n",
      " 72%  \n",
      " 76%  \n",
      " 79%  \n",
      " 83%  \n",
      " 87%  \n",
      " 91%  \n",
      " 95%  \n",
      "100%  \n",
      "\n",
      "------------------------------------------------------------------------------\n",
      "\n",
      "               Total    Copied   Skipped  Mismatch    FAILED    Extras\n",
      "    Dirs :         1         1         1         0         0         0\n",
      "   Files :         1         1         0         0         0         0\n",
      "   Bytes :   33.10 m   33.10 m         0         0         0         0\n",
      "   Times :   0:00:29   0:00:07                       0:00:00   0:00:07\n",
      "\n",
      "\n",
      "   Speed :             4681334 Bytes/sec.\n",
      "   Speed :             267.868 MegaBytes/min.\n",
      "   Ended : Monday, December 21, 2020 9:09:54 AM\n",
      "\n",
      "\n",
      "\n",
      "-------------------------------------------------------------------------------\n",
      "   ROBOCOPY     ::     Robust File Copy for Windows                              \n",
      "-------------------------------------------------------------------------------\n",
      "\n",
      "  Started : Monday, December 21, 2020 9:09:38 AM\n",
      "   Source : \\\\v2GBSdwesSQL01\\IMPORT\\OPS\\\n",
      "     Dest : C:\\Users\\1155449\\project_home\\cats\\Reports\\Template\\\n",
      "\n",
      "    Files : Depot.csv\n",
      "\t    \n",
      "  Options : /V /TEE /DCOPY:DA /COPY:DAT /Z /J /XO /MT:16 /R:5 /W:5 \n",
      "\n",
      "------------------------------------------------------------------------------\n",
      "\n",
      "\t    Newer     \t\t  33.1 m\t\\\\v2GBSdwesSQL01\\IMPORT\\OPS\\Depot.csv\n",
      "  0%  \n",
      "  2%  \n",
      "  3%  \n",
      "  5%  \n",
      "  6%  \n",
      "  8%  \n",
      " 11%  \n",
      " 12%  \n",
      " 14%  \n",
      " 15%  \n",
      " 17%  \n",
      " 18%  \n",
      " 20%  \n",
      " 21%  \n",
      " 23%  \n",
      " 24%  \n",
      " 26%  \n",
      " 27%  \n",
      " 29%  \n",
      " 31%  \n",
      " 33%  \n",
      " 35%  \n",
      " 37%  \n",
      " 39%  \n",
      " 41%  \n",
      " 44%  \n",
      " 46%  \n",
      " 49%  \n",
      " 51%  \n",
      " 54%  \n",
      " 57%  \n",
      " 60%  \n",
      " 63%  \n",
      " 66%  \n",
      " 69%  \n",
      " 71%  \n",
      " 72%  \n",
      " 76%  \n",
      " 79%  \n",
      " 83%  \n",
      " 87%  \n",
      " 91%  \n",
      " 95%  \n",
      "100%  \n",
      "\n",
      "------------------------------------------------------------------------------\n",
      "\n",
      "               Total    Copied   Skipped  Mismatch    FAILED    Extras\n",
      "    Dirs :         1         1         1         0         0         0\n",
      "   Files :         1         1         0         0         0         0\n",
      "   Bytes :   33.10 m   33.10 m         0         0         0         0\n",
      "   Times :   0:00:29   0:00:07                       0:00:00   0:00:07\n",
      "\n",
      "\n",
      "   Speed :             4681334 Bytes/sec.\n",
      "   Speed :             267.868 MegaBytes/min.\n",
      "   Ended : Monday, December 21, 2020 9:09:54 AM\n",
      "\n",
      "\n"
     ]
    },
    {
     "name": "stdout",
     "output_type": "stream",
     "text": [
      "\n",
      "-------------------------------------------------------------------------------\n",
      "   ROBOCOPY     ::     Robust File Copy for Windows                              \n",
      "-------------------------------------------------------------------------------\n",
      "\n",
      "  Started : Monday, December 21, 2020 9:09:54 AM\n",
      "   Source : \\\\v2GBSdwesSQL01\\IMPORT\\OPS\\\n",
      "     Dest : C:\\Users\\1155449\\project_home\\cats\\Reports\\Template\\\n",
      "\n",
      "    Files : IDExceptionMapping.csv\n",
      "\t    \n",
      "  Options : /V /TEE /DCOPY:DA /COPY:DAT /Z /J /XO /MT:16 /R:5 /W:5 \n",
      "\n",
      "------------------------------------------------------------------------------\n",
      "\n",
      "\t          same\t\t      30\t\\\\v2GBSdwesSQL01\\IMPORT\\OPS\\IDExceptionMapping.csv\n",
      "\n",
      "------------------------------------------------------------------------------\n",
      "\n",
      "               Total    Copied   Skipped  Mismatch    FAILED    Extras\n",
      "    Dirs :         1         1         1         0         0         0\n",
      "   Files :         1         0         1         0         0         0\n",
      "   Bytes :        30         0        30         0         0         0\n",
      "   Times :   0:00:00   0:00:00                       0:00:00   0:00:00\n",
      "   Ended : Monday, December 21, 2020 9:09:54 AM\n",
      "\n",
      "\n",
      "\n",
      "-------------------------------------------------------------------------------\n",
      "   ROBOCOPY     ::     Robust File Copy for Windows                              \n",
      "-------------------------------------------------------------------------------\n",
      "\n",
      "  Started : Monday, December 21, 2020 9:09:54 AM\n",
      "   Source : \\\\v2GBSdwesSQL01\\IMPORT\\OPS\\\n",
      "     Dest : C:\\Users\\1155449\\project_home\\cats\\Reports\\Template\\\n",
      "\n",
      "    Files : IDExceptionMapping.csv\n",
      "\t    \n",
      "  Options : /V /TEE /DCOPY:DA /COPY:DAT /Z /J /XO /MT:16 /R:5 /W:5 \n",
      "\n",
      "------------------------------------------------------------------------------\n",
      "\n",
      "\t          same\t\t      30\t\\\\v2GBSdwesSQL01\\IMPORT\\OPS\\IDExceptionMapping.csv\n",
      "\n",
      "------------------------------------------------------------------------------\n",
      "\n",
      "               Total    Copied   Skipped  Mismatch    FAILED    Extras\n",
      "    Dirs :         1         1         1         0         0         0\n",
      "   Files :         1         0         1         0         0         0\n",
      "   Bytes :        30         0        30         0         0         0\n",
      "   Times :   0:00:00   0:00:00                       0:00:00   0:00:00\n",
      "   Ended : Monday, December 21, 2020 9:09:54 AM\n",
      "\n",
      "\n",
      "\n",
      "-------------------------------------------------------------------------------\n",
      "   ROBOCOPY     ::     Robust File Copy for Windows                              \n",
      "-------------------------------------------------------------------------------\n",
      "\n",
      "  Started : Monday, December 21, 2020 9:09:54 AM\n",
      "   Source : \\\\v2GBSdwesSQL01\\IMPORT\\OPS\\\n",
      "     Dest : C:\\Users\\1155449\\project_home\\cats\\Reports\\Template\\\n",
      "\n",
      "    Files : Mapping 1.txt\n",
      "\t    \n",
      "  Options : /V /TEE /DCOPY:DA /COPY:DAT /Z /J /XO /MT:16 /R:5 /W:5 \n",
      "\n",
      "------------------------------------------------------------------------------\n",
      "\n",
      "\t      modified\t\t     818\t\\\\v2GBSdwesSQL01\\IMPORT\\OPS\\Mapping 1.txt\n",
      "\n",
      "------------------------------------------------------------------------------\n",
      "\n",
      "               Total    Copied   Skipped  Mismatch    FAILED    Extras\n",
      "    Dirs :         1         1         1         0         0         0\n",
      "   Files :         1         0         1         0         0         0\n",
      "   Bytes :       818         0       818         0         0         0\n",
      "   Times :   0:00:00   0:00:00                       0:00:00   0:00:00\n",
      "   Ended : Monday, December 21, 2020 9:09:55 AM\n",
      "\n",
      "\n",
      "\n",
      "-------------------------------------------------------------------------------\n",
      "   ROBOCOPY     ::     Robust File Copy for Windows                              \n",
      "-------------------------------------------------------------------------------\n",
      "\n",
      "  Started : Monday, December 21, 2020 9:09:54 AM\n",
      "   Source : \\\\v2GBSdwesSQL01\\IMPORT\\OPS\\\n",
      "     Dest : C:\\Users\\1155449\\project_home\\cats\\Reports\\Template\\\n",
      "\n",
      "    Files : Mapping 1.txt\n",
      "\t    \n",
      "  Options : /V /TEE /DCOPY:DA /COPY:DAT /Z /J /XO /MT:16 /R:5 /W:5 \n",
      "\n",
      "------------------------------------------------------------------------------\n",
      "\n",
      "\t      modified\t\t     818\t\\\\v2GBSdwesSQL01\\IMPORT\\OPS\\Mapping 1.txt\n",
      "\n",
      "------------------------------------------------------------------------------\n",
      "\n",
      "               Total    Copied   Skipped  Mismatch    FAILED    Extras\n",
      "    Dirs :         1         1         1         0         0         0\n",
      "   Files :         1         0         1         0         0         0\n",
      "   Bytes :       818         0       818         0         0         0\n",
      "   Times :   0:00:00   0:00:00                       0:00:00   0:00:00\n",
      "   Ended : Monday, December 21, 2020 9:09:55 AM\n",
      "\n",
      "\n",
      "\n",
      "-------------------------------------------------------------------------------\n",
      "   ROBOCOPY     ::     Robust File Copy for Windows                              \n",
      "-------------------------------------------------------------------------------\n",
      "\n",
      "  Started : Monday, December 21, 2020 9:09:55 AM\n",
      "   Source : \\\\v2GBSdwesSQL01\\IMPORT\\OPS\\\n",
      "     Dest : C:\\Users\\1155449\\project_home\\cats\\Reports\\Template\\\n",
      "\n",
      "    Files : WORKCENTERTOCELL.txt\n",
      "\t    \n",
      "  Options : /V /TEE /DCOPY:DA /COPY:DAT /Z /J /XO /MT:16 /R:5 /W:5 \n",
      "\n",
      "------------------------------------------------------------------------------\n",
      "\n",
      "\t      modified\t\t   19491\t\\\\v2GBSdwesSQL01\\IMPORT\\OPS\\WORKCENTERTOCELL.txt\n",
      "\n",
      "------------------------------------------------------------------------------\n",
      "\n",
      "               Total    Copied   Skipped  Mismatch    FAILED    Extras\n",
      "    Dirs :         1         1         1         0         0         0\n",
      "   Files :         1         0         1         0         0         0\n",
      "   Bytes :    19.0 k         0    19.0 k         0         0         0\n",
      "   Times :   0:00:00   0:00:00                       0:00:00   0:00:00\n",
      "   Ended : Monday, December 21, 2020 9:09:55 AM\n",
      "\n",
      "\n",
      "\n",
      "-------------------------------------------------------------------------------\n",
      "   ROBOCOPY     ::     Robust File Copy for Windows                              \n",
      "-------------------------------------------------------------------------------\n",
      "\n",
      "  Started : Monday, December 21, 2020 9:09:55 AM\n",
      "   Source : \\\\v2GBSdwesSQL01\\IMPORT\\OPS\\\n",
      "     Dest : C:\\Users\\1155449\\project_home\\cats\\Reports\\Template\\\n",
      "\n",
      "    Files : WORKCENTERTOCELL.txt\n",
      "\t    \n",
      "  Options : /V /TEE /DCOPY:DA /COPY:DAT /Z /J /XO /MT:16 /R:5 /W:5 \n",
      "\n",
      "------------------------------------------------------------------------------\n",
      "\n",
      "\t      modified\t\t   19491\t\\\\v2GBSdwesSQL01\\IMPORT\\OPS\\WORKCENTERTOCELL.txt\n",
      "\n",
      "------------------------------------------------------------------------------\n",
      "\n",
      "               Total    Copied   Skipped  Mismatch    FAILED    Extras\n",
      "    Dirs :         1         1         1         0         0         0\n",
      "   Files :         1         0         1         0         0         0\n",
      "   Bytes :    19.0 k         0    19.0 k         0         0         0\n",
      "   Times :   0:00:00   0:00:00                       0:00:00   0:00:00\n",
      "   Ended : Monday, December 21, 2020 9:09:55 AM\n",
      "\n",
      "\n",
      "\n",
      "-------------------------------------------------------------------------------\n",
      "   ROBOCOPY     ::     Robust File Copy for Windows                              \n",
      "-------------------------------------------------------------------------------\n",
      "\n",
      "  Started : Monday, December 21, 2020 9:09:55 AM\n",
      "   Source : \\\\v2GBSdwesSQL01\\IMPORT\\OPS\\\n",
      "     Dest : C:\\Users\\1155449\\project_home\\cats\\Reports\\Template\\\n",
      "\n",
      "    Files : PRISIMPoolMapping.txt\n",
      "\t    \n",
      "  Options : /V /TEE /DCOPY:DA /COPY:DAT /Z /J /XO /MT:16 /R:5 /W:5 \n",
      "\n",
      "------------------------------------------------------------------------------\n",
      "\n",
      "\t      modified\t\t    9333\t\\\\v2GBSdwesSQL01\\IMPORT\\OPS\\PRISIMPoolMapping.txt\n",
      "\n",
      "------------------------------------------------------------------------------\n",
      "\n",
      "               Total    Copied   Skipped  Mismatch    FAILED    Extras\n",
      "    Dirs :         1         1         1         0         0         0\n",
      "   Files :         1         0         1         0         0         0\n",
      "   Bytes :     9.1 k         0     9.1 k         0         0         0\n",
      "   Times :   0:00:00   0:00:00                       0:00:00   0:00:00\n",
      "   Ended : Monday, December 21, 2020 9:09:55 AM\n",
      "\n",
      "\n",
      "\n",
      "-------------------------------------------------------------------------------\n",
      "   ROBOCOPY     ::     Robust File Copy for Windows                              \n",
      "-------------------------------------------------------------------------------\n",
      "\n",
      "  Started : Monday, December 21, 2020 9:09:55 AM\n",
      "   Source : \\\\v2GBSdwesSQL01\\IMPORT\\OPS\\\n",
      "     Dest : C:\\Users\\1155449\\project_home\\cats\\Reports\\Template\\\n",
      "\n",
      "    Files : PRISIMPoolMapping.txt\n",
      "\t    \n",
      "  Options : /V /TEE /DCOPY:DA /COPY:DAT /Z /J /XO /MT:16 /R:5 /W:5 \n",
      "\n",
      "------------------------------------------------------------------------------\n",
      "\n",
      "\t      modified\t\t    9333\t\\\\v2GBSdwesSQL01\\IMPORT\\OPS\\PRISIMPoolMapping.txt\n",
      "\n",
      "------------------------------------------------------------------------------\n",
      "\n",
      "               Total    Copied   Skipped  Mismatch    FAILED    Extras\n",
      "    Dirs :         1         1         1         0         0         0\n",
      "   Files :         1         0         1         0         0         0\n",
      "   Bytes :     9.1 k         0     9.1 k         0         0         0\n",
      "   Times :   0:00:00   0:00:00                       0:00:00   0:00:00\n",
      "   Ended : Monday, December 21, 2020 9:09:55 AM\n",
      "\n",
      "\n"
     ]
    },
    {
     "name": "stdout",
     "output_type": "stream",
     "text": [
      "\n",
      "-------------------------------------------------------------------------------\n",
      "   ROBOCOPY     ::     Robust File Copy for Windows                              \n",
      "-------------------------------------------------------------------------------\n",
      "\n",
      "  Started : Monday, December 21, 2020 9:09:55 AM\n",
      "   Source : \\\\v2GBSdwesSQL01\\IMPORT\\OPS\\\n",
      "     Dest : C:\\Users\\1155449\\project_home\\cats\\Reports\\Template\\\n",
      "\n",
      "    Files : ProductionPegging.csv\n",
      "\t    \n",
      "  Options : /V /TEE /DCOPY:DA /COPY:DAT /Z /J /XO /MT:16 /R:5 /W:5 \n",
      "\n",
      "------------------------------------------------------------------------------\n",
      "\n",
      "\t    Newer     \t\t  58.8 m\t\\\\v2GBSdwesSQL01\\IMPORT\\OPS\\ProductionPegging.csv\n",
      "  1%  \n",
      "  2%  \n",
      "  3%  \n",
      "  4%  \n",
      "  5%  \n",
      "  6%  \n",
      "  7%  \n",
      "  8%  \n",
      " 10%  \n",
      " 11%  \n",
      " 12%  \n",
      " 13%  \n",
      " 14%  \n",
      " 15%  \n",
      " 16%  \n",
      " 17%  \n",
      " 18%  \n",
      " 19%  \n",
      " 20%  \n",
      " 22%  \n",
      " 23%  \n",
      " 24%  \n",
      " 26%  \n",
      " 27%  \n",
      " 28%  \n",
      " 30%  \n",
      " 32%  \n",
      " 33%  \n",
      " 35%  \n",
      " 37%  \n",
      " 38%  \n",
      " 39%  \n",
      " 41%  \n",
      " 43%  \n",
      " 45%  \n",
      " 47%  \n",
      " 49%  \n",
      " 51%  \n",
      " 53%  \n",
      " 55%  \n",
      " 58%  \n",
      " 59%  \n",
      " 60%  \n",
      " 63%  \n",
      " 65%  \n",
      " 68%  \n",
      " 70%  \n",
      " 73%  \n",
      " 75%  \n",
      " 77%  \n",
      " 78%  \n",
      " 81%  \n",
      " 84%  \n",
      " 87%  \n",
      " 89%  \n",
      " 92%  \n",
      " 95%  \n",
      " 99%  \n",
      "100%  \n",
      "\n",
      "------------------------------------------------------------------------------\n",
      "\n",
      "               Total    Copied   Skipped  Mismatch    FAILED    Extras\n",
      "    Dirs :         1         1         1         0         0         0\n",
      "   Files :         1         1         0         0         0         0\n",
      "   Bytes :   58.81 m   58.81 m         0         0         0         0\n",
      "   Times :   0:00:43   0:00:10                       0:00:00   0:00:10\n",
      "\n",
      "\n",
      "   Speed :             5734617 Bytes/sec.\n",
      "   Speed :             328.137 MegaBytes/min.\n",
      "   Ended : Monday, December 21, 2020 9:10:17 AM\n",
      "\n",
      "\n",
      "\n",
      "-------------------------------------------------------------------------------\n",
      "   ROBOCOPY     ::     Robust File Copy for Windows                              \n",
      "-------------------------------------------------------------------------------\n",
      "\n",
      "  Started : Monday, December 21, 2020 9:09:55 AM\n",
      "   Source : \\\\v2GBSdwesSQL01\\IMPORT\\OPS\\\n",
      "     Dest : C:\\Users\\1155449\\project_home\\cats\\Reports\\Template\\\n",
      "\n",
      "    Files : ProductionPegging.csv\n",
      "\t    \n",
      "  Options : /V /TEE /DCOPY:DA /COPY:DAT /Z /J /XO /MT:16 /R:5 /W:5 \n",
      "\n",
      "------------------------------------------------------------------------------\n",
      "\n",
      "\t    Newer     \t\t  58.8 m\t\\\\v2GBSdwesSQL01\\IMPORT\\OPS\\ProductionPegging.csv\n",
      "  1%  \n",
      "  2%  \n",
      "  3%  \n",
      "  4%  \n",
      "  5%  \n",
      "  6%  \n",
      "  7%  \n",
      "  8%  \n",
      " 10%  \n",
      " 11%  \n",
      " 12%  \n",
      " 13%  \n",
      " 14%  \n",
      " 15%  \n",
      " 16%  \n",
      " 17%  \n",
      " 18%  \n",
      " 19%  \n",
      " 20%  \n",
      " 22%  \n",
      " 23%  \n",
      " 24%  \n",
      " 26%  \n",
      " 27%  \n",
      " 28%  \n",
      " 30%  \n",
      " 32%  \n",
      " 33%  \n",
      " 35%  \n",
      " 37%  \n",
      " 38%  \n",
      " 39%  \n",
      " 41%  \n",
      " 43%  \n",
      " 45%  \n",
      " 47%  \n",
      " 49%  \n",
      " 51%  \n",
      " 53%  \n",
      " 55%  \n",
      " 58%  \n",
      " 59%  \n",
      " 60%  \n",
      " 63%  \n",
      " 65%  \n",
      " 68%  \n",
      " 70%  \n",
      " 73%  \n",
      " 75%  \n",
      " 77%  \n",
      " 78%  \n",
      " 81%  \n",
      " 84%  \n",
      " 87%  \n",
      " 89%  \n",
      " 92%  \n",
      " 95%  \n",
      " 99%  \n",
      "100%  \n",
      "\n",
      "------------------------------------------------------------------------------\n",
      "\n",
      "               Total    Copied   Skipped  Mismatch    FAILED    Extras\n",
      "    Dirs :         1         1         1         0         0         0\n",
      "   Files :         1         1         0         0         0         0\n",
      "   Bytes :   58.81 m   58.81 m         0         0         0         0\n",
      "   Times :   0:00:43   0:00:10                       0:00:00   0:00:10\n",
      "\n",
      "\n",
      "   Speed :             5734617 Bytes/sec.\n",
      "   Speed :             328.137 MegaBytes/min.\n",
      "   Ended : Monday, December 21, 2020 9:10:17 AM\n",
      "\n",
      "\n",
      "\n",
      "-------------------------------------------------------------------------------\n",
      "   ROBOCOPY     ::     Robust File Copy for Windows                              \n",
      "-------------------------------------------------------------------------------\n",
      "\n",
      "  Started : Monday, December 21, 2020 9:10:17 AM\n",
      "   Source : \\\\estp-fs003.stp.us.ray.com\\w2k-projects1\\Manufacturing\\BAM Data Reports\\ShopLoad\\CATS Actuals\\Process\\\n",
      "     Dest : C:\\Users\\1155449\\project_home\\cats\\Reports\\Template\\\n",
      "\n",
      "    Files : Largo Headcount All With Sigma Level.xlsx\n",
      "\t    \n",
      "  Options : /V /TEE /DCOPY:DA /COPY:DAT /Z /J /XO /MT:16 /R:5 /W:5 \n",
      "\n",
      "------------------------------------------------------------------------------\n",
      "\n",
      "\t         older\t\t  184170\t\\\\estp-fs003.stp.us.ray.com\\w2k-projects1\\Manufacturing\\BAM Data Reports\\ShopLoad\\CATS Actuals\\Process\\Largo Headcount All With Sigma Level.xlsx\n",
      "\n",
      "------------------------------------------------------------------------------\n",
      "\n",
      "               Total    Copied   Skipped  Mismatch    FAILED    Extras\n",
      "    Dirs :         1         1         1         0         0         0\n",
      "   Files :         1         0         1         0         0         0\n",
      "   Bytes :   179.8 k         0   179.8 k         0         0         0\n",
      "   Times :   0:00:00   0:00:00                       0:00:00   0:00:00\n",
      "   Ended : Monday, December 21, 2020 9:10:18 AM\n",
      "\n",
      "\n",
      "\n",
      "-------------------------------------------------------------------------------\n",
      "   ROBOCOPY     ::     Robust File Copy for Windows                              \n",
      "-------------------------------------------------------------------------------\n",
      "\n",
      "  Started : Monday, December 21, 2020 9:10:17 AM\n",
      "   Source : \\\\estp-fs003.stp.us.ray.com\\w2k-projects1\\Manufacturing\\BAM Data Reports\\ShopLoad\\CATS Actuals\\Process\\\n",
      "     Dest : C:\\Users\\1155449\\project_home\\cats\\Reports\\Template\\\n",
      "\n",
      "    Files : Largo Headcount All With Sigma Level.xlsx\n",
      "\t    \n",
      "  Options : /V /TEE /DCOPY:DA /COPY:DAT /Z /J /XO /MT:16 /R:5 /W:5 \n",
      "\n",
      "------------------------------------------------------------------------------\n",
      "\n",
      "\t         older\t\t  184170\t\\\\estp-fs003.stp.us.ray.com\\w2k-projects1\\Manufacturing\\BAM Data Reports\\ShopLoad\\CATS Actuals\\Process\\Largo Headcount All With Sigma Level.xlsx\n",
      "\n",
      "------------------------------------------------------------------------------\n",
      "\n",
      "               Total    Copied   Skipped  Mismatch    FAILED    Extras\n",
      "    Dirs :         1         1         1         0         0         0\n",
      "   Files :         1         0         1         0         0         0\n",
      "   Bytes :   179.8 k         0   179.8 k         0         0         0\n",
      "   Times :   0:00:00   0:00:00                       0:00:00   0:00:00\n",
      "   Ended : Monday, December 21, 2020 9:10:18 AM\n",
      "\n",
      "\n",
      "\n",
      "-------------------------------------------------------------------------------\n",
      "   ROBOCOPY     ::     Robust File Copy for Windows                              \n",
      "-------------------------------------------------------------------------------\n",
      "\n",
      "  Started : Monday, December 21, 2020 9:10:18 AM\n",
      "   Source : \\\\estp-fs003.stp.us.ray.com\\w2k-projects1\\Manufacturing\\BAM Data Reports\\MRP Health\\\n",
      "     Dest : C:\\Users\\1155449\\project_home\\cats\\Reports\\Template\\\n",
      "\n",
      "    Files : Master Program XREF.xlsx\n",
      "\t    \n",
      "  Options : /V /TEE /DCOPY:DA /COPY:DAT /Z /J /XO /MT:16 /R:5 /W:5 \n",
      "\n",
      "------------------------------------------------------------------------------\n",
      "\n",
      "\t      modified\t\t   6.4 m\t\\\\estp-fs003.stp.us.ray.com\\w2k-projects1\\Manufacturing\\BAM Data Reports\\MRP Health\\Master Program XREF.xlsx\n",
      "\n",
      "------------------------------------------------------------------------------\n",
      "\n",
      "               Total    Copied   Skipped  Mismatch    FAILED    Extras\n",
      "    Dirs :         1         1         1         0         0         0\n",
      "   Files :         1         0         1         0         0         0\n",
      "   Bytes :    6.43 m         0    6.43 m         0         0         0\n",
      "   Times :   0:00:00   0:00:00                       0:00:00   0:00:00\n",
      "   Ended : Monday, December 21, 2020 9:10:19 AM\n",
      "\n",
      "\n",
      "\n",
      "-------------------------------------------------------------------------------\n",
      "   ROBOCOPY     ::     Robust File Copy for Windows                              \n",
      "-------------------------------------------------------------------------------\n",
      "\n",
      "  Started : Monday, December 21, 2020 9:10:18 AM\n",
      "   Source : \\\\estp-fs003.stp.us.ray.com\\w2k-projects1\\Manufacturing\\BAM Data Reports\\MRP Health\\\n",
      "     Dest : C:\\Users\\1155449\\project_home\\cats\\Reports\\Template\\\n",
      "\n",
      "    Files : Master Program XREF.xlsx\n",
      "\t    \n",
      "  Options : /V /TEE /DCOPY:DA /COPY:DAT /Z /J /XO /MT:16 /R:5 /W:5 \n",
      "\n",
      "------------------------------------------------------------------------------\n",
      "\n",
      "\t      modified\t\t   6.4 m\t\\\\estp-fs003.stp.us.ray.com\\w2k-projects1\\Manufacturing\\BAM Data Reports\\MRP Health\\Master Program XREF.xlsx\n",
      "\n",
      "------------------------------------------------------------------------------\n",
      "\n",
      "               Total    Copied   Skipped  Mismatch    FAILED    Extras\n",
      "    Dirs :         1         1         1         0         0         0\n",
      "   Files :         1         0         1         0         0         0\n",
      "   Bytes :    6.43 m         0    6.43 m         0         0         0\n",
      "   Times :   0:00:00   0:00:00                       0:00:00   0:00:00\n",
      "   Ended : Monday, December 21, 2020 9:10:19 AM\n",
      "\n",
      "\n"
     ]
    },
    {
     "name": "stdout",
     "output_type": "stream",
     "text": [
      "\n",
      "-------------------------------------------------------------------------------\n",
      "   ROBOCOPY     ::     Robust File Copy for Windows                              \n",
      "-------------------------------------------------------------------------------\n",
      "\n",
      "  Started : Monday, December 21, 2020 9:10:19 AM\n",
      "   Source : \\\\estp-fs003.stp.us.ray.com\\w2k-projects1\\Manufacturing\\BAM Data Reports\\MRP Health\\\n",
      "     Dest : C:\\Users\\1155449\\project_home\\cats\\Reports\\Template\\\n",
      "\n",
      "    Files : WBS XREF.xlsm\n",
      "\t    \n",
      "  Options : /V /TEE /DCOPY:DA /COPY:DAT /Z /J /XO /MT:16 /R:5 /W:5 \n",
      "\n",
      "------------------------------------------------------------------------------\n",
      "\n",
      "\t    Newer     \t\t   6.6 m\t\\\\estp-fs003.stp.us.ray.com\\w2k-projects1\\Manufacturing\\BAM Data Reports\\MRP Health\\WBS XREF.xlsm\n",
      "  1%  \n",
      " 10%  \n",
      " 25%  \n",
      " 33%  \n",
      " 41%  \n",
      " 56%  \n",
      " 63%  \n",
      " 71%  \n",
      " 78%  \n",
      " 86%  \n",
      " 93%  \n",
      "100%  \n",
      "\n",
      "------------------------------------------------------------------------------\n",
      "\n",
      "               Total    Copied   Skipped  Mismatch    FAILED    Extras\n",
      "    Dirs :         1         1         1         0         0         0\n",
      "   Files :         1         1         0         0         0         0\n",
      "   Bytes :    6.61 m    6.61 m         0         0         0         0\n",
      "   Times :   0:00:08   0:00:02                       0:00:00   0:00:02\n",
      "\n",
      "\n",
      "   Speed :             3225754 Bytes/sec.\n",
      "   Speed :             184.579 MegaBytes/min.\n",
      "   Ended : Monday, December 21, 2020 9:10:24 AM\n",
      "\n",
      "\n",
      "\n",
      "-------------------------------------------------------------------------------\n",
      "   ROBOCOPY     ::     Robust File Copy for Windows                              \n",
      "-------------------------------------------------------------------------------\n",
      "\n",
      "  Started : Monday, December 21, 2020 9:10:19 AM\n",
      "   Source : \\\\estp-fs003.stp.us.ray.com\\w2k-projects1\\Manufacturing\\BAM Data Reports\\MRP Health\\\n",
      "     Dest : C:\\Users\\1155449\\project_home\\cats\\Reports\\Template\\\n",
      "\n",
      "    Files : WBS XREF.xlsm\n",
      "\t    \n",
      "  Options : /V /TEE /DCOPY:DA /COPY:DAT /Z /J /XO /MT:16 /R:5 /W:5 \n",
      "\n",
      "------------------------------------------------------------------------------\n",
      "\n",
      "\t    Newer     \t\t   6.6 m\t\\\\estp-fs003.stp.us.ray.com\\w2k-projects1\\Manufacturing\\BAM Data Reports\\MRP Health\\WBS XREF.xlsm\n",
      "  1%  \n",
      " 10%  \n",
      " 25%  \n",
      " 33%  \n",
      " 41%  \n",
      " 56%  \n",
      " 63%  \n",
      " 71%  \n",
      " 78%  \n",
      " 86%  \n",
      " 93%  \n",
      "100%  \n",
      "\n",
      "------------------------------------------------------------------------------\n",
      "\n",
      "               Total    Copied   Skipped  Mismatch    FAILED    Extras\n",
      "    Dirs :         1         1         1         0         0         0\n",
      "   Files :         1         1         0         0         0         0\n",
      "   Bytes :    6.61 m    6.61 m         0         0         0         0\n",
      "   Times :   0:00:08   0:00:02                       0:00:00   0:00:02\n",
      "\n",
      "\n",
      "   Speed :             3225754 Bytes/sec.\n",
      "   Speed :             184.579 MegaBytes/min.\n",
      "   Ended : Monday, December 21, 2020 9:10:24 AM\n",
      "\n",
      "\n",
      "\n",
      "-------------------------------------------------------------------------------\n",
      "   ROBOCOPY     ::     Robust File Copy for Windows                              \n",
      "-------------------------------------------------------------------------------\n",
      "\n",
      "  Started : Monday, December 21, 2020 9:10:24 AM\n",
      "   Source : \\\\estp-fs003.stp.us.ray.com\\w2k-projects1\\Manufacturing\\BAM Data Reports\\MRP Health\\\n",
      "     Dest : C:\\Users\\1155449\\project_home\\cats\\Reports\\Template\\\n",
      "\n",
      "    Files : Master Program XREF.xlsx\n",
      "\t    \n",
      "  Options : /V /TEE /DCOPY:DA /COPY:DAT /Z /J /XO /MT:16 /R:5 /W:5 \n",
      "\n",
      "------------------------------------------------------------------------------\n",
      "\n",
      "\t      modified\t\t   6.4 m\t\\\\estp-fs003.stp.us.ray.com\\w2k-projects1\\Manufacturing\\BAM Data Reports\\MRP Health\\Master Program XREF.xlsx\n",
      "\n",
      "------------------------------------------------------------------------------\n",
      "\n",
      "               Total    Copied   Skipped  Mismatch    FAILED    Extras\n",
      "    Dirs :         1         1         1         0         0         0\n",
      "   Files :         1         0         1         0         0         0\n",
      "   Bytes :    6.43 m         0    6.43 m         0         0         0\n",
      "   Times :   0:00:00   0:00:00                       0:00:00   0:00:00\n",
      "   Ended : Monday, December 21, 2020 9:10:24 AM\n",
      "\n",
      "\n",
      "\n",
      "-------------------------------------------------------------------------------\n",
      "   ROBOCOPY     ::     Robust File Copy for Windows                              \n",
      "-------------------------------------------------------------------------------\n",
      "\n",
      "  Started : Monday, December 21, 2020 9:10:24 AM\n",
      "   Source : \\\\estp-fs003.stp.us.ray.com\\w2k-projects1\\Manufacturing\\BAM Data Reports\\MRP Health\\\n",
      "     Dest : C:\\Users\\1155449\\project_home\\cats\\Reports\\Template\\\n",
      "\n",
      "    Files : Master Program XREF.xlsx\n",
      "\t    \n",
      "  Options : /V /TEE /DCOPY:DA /COPY:DAT /Z /J /XO /MT:16 /R:5 /W:5 \n",
      "\n",
      "------------------------------------------------------------------------------\n",
      "\n",
      "\t      modified\t\t   6.4 m\t\\\\estp-fs003.stp.us.ray.com\\w2k-projects1\\Manufacturing\\BAM Data Reports\\MRP Health\\Master Program XREF.xlsx\n",
      "\n",
      "------------------------------------------------------------------------------\n",
      "\n",
      "               Total    Copied   Skipped  Mismatch    FAILED    Extras\n",
      "    Dirs :         1         1         1         0         0         0\n",
      "   Files :         1         0         1         0         0         0\n",
      "   Bytes :    6.43 m         0    6.43 m         0         0         0\n",
      "   Times :   0:00:00   0:00:00                       0:00:00   0:00:00\n",
      "   Ended : Monday, December 21, 2020 9:10:24 AM\n",
      "\n",
      "\n"
     ]
    }
   ],
   "source": [
    "if copy_locally:\n",
    "    for idx, _ in t_df.iterrows():\n",
    "        src = t_df.loc[idx, 'Source Folder']\n",
    "        files = t_df.loc[idx, 'Basenames'].split('|')\n",
    "        \n",
    "        for f in files:\n",
    "            output = robocopy_file(src, local_folder, f, True)\n",
    "            print(output.stdout)"
   ]
  },
  {
   "cell_type": "markdown",
   "metadata": {},
   "source": [
    "### Extract Data From Excel Files"
   ]
  },
  {
   "cell_type": "code",
   "execution_count": null,
   "metadata": {
    "ExecuteTime": {
     "end_time": "2020-12-14T13:36:34.918831Z",
     "start_time": "2020-12-14T13:36:34.892533Z"
    },
    "run_control": {
     "marked": false
    }
   },
   "outputs": [],
   "source": [
    "# # c_df[c_df['Use File'] == True]\n",
    "\n",
    "# c_df[(c_df['Use File'] == True) &\n",
    "#     (c_df['Basename'].str.contains('.xl'))]\n",
    "\n",
    "# if use_db_tables:\n",
    "#     pass\n",
    "    "
   ]
  },
  {
   "cell_type": "markdown",
   "metadata": {},
   "source": [
    "### Check All Files Exist In Local Folder"
   ]
  },
  {
   "cell_type": "code",
   "execution_count": null,
   "metadata": {
    "ExecuteTime": {
     "end_time": "2020-12-14T13:56:38.144812Z",
     "start_time": "2020-12-14T13:56:29.696466Z"
    },
    "run_control": {
     "marked": false
    }
   },
   "outputs": [],
   "source": [
    "if copy_locally:\n",
    "    not_found = []\n",
    "\n",
    "    for path, file in zip(dsts, files):\n",
    "        t_file = os.path.join(path, file)\n",
    "        \n",
    "        if not os.path.isfile(t_file):\n",
    "            not_found.append(t_file)\n",
    "\n",
    "            \n",
    "    if len(not_found) > 0:\n",
    "        message = 'The Files Below Were Not Found:\\n\\n'\n",
    "        \n",
    "        for idx, _ in enumerate(not_found):\n",
    "            if idx == 0:\n",
    "                message += f'\\t{os.path.basename(_)}'\n",
    "            else:\n",
    "                message += f' | {os.path.basename(_)}'\n",
    "                \n",
    "        message += f'\\n\\nPlace The Files To The Below Folder.\\n\\n\\t{local_folder}\\n\\nPress Enter Here To Continue.'\n",
    "        \n",
    "        sg.PopupOK(message)\n",
    "        input(message)\n",
    "    else:\n",
    "        print('All Local Files Were Found.')"
   ]
  },
  {
   "cell_type": "code",
   "execution_count": null,
   "metadata": {
    "run_control": {
     "marked": false
    }
   },
   "outputs": [],
   "source": []
  },
  {
   "cell_type": "code",
   "execution_count": null,
   "metadata": {
    "run_control": {
     "marked": false
    }
   },
   "outputs": [],
   "source": []
  },
  {
   "cell_type": "code",
   "execution_count": null,
   "metadata": {
    "run_control": {
     "marked": false
    }
   },
   "outputs": [],
   "source": []
  },
  {
   "cell_type": "markdown",
   "metadata": {},
   "source": [
    "# Process Report"
   ]
  },
  {
   "cell_type": "markdown",
   "metadata": {},
   "source": [
    "## Main"
   ]
  },
  {
   "cell_type": "markdown",
   "metadata": {},
   "source": [
    "### Init CATS DF"
   ]
  },
  {
   "cell_type": "code",
   "execution_count": null,
   "metadata": {
    "ExecuteTime": {
     "end_time": "2020-11-30T12:16:24.325735Z",
     "start_time": "2020-11-30T12:16:22.956344Z"
    },
    "run_control": {
     "marked": false
    }
   },
   "outputs": [],
   "source": [
    "if use_db_tables:\n",
    "    print('Importing CATS Database Table')\n",
    "    conn = pyodbc.connect('DSN=v2GBSdwesSQL01')\n",
    "    cursor = conn.cursor()\n",
    "    cats_df = pd.read_sql('select * from [opsdata].[dbo].[CATS_HOURS]', con=conn)    \n",
    "\n",
    "else:\n",
    "    print('Importing Local CATS File')\n",
    "    cats_df = pd.read_csv(local_cats_file, delimiter='\\t')"
   ]
  },
  {
   "cell_type": "code",
   "execution_count": null,
   "metadata": {
    "ExecuteTime": {
     "end_time": "2020-11-30T12:18:16.685291Z",
     "start_time": "2020-11-30T12:18:16.643593Z"
    },
    "run_control": {
     "marked": false
    }
   },
   "outputs": [],
   "source": [
    "cats_df.loc[:, 'Cats Hours'].sum()"
   ]
  },
  {
   "cell_type": "markdown",
   "metadata": {
    "heading_collapsed": true
   },
   "source": [
    "### Rename Columns To Match Access"
   ]
  },
  {
   "cell_type": "code",
   "execution_count": null,
   "metadata": {
    "ExecuteTime": {
     "end_time": "2020-11-20T22:32:19.501125Z",
     "start_time": "2020-11-20T22:32:19.475740Z"
    },
    "hidden": true,
    "run_control": {
     "marked": false
    }
   },
   "outputs": [],
   "source": [
    "for idx, _ in col_map_df.iterrows():\n",
    "\n",
    "    if use_db_tables:\n",
    "        print(f\"Using Database Columns|{col_map_df.loc[idx, 'Database Column Name']} : {col_map_df.loc[idx, 'Access Column Name']}\")\n",
    "        cats_df.rename(columns={\n",
    "            col_map_df.loc[idx, 'Database Column Name'] : col_map_df.loc[idx, 'Access Column Name']\n",
    "        }, inplace=True, errors='raise')\n",
    "    else:\n",
    "        print(f\"Using Source File Columns|{col_map_df.loc[idx, 'Source Column Name']} : {col_map_df.loc[idx, 'Access Column Name']}\")\n",
    "        cats_df.rename(columns={\n",
    "            col_map_df.loc[idx, 'Source Column Name'] : col_map_df.loc[idx, 'Access Column Name']\n",
    "        }, inplace=True, errors='raise')"
   ]
  },
  {
   "cell_type": "markdown",
   "metadata": {
    "heading_collapsed": true
   },
   "source": [
    "### Add Columns S/L Type And POC"
   ]
  },
  {
   "cell_type": "code",
   "execution_count": null,
   "metadata": {
    "ExecuteTime": {
     "end_time": "2020-11-20T22:32:19.516328Z",
     "start_time": "2020-11-20T22:32:19.504891Z"
    },
    "hidden": true,
    "run_control": {
     "marked": false
    }
   },
   "outputs": [],
   "source": [
    "cats_df['S/L Type'] = 'STICK'\n",
    "cats_df['POC'] = 'FIRM'"
   ]
  },
  {
   "cell_type": "markdown",
   "metadata": {
    "heading_collapsed": true
   },
   "source": [
    "### Add Column Date Run"
   ]
  },
  {
   "cell_type": "code",
   "execution_count": null,
   "metadata": {
    "ExecuteTime": {
     "end_time": "2020-11-20T22:32:19.527801Z",
     "start_time": "2020-11-20T22:32:19.519332Z"
    },
    "hidden": true,
    "run_control": {
     "marked": false
    }
   },
   "outputs": [],
   "source": [
    "cats_df['Date Run'] = datetime.now().strftime('%d%b%Y %H%M')"
   ]
  },
  {
   "cell_type": "markdown",
   "metadata": {
    "heading_collapsed": true
   },
   "source": [
    "## Create Date Run Table"
   ]
  },
  {
   "cell_type": "code",
   "execution_count": null,
   "metadata": {
    "ExecuteTime": {
     "end_time": "2020-11-20T22:32:19.535228Z",
     "start_time": "2020-11-20T22:32:19.529221Z"
    },
    "hidden": true,
    "run_control": {
     "marked": false
    }
   },
   "outputs": [],
   "source": [
    "dr_df = pd.DataFrame([])"
   ]
  },
  {
   "cell_type": "code",
   "execution_count": null,
   "metadata": {
    "ExecuteTime": {
     "end_time": "2020-11-20T22:32:19.542507Z",
     "start_time": "2020-11-20T22:32:19.536855Z"
    },
    "hidden": true,
    "run_control": {
     "marked": false
    }
   },
   "outputs": [],
   "source": [
    "date_run = []\n",
    "\n",
    "for _ in range(1, 53, 1):\n",
    "    d = f'{cur_date.strftime(\"%Y\")}-W{_}'\n",
    "\n",
    "#     The -1 and -%w pattern tells the parser to pick the Monday in that week    \n",
    "    t_mondays_date = datetime.strptime(d + '-1', \"%Y-W%W-%w\")\n",
    "\n",
    "\n",
    "    t_calendar_week = t_mondays_date.strftime('%V')\n",
    "\n",
    "    if int(t_calendar_week) == 1:\n",
    "        t_last_calendar_week = f\"52/{(int(t_mondays_date.strftime('%Y')) - 1)}\"\n",
    "    else:\n",
    "        t_last_calendar_week = f\"{int(t_calendar_week) - 1}/{t_mondays_date.strftime('%Y')}\"\n",
    "\n",
    "    \n",
    "    date_run.append([t_mondays_date, t_mondays_date.strftime('%A, %B %#d %Y'), t_last_calendar_week])"
   ]
  },
  {
   "cell_type": "code",
   "execution_count": null,
   "metadata": {
    "ExecuteTime": {
     "end_time": "2020-11-20T22:32:19.552634Z",
     "start_time": "2020-11-20T22:32:19.544083Z"
    },
    "hidden": true,
    "run_control": {
     "marked": false
    }
   },
   "outputs": [],
   "source": [
    "date_run = pd.DataFrame( date_run, columns=['Date', 'LongDate', 'CalWeekYear'])"
   ]
  },
  {
   "cell_type": "code",
   "execution_count": null,
   "metadata": {
    "hidden": true,
    "run_control": {
     "marked": false
    }
   },
   "outputs": [],
   "source": []
  },
  {
   "cell_type": "code",
   "execution_count": null,
   "metadata": {
    "hidden": true,
    "run_control": {
     "marked": false
    }
   },
   "outputs": [],
   "source": []
  },
  {
   "cell_type": "markdown",
   "metadata": {},
   "source": [
    "## Import Data"
   ]
  },
  {
   "cell_type": "markdown",
   "metadata": {
    "heading_collapsed": true
   },
   "source": [
    "### Init Writer"
   ]
  },
  {
   "cell_type": "code",
   "execution_count": null,
   "metadata": {
    "ExecuteTime": {
     "end_time": "2020-11-20T22:32:19.559986Z",
     "start_time": "2020-11-20T22:32:19.555131Z"
    },
    "hidden": true,
    "run_control": {
     "marked": false
    }
   },
   "outputs": [],
   "source": [
    "writer = pd.ExcelWriter(os.path.join(f'cats_output_{cur_date.strftime(\"%#d%b%Y %H%M\")}.xlsx'))"
   ]
  },
  {
   "cell_type": "markdown",
   "metadata": {
    "heading_collapsed": true
   },
   "source": [
    "### Create source_dfs_dict"
   ]
  },
  {
   "cell_type": "code",
   "execution_count": null,
   "metadata": {
    "ExecuteTime": {
     "end_time": "2020-11-20T22:34:11.745043Z",
     "start_time": "2020-11-20T22:34:11.723156Z"
    },
    "hidden": true,
    "run_control": {
     "marked": false
    }
   },
   "outputs": [],
   "source": [
    "try:\n",
    "    source_dfs_dict\n",
    "except:\n",
    "    source_dfs_dict = {}\n",
    "    "
   ]
  },
  {
   "cell_type": "markdown",
   "metadata": {},
   "source": [
    "### Import DFs"
   ]
  },
  {
   "cell_type": "code",
   "execution_count": null,
   "metadata": {
    "ExecuteTime": {
     "end_time": "2020-11-20T22:34:54.753184Z",
     "start_time": "2020-11-20T22:34:15.885394Z"
    },
    "run_control": {
     "marked": false
    }
   },
   "outputs": [],
   "source": [
    "for idx, _ in c_df.iterrows():\n",
    "    t_file = c_df.loc[idx, 'Source File']\n",
    "    \n",
    "    if t_file not in source_dfs_dict.keys():\n",
    "\n",
    "        if c_df.loc[idx, 'Use File']:\n",
    "            print(f'Importing|{c_df.loc[idx, \"Basename\"]}')\n",
    "\n",
    "            if '.txt' in t_file:\n",
    "                source_dfs_dict[t_file] = pd.read_csv(t_file, delimiter='\\t')\n",
    "            elif '.csv' in t_file:\n",
    "                source_dfs_dict[t_file] = pd.read_csv(depot_file, delimiter=',', encoding='utf-8', low_memory=False, skip_blank_lines=False, )\n",
    "            elif '.xl' in t_file:\n",
    "                t_sheet_name = c_df.loc[idx, 'Worksheet']\n",
    "                source_dfs_dict[t_file] = pd.read_excel(t_file, sheet_name=t_sheet_name)\n",
    "        else:\n",
    "            source_dfs_dict[t_file] = None"
   ]
  },
  {
   "cell_type": "markdown",
   "metadata": {
    "heading_collapsed": true
   },
   "source": [
    "# Optional"
   ]
  },
  {
   "cell_type": "markdown",
   "metadata": {
    "deletable": false,
    "editable": false,
    "heading_collapsed": true,
    "hidden": true,
    "run_control": {
     "frozen": true
    }
   },
   "source": [
    "## Clean Column Names For DB"
   ]
  },
  {
   "cell_type": "code",
   "execution_count": null,
   "metadata": {
    "ExecuteTime": {
     "end_time": "2020-11-20T18:42:50.319463Z",
     "start_time": "2020-11-20T18:42:50.301906Z"
    },
    "deletable": false,
    "editable": false,
    "hidden": true,
    "run_control": {
     "frozen": true,
     "marked": false
    }
   },
   "outputs": [],
   "source": [
    "columns = ['Source File', 'Basename', 'Source Column Name', 'Database Column Name']\n",
    "data = []\n",
    "\n",
    "for t_file, t_df in source_dfs_dict.items():\n",
    "    try:\n",
    "        for x in t_df.columns:\n",
    "            db_col_name = ''.join(e for e in x if e.isalnum())\n",
    "\n",
    "            data.append([t_file, os.path.basename(t_file), x, db_col_name])\n",
    "    except:\n",
    "            data.append([t_file, os.path.basename(t_file), None, None])\n",
    "        \n",
    "db_col_mapper_df = pd.DataFrame(data, columns=columns)"
   ]
  },
  {
   "cell_type": "markdown",
   "metadata": {
    "deletable": false,
    "editable": false,
    "heading_collapsed": true,
    "hidden": true,
    "run_control": {
     "frozen": true
    }
   },
   "source": [
    "## Save Column Mapping"
   ]
  },
  {
   "cell_type": "code",
   "execution_count": null,
   "metadata": {
    "ExecuteTime": {
     "end_time": "2020-11-20T18:48:37.266116Z",
     "start_time": "2020-11-20T18:48:37.183597Z"
    },
    "deletable": false,
    "editable": false,
    "hidden": true,
    "run_control": {
     "frozen": true,
     "marked": false
    },
    "scrolled": false
   },
   "outputs": [],
   "source": [
    "db_col_mapper_df.to_excel(writer, sheet_name='Database Column Mapping', index=False, header=True)\n"
   ]
  },
  {
   "cell_type": "markdown",
   "metadata": {},
   "source": [
    "# Continue Processing"
   ]
  },
  {
   "cell_type": "markdown",
   "metadata": {},
   "source": [
    "## Create Table SQL Scripts"
   ]
  },
  {
   "cell_type": "code",
   "execution_count": null,
   "metadata": {
    "ExecuteTime": {
     "end_time": "2020-11-20T20:04:07.503713Z",
     "start_time": "2020-11-20T20:04:06.566767Z"
    },
    "run_control": {
     "marked": false
    }
   },
   "outputs": [],
   "source": [
    "cnxn = pyodbc.connect(dsn='OpsData')\n",
    "cursor = cnxn.cursor()"
   ]
  },
  {
   "cell_type": "code",
   "execution_count": null,
   "metadata": {
    "ExecuteTime": {
     "end_time": "2020-11-20T20:03:38.445025Z",
     "start_time": "2020-11-20T20:03:38.363733Z"
    },
    "run_control": {
     "marked": false
    }
   },
   "outputs": [],
   "source": [
    "col_mapper_df = pd.read_excel(config_file, sheet_name='Access Linked Table Columns')"
   ]
  },
  {
   "cell_type": "code",
   "execution_count": null,
   "metadata": {
    "ExecuteTime": {
     "end_time": "2020-11-20T19:11:59.305125Z",
     "start_time": "2020-11-20T19:11:59.290404Z"
    },
    "run_control": {
     "marked": false
    }
   },
   "outputs": [],
   "source": [
    "def create_sql_init(t_db_name):\n",
    "        create_tbl_sql = f\"\"\"\n",
    "Use [OpsData]\n",
    "\n",
    "If OBJECT_ID('dbo.{t_db_name}') is not Null \n",
    "BEGIN\n",
    "    DROP TABLE dbo.{t_db_name}\n",
    "    RAISERROR('Dropped Table: dbo.{t_db_name}...',0,1) WITH NOWAIT\n",
    "END\n",
    "\n",
    "\n",
    "Create Table dbo.{t_db_name} (\"\"\"\n",
    "        return create_tbl_sql\n",
    "    "
   ]
  },
  {
   "cell_type": "code",
   "execution_count": null,
   "metadata": {
    "ExecuteTime": {
     "end_time": "2020-11-20T20:31:42.505279Z",
     "start_time": "2020-11-20T20:31:34.796377Z"
    },
    "run_control": {
     "marked": false
    }
   },
   "outputs": [],
   "source": [
    "for idx in c_df[c_df['Use File'] == True].index.tolist():\n",
    "    \n",
    "    t_file = c_df.loc[idx, 'Local File']\n",
    "    t_source_file = c_df.loc[idx, 'Source File']\n",
    "    t_filename = c_df.loc[idx, 'Basename']\n",
    "\n",
    "\n",
    "    t_df = source_dfs_dict[t_source_file]\n",
    "\n",
    "    ### Get Column Names\n",
    "\n",
    "    t_cols = t_df.columns.tolist()\n",
    "\n",
    "    ### Get Column Lengths\n",
    "\n",
    "    t_measurer = np.vectorize(len)\n",
    "    t_max_col_lens = t_measurer(t_df.values.astype(str)).max(axis=0)\n",
    "\n",
    "\n",
    "    t_db_name = c_df.loc[idx, 'Database Table Name']\n",
    "\n",
    "    create_tbl_sql = create_sql_init(t_db_name)\n",
    "\n",
    "    z_idx = 0\n",
    "\n",
    "    for col, size in zip(t_cols, t_max_col_lens):\n",
    "        if size < 255:\n",
    "            t_db_col = 255\n",
    "        else:\n",
    "            t_db_col = math.ceil(size * 1.5 )\n",
    "\n",
    "        if z_idx == 0:\n",
    "            create_tbl_sql += f\"\\n\\t[{col}] varchar({t_db_col})\\n\"\n",
    "        else:\n",
    "            create_tbl_sql += f\"\\t,[{col}] varchar({t_db_col})\\n\"\n",
    "\n",
    "        z_idx += 1\n",
    "\n",
    "    create_tbl_sql += ')'\n",
    "    \n",
    "    cursor.execute(create_tbl_sql)\n",
    "    cnxn.commit()\n",
    "    \n",
    "    \n",
    "    \n",
    "#     t_create_filename = f'Create Table - {t_db_name}.sql'\n",
    "#     t_create_tbl_sql_file = os.path.join(local_folder, t_create_filename)\n",
    "#     with open(t_create_tbl_sql_file, \"w\") as create_tbl_file: \n",
    "#         # Writing data to a file \n",
    "#         create_tbl_file.write(create_tbl_sql) \n",
    "        \n",
    "#     print('Exporting To Database Folder')\n",
    "#     robocopy_file(src=local_folder, dst=db_folder, file=t_create_filename)\n"
   ]
  },
  {
   "cell_type": "code",
   "execution_count": null,
   "metadata": {
    "ExecuteTime": {
     "end_time": "2020-11-20T20:27:31.247525Z",
     "start_time": "2020-11-20T20:27:31.233594Z"
    },
    "run_control": {
     "marked": false
    }
   },
   "outputs": [],
   "source": [
    "print(create_tbl_sql)"
   ]
  },
  {
   "cell_type": "markdown",
   "metadata": {},
   "source": [
    "## Create Insert Into Table Scripts"
   ]
  },
  {
   "cell_type": "code",
   "execution_count": null,
   "metadata": {
    "ExecuteTime": {
     "end_time": "2020-11-20T19:56:09.550805Z",
     "start_time": "2020-11-20T19:56:09.539620Z"
    },
    "run_control": {
     "marked": false
    }
   },
   "outputs": [],
   "source": [
    "db_folder = p_df.loc[0, 'CATS Database Folder']"
   ]
  },
  {
   "cell_type": "markdown",
   "metadata": {
    "heading_collapsed": true
   },
   "source": [
    "### Create Scripts"
   ]
  },
  {
   "cell_type": "code",
   "execution_count": null,
   "metadata": {
    "ExecuteTime": {
     "end_time": "2020-11-20T21:00:55.665095Z",
     "start_time": "2020-11-20T20:49:09.741775Z"
    },
    "hidden": true,
    "run_control": {
     "marked": false
    }
   },
   "outputs": [],
   "source": [
    "insert_scripts = {}\n",
    "\n",
    "for idx in c_df[c_df['Use File'] == True].index.tolist():\n",
    "    if not c_df.loc[idx, 'Processed File']:\n",
    "        t_file = c_df.loc[idx, 'Local File']\n",
    "        t_source_file = c_df.loc[idx, 'Source File']\n",
    "        t_filename = c_df.loc[idx, 'Basename']\n",
    "        t_db_name = c_df.loc[idx, 'Database Table Name']\n",
    "        t_db_file = c_df.loc[idx, 'Database File']\n",
    "        t_delimiter = ','\n",
    "\n",
    "\n",
    "        t_df = source_dfs_dict[t_source_file]\n",
    "        t_csv_filename = t_filename.split('.')[0]+'.csv'\n",
    "        t_csv_file = os.path.join(local_folder, t_csv_filename)\n",
    "\n",
    "\n",
    "        with open(t_csv_file, 'w+') as f:\n",
    "            f.write('\\n')    \n",
    "        t_df.to_csv(t_csv_file, index = False, header = True, mode='a')\n",
    "\n",
    "\n",
    "#         t_df.to_csv(t_csv_file)\n",
    "        t_delimiter = ','\n",
    "\n",
    "        t_insert_sql = insert_sql_init(t_db_name=t_db_name, t_db_file=t_db_file, t_delimiter=t_delimiter)\n",
    "\n",
    "    #     t_i_filename = f'Insert Table - {t_db_name}.sql'\n",
    "    #     t_insert_sql_file = os.path.join(local_folder, t_i_filename)\n",
    "    #     with open(t_insert_sql_file, \"w\") as insert_tbl_file: \n",
    "    #         # Writing data to a file \n",
    "    #         insert_tbl_file.write(t_insert_sql) \n",
    "\n",
    "\n",
    "\n",
    "        robocopy_file(src=local_folder, dst=db_folder, file=t_csv_filename)\n",
    "\n",
    "        cursor.execute(t_insert_sql)\n",
    "        cnxn.commit()\n",
    "        robocopy_file(src=local_folder, dst=db_folder, file=t_i_filename)\n",
    "\n",
    "        c_df.loc[idx, 'Processed File'] = True\n",
    "        print(f'Processed|{t_filename}')        "
   ]
  },
  {
   "cell_type": "markdown",
   "metadata": {
    "deletable": false,
    "editable": false,
    "heading_collapsed": true,
    "run_control": {
     "frozen": true
    }
   },
   "source": [
    "### Get Insert Scripts By Themselves"
   ]
  },
  {
   "cell_type": "code",
   "execution_count": null,
   "metadata": {
    "ExecuteTime": {
     "start_time": "2020-11-20T22:16:08.840Z"
    },
    "hidden": true,
    "run_control": {
     "marked": false
    }
   },
   "outputs": [],
   "source": [
    "insert_scripts = {}\n",
    "\n",
    "for idx in c_df[c_df['Use File'] == True].index.tolist():\n",
    "    t_file = c_df.loc[idx, 'Local File']\n",
    "\n",
    "    t_source_file = c_df.loc[idx, 'Source File']\n",
    "    t_filename = c_df.loc[idx, 'Basename']\n",
    "    t_db_name = c_df.loc[idx, 'Database Table Name']\n",
    "    \n",
    "    t_db_file = c_df.loc[idx, 'Database File']\n",
    "    t_delimiter = ','\n",
    "    \n",
    "    \n",
    "    t_insert_sql = insert_sql_init(t_db_name=t_db_name, t_db_file=t_db_file, t_delimiter=t_delimiter)\n",
    "    insert_scripts[t_file] = t_insert_sql\n",
    "    \n",
    "    if 'Hours' in t_db_name:\n",
    "        break"
   ]
  },
  {
   "cell_type": "code",
   "execution_count": null,
   "metadata": {
    "hidden": true,
    "run_control": {
     "marked": false
    }
   },
   "outputs": [],
   "source": []
  },
  {
   "cell_type": "code",
   "execution_count": null,
   "metadata": {
    "ExecuteTime": {
     "start_time": "2020-11-20T21:44:44.226Z"
    },
    "hidden": true,
    "run_control": {
     "marked": false
    }
   },
   "outputs": [],
   "source": [
    "for f, s in insert_scripts.items():\n",
    "    cnxn.execute(s)\n",
    "    cnxn.commit()"
   ]
  },
  {
   "cell_type": "markdown",
   "metadata": {
    "heading_collapsed": true
   },
   "source": [
    "## Robocopy To Database Folder"
   ]
  },
  {
   "cell_type": "markdown",
   "metadata": {
    "heading_collapsed": true
   },
   "source": [
    "## Testing"
   ]
  },
  {
   "cell_type": "code",
   "execution_count": null,
   "metadata": {
    "hidden": true,
    "run_control": {
     "marked": false
    }
   },
   "outputs": [],
   "source": [
    "# Insert Dataframe into SQL Server:\n",
    "for index, row in df.iterrows():\n",
    "    cursor.execute(\"INSERT INTO HumanResources.DepartmentTest (DepartmentID,Name,GroupName) values(?,?,?)\", row.DepartmentID, row.Name, row.GroupName)\n",
    "cnxn.commit()\n",
    "cursor.close()"
   ]
  },
  {
   "cell_type": "markdown",
   "metadata": {
    "deletable": false,
    "editable": false,
    "heading_collapsed": true,
    "hidden": true,
    "run_control": {
     "frozen": true
    }
   },
   "source": [
    "### Drop And Recreate Database Table"
   ]
  },
  {
   "cell_type": "code",
   "execution_count": null,
   "metadata": {
    "ExecuteTime": {
     "end_time": "2020-10-20T21:01:04.052198Z",
     "start_time": "2020-10-20T21:01:03.890154Z"
    },
    "deletable": false,
    "editable": false,
    "hidden": true,
    "run_control": {
     "frozen": true,
     "marked": false
    }
   },
   "outputs": [],
   "source": [
    "try:\n",
    "    pd.read_sql('SELECT * FROM [OpsData].[dbo].[ACTUALS_VS_SHOPLOAD_DATES]', con=conn)\n",
    "    conn.execute('DROP TABLE [OpsData].[dbo].[ACTUALS_VS_SHOPLOAD_DATES]')\n",
    "    conn.commit()\n",
    "    print('Table Deleted')\n",
    "except:\n",
    "    print('Table Does Not Exist')\n"
   ]
  },
  {
   "cell_type": "code",
   "execution_count": null,
   "metadata": {
    "ExecuteTime": {
     "end_time": "2020-10-20T21:01:32.100680Z",
     "start_time": "2020-10-20T21:01:31.934820Z"
    },
    "deletable": false,
    "editable": false,
    "hidden": true,
    "run_control": {
     "frozen": true,
     "marked": false
    }
   },
   "outputs": [],
   "source": [
    "cursor.execute('''\n",
    "               CREATE TABLE [OpsData].[dbo].[ACTUALS_VS_SHOPLOAD_DATES]\n",
    "               ( [Date] varchar(50),\n",
    "                [Month] varchar(50),\n",
    "                [Year] varchar(50),\n",
    "                [Quarter] varchar(50),\n",
    "                [MonthYear] varchar(50),\n",
    "                [QuarterYear] varchar(50),\n",
    "                [Month Name] varchar(50),\n",
    "                [Month Name Abbrv] varchar(50) )'''\n",
    "              )\n",
    "\n",
    "conn.commit()\n",
    "print('Created Dates Table')"
   ]
  },
  {
   "cell_type": "code",
   "execution_count": null,
   "metadata": {
    "ExecuteTime": {
     "end_time": "2020-10-20T21:07:48.097771Z",
     "start_time": "2020-10-20T21:07:48.094272Z"
    },
    "deletable": false,
    "editable": false,
    "hidden": true,
    "run_control": {
     "frozen": true,
     "marked": false
    }
   },
   "outputs": [],
   "source": [
    "engine = sqlalchemy.create_engine(\"mssql+pyodbc://:@v2GBSdwesSQL01\")"
   ]
  },
  {
   "cell_type": "code",
   "execution_count": null,
   "metadata": {
    "deletable": false,
    "editable": false,
    "hidden": true,
    "run_control": {
     "frozen": true,
     "marked": false
    }
   },
   "outputs": [],
   "source": [
    "# write the DataFrame to a table in the sql database\n",
    "df.to_sql(\"table_name\", engine)"
   ]
  },
  {
   "cell_type": "code",
   "execution_count": null,
   "metadata": {
    "hidden": true,
    "run_control": {
     "marked": false
    }
   },
   "outputs": [],
   "source": []
  },
  {
   "cell_type": "code",
   "execution_count": null,
   "metadata": {
    "hidden": true,
    "run_control": {
     "marked": false
    }
   },
   "outputs": [],
   "source": []
  },
  {
   "cell_type": "markdown",
   "metadata": {
    "heading_collapsed": true
   },
   "source": [
    "## End Item Search"
   ]
  },
  {
   "cell_type": "code",
   "execution_count": null,
   "metadata": {
    "ExecuteTime": {
     "end_time": "2020-11-20T12:53:18.556279Z",
     "start_time": "2020-11-20T12:52:27.804Z"
    },
    "hidden": true,
    "run_control": {
     "marked": false
    }
   },
   "outputs": [],
   "source": [
    "conn = pyodbc.connect('DSN=v2GBSdwesSQL01')"
   ]
  },
  {
   "cell_type": "code",
   "execution_count": null,
   "metadata": {
    "ExecuteTime": {
     "end_time": "2020-11-20T12:53:18.557836Z",
     "start_time": "2020-11-20T12:52:27.805Z"
    },
    "hidden": true,
    "run_control": {
     "marked": false
    }
   },
   "outputs": [],
   "source": [
    "cursor = conn.cursor()"
   ]
  },
  {
   "cell_type": "code",
   "execution_count": null,
   "metadata": {
    "ExecuteTime": {
     "end_time": "2020-11-20T12:53:18.559697Z",
     "start_time": "2020-11-20T12:52:27.808Z"
    },
    "hidden": true,
    "run_control": {
     "marked": false
    }
   },
   "outputs": [],
   "source": [
    "ei_df = pd.read_sql('SELECT * FROM [OpsData].[dbo].[PRIMEENDITEMS]', con=conn)"
   ]
  },
  {
   "cell_type": "code",
   "execution_count": null,
   "metadata": {
    "ExecuteTime": {
     "end_time": "2020-11-20T12:53:18.560030Z",
     "start_time": "2020-11-20T12:52:27.810Z"
    },
    "hidden": true,
    "run_control": {
     "marked": false
    }
   },
   "outputs": [],
   "source": [
    "ei_df[ei_df['End Item'].str.contains( '3029029')]"
   ]
  },
  {
   "cell_type": "code",
   "execution_count": null,
   "metadata": {
    "hidden": true,
    "run_control": {
     "marked": false
    }
   },
   "outputs": [],
   "source": []
  },
  {
   "cell_type": "markdown",
   "metadata": {},
   "source": [
    "## Query Values Search"
   ]
  },
  {
   "cell_type": "code",
   "execution_count": null,
   "metadata": {
    "ExecuteTime": {
     "end_time": "2020-11-23T21:10:47.757162Z",
     "start_time": "2020-11-23T21:10:47.741342Z"
    },
    "run_control": {
     "marked": false
    }
   },
   "outputs": [],
   "source": [
    "unknown_nwas = [\n",
    "    '601439237-CPII',\n",
    "    '601465366-HDSA',\n",
    "    '601483579-IMPL',\n",
    "    '601488943-6AAE',\n",
    "    '601497473-TRSP',\n",
    "    '601500955-0001',\n",
    "    '601518969-ADCI',\n",
    "    '601519723-0301',\n",
    "    '601527657-MATL',\n",
    "    '601527658-GUI1',\n",
    "    '601528948-OFFL',\n",
    "    '601546474-BASE',\n",
    "    '601550984-0162',\n",
    "    '601550984-0163',\n",
    "    '601550984-0164',\n",
    "    '601562809-4451',\n",
    "    '601562809-4456',\n",
    "    '601562809-4598',\n",
    "    '601562809-5571',\n",
    "    '601562809-5572',\n",
    "    '601562809-5573',\n",
    "    '601563379-SRU1',\n",
    "    '601570950-OFFL',\n",
    "    '601571294-D5AA',\n",
    "    '601572294-MPF1',\n",
    "    '601575480-0023',\n",
    "    '601575480-0024',\n",
    "    '601575480-0026',\n",
    "    '601576609-MESF',\n",
    "    '601581723-0013',\n",
    "    '601582351-6436',\n",
    "    '601584182-0520',\n",
    "    '601584183-0290',\n",
    "    '601585104-0005',\n",
    "    '601586387-0060',\n",
    "    '601586430-SUPT',\n",
    "    '601587086-LABL',\n",
    "    '601587640-PX21',\n",
    "    '601588066-PHS3',\n",
    "    '601588066-PHS8',\n",
    "    '601588782-SUPT',\n",
    "    '601590904-T007',\n",
    "    '601594732-ARRP',\n",
    "    '601596861-0050',\n",
    "    '601598768-SUPT',\n",
    "    '601599580-CAAA',\n",
    "    '601599580-FAAA',\n",
    "    '601602059-GATE',\n",
    "    '601602939-LBR1',\n",
    "    '601603086-ARRP',\n",
    "    '601603087-ARRP',\n",
    "    '601603088-0458',\n",
    "    '601603088-0979',\n",
    "    '601603088-0984',\n",
    "    '601603088-1978',\n",
    "    '601603301-LABR',\n",
    "    '601603576-LLOE',\n",
    "    '700052582-CAEC',\n",
    "    '700052842-SMEA',\n",
    "    '601590905-T071',\n",
    "    '601590905-T072']"
   ]
  },
  {
   "cell_type": "markdown",
   "metadata": {},
   "source": [
    "### Import Query Values File"
   ]
  },
  {
   "cell_type": "code",
   "execution_count": null,
   "metadata": {
    "ExecuteTime": {
     "end_time": "2020-11-23T21:11:38.998906Z",
     "start_time": "2020-11-23T21:11:38.518206Z"
    },
    "run_control": {
     "marked": false
    }
   },
   "outputs": [],
   "source": [
    "qv_df = pd.read_excel(r\"C:\\Users\\1155449\\project_home\\cats\\Reports\\Template\\Structure Mapping Automation.xlsm\", sheet_name='Query')"
   ]
  },
  {
   "cell_type": "code",
   "execution_count": null,
   "metadata": {
    "ExecuteTime": {
     "end_time": "2020-11-23T21:11:48.227771Z",
     "start_time": "2020-11-23T21:11:48.196815Z"
    },
    "run_control": {
     "marked": false
    }
   },
   "outputs": [],
   "source": [
    "mapped_columns = []\n",
    "mapped_columns.append('NWA Charge Number')\n",
    "\n",
    "for _ in qv_df.columns.tolist()[4:11]:\n",
    "    mapped_columns.append(_)"
   ]
  },
  {
   "cell_type": "markdown",
   "metadata": {},
   "source": [
    "### Match To Query Values DataFrame"
   ]
  },
  {
   "cell_type": "code",
   "execution_count": null,
   "metadata": {
    "ExecuteTime": {
     "end_time": "2020-11-23T21:39:58.720033Z",
     "start_time": "2020-11-23T21:39:58.595740Z"
    },
    "run_control": {
     "marked": false
    }
   },
   "outputs": [],
   "source": [
    "from collections import defaultdict\n",
    "\n",
    "results_dict = defaultdict(list)\n",
    "\n",
    "for u_nwa in unknown_nwas:\n",
    "    t_u_nwa = u_nwa.split('-')[0]\n",
    "    \n",
    "    try:\n",
    "        list(qv_df[qv_df['NWA Parent/ Activity'].str.contains(t_u_nwa)].iloc[0, 4:14])\n",
    "        results_dict[u_nwa].append('')\n",
    "        results_dict[u_nwa].append('')\n",
    "        \n",
    "        for _ in list(qv_df[qv_df['NWA Parent/ Activity'].str.contains(t_u_nwa)].iloc[0, 4:14]):\n",
    "            results_dict[u_nwa].append(_)\n",
    "    except:\n",
    "        results_dict[u_nwa].append(None)\n",
    "        "
   ]
  },
  {
   "cell_type": "code",
   "execution_count": null,
   "metadata": {
    "run_control": {
     "marked": false
    }
   },
   "outputs": [],
   "source": []
  },
  {
   "cell_type": "code",
   "execution_count": null,
   "metadata": {
    "ExecuteTime": {
     "end_time": "2020-11-23T21:39:58.745065Z",
     "start_time": "2020-11-23T21:39:58.721031Z"
    },
    "run_control": {
     "marked": false
    }
   },
   "outputs": [],
   "source": [
    "# from collections import defaultdict\n",
    "\n",
    "# results_dict = defaultdict(list)\n",
    "\n",
    "# for u_nwa in unknown_nwas:\n",
    "#     t_u_nwa = u_nwa.split('-')[0]\n",
    "#     results_dict[u_nwa].append('')\n",
    "#     results_dict[u_nwa].append('')\n",
    "    \n",
    "#     try:\n",
    "#         for _ in list(qv_df[qv_df['NWA Parent/ Activity'].str.contains(t_u_nwa)].iloc[0, 4:14]):\n",
    "#             results_dict[u_nwa].append(_)\n",
    "#     except:\n",
    "#         results_dict[u_nwa].append(None)"
   ]
  },
  {
   "cell_type": "code",
   "execution_count": null,
   "metadata": {
    "ExecuteTime": {
     "end_time": "2020-11-23T21:39:58.760154Z",
     "start_time": "2020-11-23T21:39:58.747355Z"
    },
    "run_control": {
     "marked": false
    }
   },
   "outputs": [],
   "source": [
    "results_df = pd.DataFrame.from_dict( results_dict, orient='index').reset_index(drop=False)"
   ]
  },
  {
   "cell_type": "code",
   "execution_count": null,
   "metadata": {
    "ExecuteTime": {
     "end_time": "2020-11-23T21:39:58.790185Z",
     "start_time": "2020-11-23T21:39:58.761403Z"
    },
    "run_control": {
     "marked": false
    }
   },
   "outputs": [],
   "source": [
    "results_df.rename(columns={'index': 'NWA Charge Number',\n",
    "0: 'WBS Element',\n",
    "1: 'WBS Description',\n",
    "2: 'Prj Def',\n",
    "3: 'Project Definition Desc',\n",
    "4: 'Major Program',\n",
    "5: 'MP ID',\n",
    "6: 'Sub Program 1 (Proj)',\n",
    "7: 'Sub Program 2 (Proj)',\n",
    "8: 'Sub Program 3 (Proj)'\n",
    "}, inplace=True)"
   ]
  },
  {
   "cell_type": "code",
   "execution_count": null,
   "metadata": {
    "ExecuteTime": {
     "end_time": "2020-11-23T21:45:48.633507Z",
     "start_time": "2020-11-23T21:45:48.619609Z"
    },
    "run_control": {
     "marked": false
    }
   },
   "outputs": [],
   "source": [
    "results_df.head(2)"
   ]
  },
  {
   "cell_type": "markdown",
   "metadata": {},
   "source": [
    "## Try Using WBS"
   ]
  },
  {
   "cell_type": "markdown",
   "metadata": {},
   "source": [
    "### Import WBS"
   ]
  },
  {
   "cell_type": "code",
   "execution_count": null,
   "metadata": {
    "ExecuteTime": {
     "end_time": "2020-11-23T21:16:22.131632Z",
     "start_time": "2020-11-23T21:16:22.117654Z"
    },
    "run_control": {
     "marked": false
    }
   },
   "outputs": [],
   "source": [
    "wbs_file = r\"C:\\Users\\1155449\\project_home\\cats\\Reports\\Template\\WBS XREF.xlsm\"\n",
    "\n",
    "wbs_df = pd.read_excel(wbs_file, sheet_name='WBS Ref')"
   ]
  },
  {
   "cell_type": "code",
   "execution_count": null,
   "metadata": {
    "ExecuteTime": {
     "end_time": "2020-11-23T21:47:59.534384Z",
     "start_time": "2020-11-23T21:47:59.529962Z"
    },
    "run_control": {
     "marked": false
    }
   },
   "outputs": [],
   "source": [
    "wbs_df.columns"
   ]
  },
  {
   "cell_type": "code",
   "execution_count": null,
   "metadata": {
    "ExecuteTime": {
     "end_time": "2020-11-23T21:48:32.893514Z",
     "start_time": "2020-11-23T21:48:31.399257Z"
    },
    "run_control": {
     "marked": false
    }
   },
   "outputs": [],
   "source": [
    "wbs_results_col = wbs_df.columns.tolist()[2:]\n",
    "\n",
    "wbs_results_dict = defaultdict(list)\n",
    "\n",
    "for u_nwa in unknown_nwas:\n",
    "    t_u_nwa = u_nwa.split('-')[0]\n",
    "    \n",
    "#   Try WBS \n",
    "    try:\n",
    "        list(wbs_df[wbs_df['NWA Charge Number'].str.contains(t_u_nwa)].iloc[0, 4:])\n",
    "        wbs_results_dict[u_nwa].append('')\n",
    "        wbs_results_dict[u_nwa].append('')\n",
    "        \n",
    "        for _ in list(wbs_df[wbs_df['NWA Charge Number'].str.contains(t_u_nwa)].iloc[0, 4:]):\n",
    "            wbs_results_dict[u_nwa].append(_)\n",
    "    except:\n",
    "        wbs_results_dict[u_nwa].append(None)        \n",
    "\n",
    "wbs_results_df = pd.DataFrame.from_dict( wbs_results_dict, columns=wbs_results_col ,orient='index').reset_index(drop=False)"
   ]
  },
  {
   "cell_type": "code",
   "execution_count": null,
   "metadata": {
    "ExecuteTime": {
     "end_time": "2020-11-23T21:51:17.506793Z",
     "start_time": "2020-11-23T21:51:17.497867Z"
    },
    "run_control": {
     "marked": false
    }
   },
   "outputs": [],
   "source": [
    "wbs_results_df.rename(columns={'index': 'NWA Charge Number'}, inplace=True)"
   ]
  },
  {
   "cell_type": "code",
   "execution_count": null,
   "metadata": {
    "ExecuteTime": {
     "end_time": "2020-11-23T21:51:20.903872Z",
     "start_time": "2020-11-23T21:51:20.882603Z"
    },
    "run_control": {
     "marked": false
    }
   },
   "outputs": [],
   "source": [
    "wbs_results_df.head(2)"
   ]
  },
  {
   "cell_type": "code",
   "execution_count": null,
   "metadata": {
    "ExecuteTime": {
     "end_time": "2020-11-23T21:50:06.537304Z",
     "start_time": "2020-11-23T21:50:06.528319Z"
    },
    "run_control": {
     "marked": false
    }
   },
   "outputs": [],
   "source": [
    "len(wbs_results_df.index)"
   ]
  },
  {
   "cell_type": "markdown",
   "metadata": {},
   "source": [
    "### Export WBS Results"
   ]
  },
  {
   "cell_type": "code",
   "execution_count": null,
   "metadata": {
    "ExecuteTime": {
     "end_time": "2020-11-23T21:51:30.706768Z",
     "start_time": "2020-11-23T21:51:30.692239Z"
    },
    "run_control": {
     "marked": false
    }
   },
   "outputs": [],
   "source": [
    "wbs_results_out_file = get_universal_path(os.path.join(abs_execuatble_folder, 'wbs_matches.csv'))\n",
    "wbs_results_df.to_csv(wbs_results_out_file, index=False, header=True)"
   ]
  },
  {
   "cell_type": "code",
   "execution_count": null,
   "metadata": {
    "run_control": {
     "marked": false
    }
   },
   "outputs": [],
   "source": []
  },
  {
   "cell_type": "code",
   "execution_count": null,
   "metadata": {
    "run_control": {
     "marked": false
    }
   },
   "outputs": [],
   "source": []
  },
  {
   "cell_type": "code",
   "execution_count": null,
   "metadata": {
    "run_control": {
     "marked": false
    }
   },
   "outputs": [],
   "source": []
  },
  {
   "cell_type": "code",
   "execution_count": null,
   "metadata": {
    "run_control": {
     "marked": false
    }
   },
   "outputs": [],
   "source": []
  },
  {
   "cell_type": "code",
   "execution_count": null,
   "metadata": {
    "run_control": {
     "marked": false
    }
   },
   "outputs": [],
   "source": []
  },
  {
   "cell_type": "code",
   "execution_count": null,
   "metadata": {
    "run_control": {
     "marked": false
    }
   },
   "outputs": [],
   "source": []
  },
  {
   "cell_type": "code",
   "execution_count": null,
   "metadata": {
    "run_control": {
     "marked": false
    }
   },
   "outputs": [],
   "source": []
  },
  {
   "cell_type": "markdown",
   "metadata": {},
   "source": [
    "# Access"
   ]
  },
  {
   "cell_type": "markdown",
   "metadata": {},
   "source": [
    "## Init Access "
   ]
  },
  {
   "cell_type": "code",
   "execution_count": null,
   "metadata": {
    "ExecuteTime": {
     "start_time": "2020-11-20T22:15:40.899Z"
    },
    "run_control": {
     "marked": false
    }
   },
   "outputs": [],
   "source": [
    "cats_access_file = r\"C:\\Users\\1155449\\project_home\\cats\\Reports\\Template\\Archive\\CATS DB - Template - Copy.accdb\""
   ]
  },
  {
   "cell_type": "code",
   "execution_count": null,
   "metadata": {
    "ExecuteTime": {
     "start_time": "2020-11-20T22:15:40.903Z"
    },
    "run_control": {
     "marked": false
    }
   },
   "outputs": [],
   "source": [
    "pythoncom.CoInitialize()\n",
    "\n",
    "filename = os.path.basename(cats_access_file)\n",
    "print(f'File|{filename}|Opening database {filename}')\n"
   ]
  },
  {
   "cell_type": "code",
   "execution_count": null,
   "metadata": {
    "ExecuteTime": {
     "start_time": "2020-11-20T22:15:40.908Z"
    },
    "run_control": {
     "marked": false
    }
   },
   "outputs": [],
   "source": [
    "access_app = win32com.client.DispatchEx('Access.Application')\n",
    "# access_app.Visible = False\n",
    "access_app.Visible = True\n",
    "\n",
    "access_app.OpenCurrentDatabase(cats_access_file)\n",
    "\n",
    "db = access_app.CurrentDb()"
   ]
  },
  {
   "cell_type": "markdown",
   "metadata": {},
   "source": [
    "### Print Linked Table Source Files"
   ]
  },
  {
   "cell_type": "code",
   "execution_count": null,
   "metadata": {
    "ExecuteTime": {
     "start_time": "2020-11-20T22:15:41.130Z"
    },
    "run_control": {
     "marked": false
    }
   },
   "outputs": [],
   "source": [
    "tbl_source_files_dict = {}\n",
    "tbl_source_wkshts_dict = {}\n",
    "\n",
    "\n",
    "for tbl_def in db.TableDefs:\n",
    "\n",
    "    tbl_path = tbl_def.Connect.split('=')[-1]\n",
    "    tbl_basename = str(tbl_def.Properties(6))    \n",
    "    \n",
    "    if '.' in tbl_path:\n",
    "        tbl_source_file = tbl_path\n",
    "        tbl_source_wkshts_dict[tbl_def.Name] = tbl_basename\n",
    "    else:\n",
    "        tbl_source_file = tbl_path + '\\\\' + tbl_basename\n",
    "    \n",
    "    if len(tbl_source_file) >= 2:\n",
    "        tbl_source_files_dict[tbl_def.Name] = tbl_source_file\n",
    "        print(tbl_source_file)"
   ]
  },
  {
   "cell_type": "code",
   "execution_count": null,
   "metadata": {
    "run_control": {
     "marked": false
    }
   },
   "outputs": [],
   "source": []
  },
  {
   "cell_type": "code",
   "execution_count": null,
   "metadata": {
    "run_control": {
     "marked": false
    }
   },
   "outputs": [],
   "source": []
  },
  {
   "cell_type": "markdown",
   "metadata": {},
   "source": [
    "### Print Table Columns"
   ]
  },
  {
   "cell_type": "code",
   "execution_count": null,
   "metadata": {
    "ExecuteTime": {
     "start_time": "2020-11-20T22:15:41.347Z"
    },
    "run_control": {
     "marked": false
    }
   },
   "outputs": [],
   "source": [
    "access_col_names = []\n",
    "\n",
    "for tbl_def in db.TableDefs:\n",
    "\n",
    "    tbl_path = tbl_def.Connect.split('=')[-1]\n",
    "    tbl_basename = str(tbl_def.Properties(6))    \n",
    "    \n",
    "    for f in tbl_def.Fields:\n",
    "        access_col_names.append([tbl_def.Connect, tbl_basename, f.Name])"
   ]
  },
  {
   "cell_type": "code",
   "execution_count": null,
   "metadata": {
    "ExecuteTime": {
     "start_time": "2020-11-20T22:15:41.350Z"
    },
    "run_control": {
     "marked": false
    }
   },
   "outputs": [],
   "source": [
    "access_columns_df = pd.DataFrame(columns=['Connect', 'Basename', 'Access Column Name'], data=access_col_names)"
   ]
  },
  {
   "cell_type": "code",
   "execution_count": null,
   "metadata": {
    "ExecuteTime": {
     "start_time": "2020-11-20T22:15:41.353Z"
    },
    "run_control": {
     "marked": false
    }
   },
   "outputs": [],
   "source": [
    "access_columns_df.to_excel(writer, sheet_name='Access')"
   ]
  },
  {
   "cell_type": "code",
   "execution_count": null,
   "metadata": {
    "run_control": {
     "marked": false
    }
   },
   "outputs": [],
   "source": []
  },
  {
   "cell_type": "code",
   "execution_count": null,
   "metadata": {
    "run_control": {
     "marked": false
    }
   },
   "outputs": [],
   "source": []
  },
  {
   "cell_type": "code",
   "execution_count": null,
   "metadata": {
    "run_control": {
     "marked": false
    }
   },
   "outputs": [],
   "source": []
  },
  {
   "cell_type": "code",
   "execution_count": null,
   "metadata": {
    "run_control": {
     "marked": false
    }
   },
   "outputs": [],
   "source": []
  },
  {
   "cell_type": "code",
   "execution_count": null,
   "metadata": {
    "run_control": {
     "marked": false
    }
   },
   "outputs": [],
   "source": []
  },
  {
   "cell_type": "code",
   "execution_count": null,
   "metadata": {
    "run_control": {
     "marked": false
    }
   },
   "outputs": [],
   "source": []
  },
  {
   "cell_type": "code",
   "execution_count": null,
   "metadata": {
    "run_control": {
     "marked": false
    }
   },
   "outputs": [],
   "source": []
  },
  {
   "cell_type": "code",
   "execution_count": null,
   "metadata": {
    "run_control": {
     "marked": false
    }
   },
   "outputs": [],
   "source": []
  },
  {
   "cell_type": "code",
   "execution_count": null,
   "metadata": {
    "run_control": {
     "marked": false
    }
   },
   "outputs": [],
   "source": []
  },
  {
   "cell_type": "code",
   "execution_count": null,
   "metadata": {
    "run_control": {
     "marked": false
    }
   },
   "outputs": [],
   "source": []
  },
  {
   "cell_type": "code",
   "execution_count": null,
   "metadata": {
    "run_control": {
     "marked": false
    }
   },
   "outputs": [],
   "source": []
  },
  {
   "cell_type": "markdown",
   "metadata": {},
   "source": [
    "# Non-Shop Hours"
   ]
  },
  {
   "cell_type": "markdown",
   "metadata": {},
   "source": [
    "## Non-Shop Hours"
   ]
  },
  {
   "cell_type": "markdown",
   "metadata": {},
   "source": [
    "### Target"
   ]
  },
  {
   "cell_type": "markdown",
   "metadata": {},
   "source": [
    "<img style=\"float: left;\" src=\"./Source/target_hours.png\">"
   ]
  },
  {
   "cell_type": "code",
   "execution_count": null,
   "metadata": {
    "ExecuteTime": {
     "end_time": "2020-11-23T11:59:24.734550Z",
     "start_time": "2020-11-23T11:59:24.725673Z"
    },
    "run_control": {
     "marked": false
    }
   },
   "outputs": [],
   "source": [
    "target_hours = 9871\n",
    "target_date = datetime.strptime('11/16/2020', '%m/%d/%Y')"
   ]
  },
  {
   "cell_type": "markdown",
   "metadata": {},
   "source": [
    "## Import CATS DF"
   ]
  },
  {
   "cell_type": "code",
   "execution_count": null,
   "metadata": {
    "ExecuteTime": {
     "end_time": "2020-11-23T11:59:27.450661Z",
     "start_time": "2020-11-23T11:59:25.218347Z"
    },
    "run_control": {
     "marked": false
    }
   },
   "outputs": [],
   "source": [
    "if use_db_tables:\n",
    "    print('Importing CATS Database Table')\n",
    "    conn = pyodbc.connect('DSN=v2GBSdwesSQL01')\n",
    "    cursor = conn.cursor()\n",
    "    cats_df = pd.read_sql('select * from [opsdata].[dbo].[CATS_HOURS]', con=conn)    \n",
    "\n",
    "else:\n",
    "    print('Importing Local CATS File')\n",
    "    cats_df = pd.read_csv(local_cats_file, delimiter='\\t')"
   ]
  },
  {
   "cell_type": "code",
   "execution_count": null,
   "metadata": {
    "ExecuteTime": {
     "end_time": "2020-11-23T12:59:45.385167Z",
     "start_time": "2020-11-23T12:59:45.344206Z"
    },
    "run_control": {
     "marked": false
    }
   },
   "outputs": [],
   "source": [
    "local_cats_file"
   ]
  },
  {
   "cell_type": "code",
   "execution_count": null,
   "metadata": {
    "ExecuteTime": {
     "end_time": "2020-11-23T13:01:04.377529Z",
     "start_time": "2020-11-23T13:01:04.346552Z"
    },
    "run_control": {
     "marked": false
    }
   },
   "outputs": [],
   "source": [
    "c_df"
   ]
  },
  {
   "cell_type": "code",
   "execution_count": null,
   "metadata": {
    "ExecuteTime": {
     "end_time": "2020-11-23T11:59:27.531462Z",
     "start_time": "2020-11-23T11:59:27.450736Z"
    },
    "run_control": {
     "marked": false
    }
   },
   "outputs": [],
   "source": [
    "cats_df.iloc[100:, 0:15].head(4)"
   ]
  },
  {
   "cell_type": "code",
   "execution_count": null,
   "metadata": {
    "ExecuteTime": {
     "end_time": "2020-11-23T11:59:27.600880Z",
     "start_time": "2020-11-23T11:59:27.534371Z"
    },
    "run_control": {
     "marked": false
    }
   },
   "outputs": [],
   "source": [
    "cats_df.iloc[100:, 14:30].head(4)"
   ]
  },
  {
   "cell_type": "code",
   "execution_count": null,
   "metadata": {
    "ExecuteTime": {
     "end_time": "2020-11-23T11:59:27.616019Z",
     "start_time": "2020-11-23T11:59:27.603419Z"
    },
    "run_control": {
     "marked": false
    }
   },
   "outputs": [],
   "source": [
    "cats_df.iloc[100:, 29:35].head(4)"
   ]
  },
  {
   "cell_type": "markdown",
   "metadata": {},
   "source": [
    "### Add Cost Center In Lower Case"
   ]
  },
  {
   "cell_type": "code",
   "execution_count": null,
   "metadata": {
    "ExecuteTime": {
     "end_time": "2020-11-23T11:59:28.407195Z",
     "start_time": "2020-11-23T11:59:28.221701Z"
    },
    "run_control": {
     "marked": false
    }
   },
   "outputs": [],
   "source": [
    "cats_df['Center'] = cats_df['Cost center - Text'].str.lower()"
   ]
  },
  {
   "cell_type": "markdown",
   "metadata": {},
   "source": [
    "### Create date_run_df"
   ]
  },
  {
   "cell_type": "code",
   "execution_count": null,
   "metadata": {
    "ExecuteTime": {
     "end_time": "2020-11-23T11:59:28.422722Z",
     "start_time": "2020-11-23T11:59:28.409015Z"
    },
    "run_control": {
     "marked": false
    }
   },
   "outputs": [],
   "source": [
    "date_run_df = create_date_run_df()"
   ]
  },
  {
   "cell_type": "markdown",
   "metadata": {},
   "source": [
    "### Merge cats_df And date_run_df"
   ]
  },
  {
   "cell_type": "code",
   "execution_count": null,
   "metadata": {
    "ExecuteTime": {
     "end_time": "2020-11-23T11:59:29.421861Z",
     "start_time": "2020-11-23T11:59:28.425294Z"
    },
    "run_control": {
     "marked": false
    }
   },
   "outputs": [],
   "source": [
    "cats_df = cats_df.merge(date_run_df, how='left', left_on='Wrkdte Week - Key', right_on='CalWeekYear', suffixes=('', '_DateRun'), indicator=True)"
   ]
  },
  {
   "attachments": {
    "image.png": {
     "image/png": "[encoded data removed]"
    }
   },
   "cell_type": "markdown",
   "metadata": {},
   "source": [
    "![image.png](attachment:image.png)"
   ]
  },
  {
   "cell_type": "markdown",
   "metadata": {},
   "source": [
    "### Import Cost Center Mapping"
   ]
  },
  {
   "cell_type": "code",
   "execution_count": null,
   "metadata": {
    "ExecuteTime": {
     "end_time": "2020-11-23T11:59:29.437750Z",
     "start_time": "2020-11-23T11:59:29.424247Z"
    },
    "run_control": {
     "marked": false
    }
   },
   "outputs": [],
   "source": [
    "ccm_file = r\"C:\\Users\\1155449\\project_home\\cats\\Reports\\CostCenterMapping.txt\"\n",
    "\n",
    "ccm_df = pd.read_csv(ccm_file, delimiter='\\t', encoding='latin1')"
   ]
  },
  {
   "cell_type": "markdown",
   "metadata": {},
   "source": [
    "### Create Cost Center Str Column"
   ]
  },
  {
   "cell_type": "code",
   "execution_count": null,
   "metadata": {
    "ExecuteTime": {
     "end_time": "2020-11-23T11:59:29.917565Z",
     "start_time": "2020-11-23T11:59:29.440004Z"
    },
    "run_control": {
     "marked": false
    }
   },
   "outputs": [],
   "source": [
    "cats_df['Cost center - Key (Not Compounded) Str'] = cats_df['Cost center - Key (Not Compounded)'].astype(str)"
   ]
  },
  {
   "cell_type": "markdown",
   "metadata": {},
   "source": [
    "### Merge cats_df To ccm_df On Cost Center"
   ]
  },
  {
   "cell_type": "code",
   "execution_count": null,
   "metadata": {
    "ExecuteTime": {
     "end_time": "2020-11-23T11:59:30.878101Z",
     "start_time": "2020-11-23T11:59:29.920629Z"
    },
    "run_control": {
     "marked": false
    }
   },
   "outputs": [],
   "source": [
    "cats_df = cats_df.merge(ccm_df, how='left', left_on='Cost center - Key (Not Compounded) Str', right_on='CCTR', suffixes=('', '_CCM'))"
   ]
  },
  {
   "cell_type": "markdown",
   "metadata": {},
   "source": [
    "### Add Lab Type Column"
   ]
  },
  {
   "cell_type": "code",
   "execution_count": null,
   "metadata": {
    "ExecuteTime": {
     "end_time": "2020-11-23T11:59:30.898578Z",
     "start_time": "2020-11-23T11:59:30.880613Z"
    },
    "run_control": {
     "marked": false
    }
   },
   "outputs": [],
   "source": [
    "cats_df['Lab Type'] = cats_df['Type']"
   ]
  },
  {
   "cell_type": "markdown",
   "metadata": {},
   "source": [
    "### Add S/O Column"
   ]
  },
  {
   "cell_type": "code",
   "execution_count": null,
   "metadata": {
    "ExecuteTime": {
     "end_time": "2020-11-23T11:59:37.075287Z",
     "start_time": "2020-11-23T11:59:30.900677Z"
    },
    "run_control": {
     "marked": false
    }
   },
   "outputs": [],
   "source": [
    "cats_df['S/O'] = cats_df.apply(lambda x: x['Prod Order (CATS Account)'][4:12], axis=1)"
   ]
  },
  {
   "cell_type": "code",
   "execution_count": null,
   "metadata": {
    "ExecuteTime": {
     "end_time": "2020-11-23T11:59:38.839282Z",
     "start_time": "2020-11-23T11:59:37.077565Z"
    },
    "run_control": {
     "marked": false
    }
   },
   "outputs": [],
   "source": [
    "found = False\n",
    "\n",
    "for idx, _ in cats_df.iterrows():\n",
    "    for col in cats_df.columns:\n",
    "        try:\n",
    "            if 'direct' in str.lower(cats_df.loc[idx, col]):\n",
    "                print(cats_df.loc[idx, col])\n",
    "                found = True\n",
    "                break\n",
    "                \n",
    "        except:\n",
    "            pass\n",
    "        \n",
    "        if found:\n",
    "            break\n",
    "\n",
    "    if found:\n",
    "        break                "
   ]
  },
  {
   "cell_type": "code",
   "execution_count": null,
   "metadata": {
    "ExecuteTime": {
     "end_time": "2020-11-23T11:59:38.940256Z",
     "start_time": "2020-11-23T11:59:38.840129Z"
    },
    "run_control": {
     "marked": false
    }
   },
   "outputs": [],
   "source": [
    "cats_df.pivot_table(index='Direct/Indirect Ind. - Key', columns='Wrkdte Week - Key', values='Cats Hours', aggfunc='sum')"
   ]
  },
  {
   "cell_type": "markdown",
   "metadata": {
    "heading_collapsed": true
   },
   "source": [
    "### Non Shop Column Function"
   ]
  },
  {
   "cell_type": "code",
   "execution_count": null,
   "metadata": {
    "ExecuteTime": {
     "end_time": "2020-11-23T12:01:47.391420Z",
     "start_time": "2020-11-23T12:01:47.375142Z"
    },
    "hidden": true,
    "run_control": {
     "marked": false
    }
   },
   "outputs": [],
   "source": [
    "def non_shop_code(idx, verbose=False):\n",
    "    t_lab_type = cats_df.loc[idx, 'Lab Type']\n",
    "    t_type = cats_df.loc[idx, 'Direct/Indirect Ind. - Key']\n",
    "    t_so = cats_df.loc[idx, 'S/O']\n",
    "    t_res = None\n",
    "    t_out_msg = ''\n",
    "\n",
    "    if t_lab_type != 'Touch':\n",
    "        t_out_msg += '1|Returning \"\"'\n",
    "        t_res = ''\n",
    "    else:\n",
    "        if t_so != '' and t_so[0] != '4':\n",
    "            t_out_msg += '2|Returning Shop Order'\n",
    "            t_res = 'Shop Order'\n",
    "\n",
    "            if t_so == '' and t_lab_type == 'Touch' and t_type == 'D':\n",
    "                t_out_msg += '3|Returning Non-Shop'\n",
    "                t_res = 'Non-Shop'\n",
    "            else:\n",
    "                t_out_msg += '4|Returning x'\n",
    "                t_res = 'x'\n",
    "                \n",
    "    print( t_out_msg ) if verbose else None\n",
    "    return t_res"
   ]
  },
  {
   "cell_type": "markdown",
   "metadata": {
    "heading_collapsed": true
   },
   "source": [
    "### Add Non Shop Column"
   ]
  },
  {
   "cell_type": "code",
   "execution_count": null,
   "metadata": {
    "ExecuteTime": {
     "end_time": "2020-11-23T12:01:57.522967Z",
     "start_time": "2020-11-23T12:01:47.691885Z"
    },
    "hidden": true,
    "run_control": {
     "marked": false
    }
   },
   "outputs": [],
   "source": [
    "cats_df['Non-Shop'] = cats_df.apply(lambda x: non_shop_code(x.name), axis=1)"
   ]
  },
  {
   "cell_type": "code",
   "execution_count": null,
   "metadata": {
    "ExecuteTime": {
     "end_time": "2020-11-23T12:20:02.852326Z",
     "start_time": "2020-11-23T12:20:02.804335Z"
    },
    "hidden": true,
    "run_control": {
     "marked": false
    }
   },
   "outputs": [],
   "source": [
    "cats_df['Non-Shop'].unique().tolist()"
   ]
  },
  {
   "cell_type": "markdown",
   "metadata": {
    "heading_collapsed": true
   },
   "source": [
    "## Import Activity Mapping"
   ]
  },
  {
   "cell_type": "code",
   "execution_count": null,
   "metadata": {
    "ExecuteTime": {
     "end_time": "2020-11-23T12:02:09.068567Z",
     "start_time": "2020-11-23T12:01:57.522967Z"
    },
    "hidden": true,
    "run_control": {
     "marked": false
    }
   },
   "outputs": [],
   "source": [
    "try:\n",
    "    activity_file \n",
    "except:\n",
    "    activity_file = get_universal_path(sg.PopupGetFile('Select The Activity Mapping File', keep_on_top=True, initial_folder=abs_execuatble_folder))"
   ]
  },
  {
   "cell_type": "code",
   "execution_count": null,
   "metadata": {
    "ExecuteTime": {
     "end_time": "2020-11-23T12:02:09.084210Z",
     "start_time": "2020-11-23T12:02:09.072489Z"
    },
    "hidden": true,
    "run_control": {
     "marked": false
    }
   },
   "outputs": [],
   "source": [
    "am_df = pd.read_csv(activity_file, encoding='latin1', delimiter='\\t')"
   ]
  },
  {
   "cell_type": "markdown",
   "metadata": {
    "heading_collapsed": true,
    "hidden": true
   },
   "source": [
    "### Add AA Column"
   ]
  },
  {
   "cell_type": "code",
   "execution_count": null,
   "metadata": {
    "ExecuteTime": {
     "end_time": "2020-11-23T12:02:09.100545Z",
     "start_time": "2020-11-23T12:02:09.087787Z"
    },
    "hidden": true,
    "run_control": {
     "marked": false
    }
   },
   "outputs": [],
   "source": [
    "am_df['AA'] = am_df.apply(lambda x: x['Name'] if not pd.isnull(x['Name']) else x['Activity Type'], axis=1)"
   ]
  },
  {
   "cell_type": "markdown",
   "metadata": {
    "heading_collapsed": true
   },
   "source": [
    "# Fuzzy Matching"
   ]
  },
  {
   "cell_type": "markdown",
   "metadata": {
    "hidden": true
   },
   "source": [
    "### Fuzzywuzzy Matching"
   ]
  },
  {
   "cell_type": "code",
   "execution_count": null,
   "metadata": {
    "ExecuteTime": {
     "end_time": "2020-11-23T12:02:09.128213Z",
     "start_time": "2020-11-23T12:02:09.102545Z"
    },
    "hidden": true,
    "run_control": {
     "marked": false
    }
   },
   "outputs": [],
   "source": [
    "def fuzzy_merge(df_1, df_2, key1, key2, threshold=90, limit=2):\n",
    "    \"\"\"\n",
    "    :param df_1: the left table to join\n",
    "    :param df_2: the right table to join\n",
    "    :param key1: key column of the left table\n",
    "    :param key2: key column of the right table\n",
    "    :param threshold: how close the matches should be to return a match, based on Levenshtein distance\n",
    "    :param limit: the amount of matches that will get returned, these are sorted high to low\n",
    "    :return: dataframe with boths keys and matches\n",
    "    \"\"\"\n",
    "    from fuzzywuzzy import fuzz\n",
    "    from fuzzywuzzy import process\n",
    "    \n",
    "    s = df_2[key2].tolist()\n",
    "\n",
    "    m = df_1[key1].apply(lambda x: process.extract(x, s, limit=limit))    \n",
    "    df_1['matches'] = m\n",
    "\n",
    "    m2 = df_1['matches'].apply(lambda x: ', '.join([i[0] for i in x if i[1] >= threshold]))\n",
    "    df_1['matches'] = m2\n",
    "\n",
    "    return df_1"
   ]
  },
  {
   "cell_type": "markdown",
   "metadata": {
    "hidden": true
   },
   "source": [
    "### Create CATS Attend/Absence Type - Short Text Lookup DataFrame"
   ]
  },
  {
   "cell_type": "code",
   "execution_count": null,
   "metadata": {
    "ExecuteTime": {
     "end_time": "2020-11-23T12:02:09.568514Z",
     "start_time": "2020-11-23T12:02:09.130185Z"
    },
    "hidden": true,
    "run_control": {
     "marked": false
    }
   },
   "outputs": [],
   "source": [
    "caat_df = pd.DataFrame(data=cats_df['Attend/Absence Type - Short Text'].unique().tolist(), columns=['Attend/Absence Type - Short Text'])\n",
    "\n",
    "caat_df = fuzzy_merge(df_1=caat_df, df_2=am_df, key1='Attend/Absence Type - Short Text', key2='AA', threshold=90, limit=1)"
   ]
  },
  {
   "cell_type": "markdown",
   "metadata": {
    "hidden": true
   },
   "source": [
    "### Add Jury Duty"
   ]
  },
  {
   "cell_type": "code",
   "execution_count": null,
   "metadata": {
    "ExecuteTime": {
     "end_time": "2020-11-23T12:02:09.586062Z",
     "start_time": "2020-11-23T12:02:09.570144Z"
    },
    "hidden": true,
    "run_control": {
     "marked": false
    }
   },
   "outputs": [],
   "source": [
    "caat_df.loc[17, 'matches'] =  'JURY DUTY'"
   ]
  },
  {
   "cell_type": "markdown",
   "metadata": {
    "hidden": true
   },
   "source": [
    "### Check For Any Additional Missing Matches"
   ]
  },
  {
   "cell_type": "code",
   "execution_count": null,
   "metadata": {
    "ExecuteTime": {
     "end_time": "2020-11-23T12:02:09.685748Z",
     "start_time": "2020-11-23T12:02:09.588531Z"
    },
    "hidden": true,
    "run_control": {
     "marked": false
    }
   },
   "outputs": [],
   "source": [
    "for _ in am_df['AA'].unique().tolist():\n",
    "    if 'overtime' in _:\n",
    "        print(f'overtime|{_}')\n",
    "    if 'double' in _:\n",
    "        print(f'double|{_}')\n",
    "    if 'missing' in _:\n",
    "        print(f'missing|{_}')\n",
    "        "
   ]
  },
  {
   "cell_type": "markdown",
   "metadata": {
    "hidden": true
   },
   "source": [
    "### Rename matches Column"
   ]
  },
  {
   "cell_type": "code",
   "execution_count": null,
   "metadata": {
    "ExecuteTime": {
     "end_time": "2020-11-23T12:02:09.712473Z",
     "start_time": "2020-11-23T12:02:09.687220Z"
    },
    "hidden": true,
    "run_control": {
     "marked": false
    }
   },
   "outputs": [],
   "source": [
    "caat_df.rename(columns={'matches': 'Fuzzy Activity Type'}, inplace=True)"
   ]
  },
  {
   "cell_type": "markdown",
   "metadata": {
    "hidden": true
   },
   "source": [
    "### Merge cats_df To caat_df"
   ]
  },
  {
   "cell_type": "code",
   "execution_count": null,
   "metadata": {
    "ExecuteTime": {
     "end_time": "2020-11-23T12:03:53.920963Z",
     "start_time": "2020-11-23T12:03:52.688388Z"
    },
    "hidden": true,
    "run_control": {
     "marked": false
    }
   },
   "outputs": [],
   "source": [
    "cats_df = cats_df.merge(caat_df, left_on='Attend/Absence Type - Short Text', right_on='Attend/Absence Type - Short Text', how='left', suffixes=('', '_Fuzzy'))"
   ]
  },
  {
   "attachments": {
    "image.png": {
     "image/png": "[encoded data removed]"
    }
   },
   "cell_type": "markdown",
   "metadata": {
    "hidden": true
   },
   "source": [
    "![image.png](attachment:image.png)"
   ]
  },
  {
   "cell_type": "markdown",
   "metadata": {
    "hidden": true
   },
   "source": [
    "## Shop Hours Pivot Table"
   ]
  },
  {
   "cell_type": "code",
   "execution_count": null,
   "metadata": {
    "ExecuteTime": {
     "end_time": "2020-11-23T12:29:05.947012Z",
     "start_time": "2020-11-23T12:29:05.878855Z"
    },
    "hidden": true,
    "run_control": {
     "marked": false
    }
   },
   "outputs": [],
   "source": [
    "cats_df[(cats_df['Date'] == '11/9/2020') &\n",
    "       (cats_df['Lab Type'] == 'Touch')].pivot_table(index=['Lab Type', 'Direct/Indirect Ind. - Key'], columns='Wrkdte Week - Key', values='Cats Hours', aggfunc='sum')"
   ]
  },
  {
   "cell_type": "code",
   "execution_count": null,
   "metadata": {
    "ExecuteTime": {
     "end_time": "2020-11-23T12:31:26.950344Z",
     "start_time": "2020-11-23T12:31:26.888927Z"
    },
    "hidden": true,
    "run_control": {
     "marked": false
    }
   },
   "outputs": [],
   "source": [
    "cats_df[(cats_df['Date'] == '11/9/2020') &\n",
    "       (cats_df['Lab Type'] == 'Touch')].pivot_table(index=[ 'Attend/Absence Type - Short Text'], columns=['Direct/Indirect Ind. - Key'], values='Cats Hours', aggfunc='sum')"
   ]
  },
  {
   "cell_type": "code",
   "execution_count": null,
   "metadata": {
    "ExecuteTime": {
     "end_time": "2020-11-23T12:32:16.553470Z",
     "start_time": "2020-11-23T12:32:16.504854Z"
    },
    "hidden": true,
    "run_control": {
     "marked": false
    }
   },
   "outputs": [],
   "source": [
    "cats_df[(cats_df['Date'] == '11/9/2020') &\n",
    "       (cats_df['Lab Type'] == 'Touch')].pivot_table(index=[ 'Attend/Absence Type - Short Text'], columns=['Non-Shop'], values='Cats Hours', aggfunc='sum')"
   ]
  },
  {
   "cell_type": "code",
   "execution_count": null,
   "metadata": {
    "ExecuteTime": {
     "end_time": "2020-11-23T12:29:20.012735Z",
     "start_time": "2020-11-23T12:29:19.959700Z"
    },
    "hidden": true,
    "run_control": {
     "marked": false
    }
   },
   "outputs": [],
   "source": [
    "cats_df.head(2)"
   ]
  },
  {
   "cell_type": "markdown",
   "metadata": {
    "hidden": true
   },
   "source": [
    "## STOPPING POINT"
   ]
  },
  {
   "cell_type": "code",
   "execution_count": null,
   "metadata": {
    "hidden": true,
    "run_control": {
     "marked": false
    }
   },
   "outputs": [],
   "source": []
  },
  {
   "cell_type": "code",
   "execution_count": null,
   "metadata": {
    "hidden": true,
    "run_control": {
     "marked": false
    }
   },
   "outputs": [],
   "source": []
  },
  {
   "cell_type": "code",
   "execution_count": null,
   "metadata": {
    "hidden": true,
    "run_control": {
     "marked": false
    }
   },
   "outputs": [],
   "source": []
  },
  {
   "cell_type": "code",
   "execution_count": null,
   "metadata": {
    "hidden": true,
    "run_control": {
     "marked": false
    }
   },
   "outputs": [],
   "source": []
  },
  {
   "cell_type": "code",
   "execution_count": null,
   "metadata": {
    "hidden": true,
    "run_control": {
     "marked": false
    }
   },
   "outputs": [],
   "source": []
  },
  {
   "cell_type": "code",
   "execution_count": null,
   "metadata": {
    "hidden": true,
    "run_control": {
     "marked": false
    }
   },
   "outputs": [],
   "source": []
  },
  {
   "cell_type": "code",
   "execution_count": null,
   "metadata": {
    "hidden": true,
    "run_control": {
     "marked": false
    }
   },
   "outputs": [],
   "source": []
  },
  {
   "cell_type": "code",
   "execution_count": null,
   "metadata": {
    "hidden": true,
    "run_control": {
     "marked": false
    }
   },
   "outputs": [],
   "source": []
  },
  {
   "cell_type": "code",
   "execution_count": null,
   "metadata": {
    "hidden": true,
    "run_control": {
     "marked": false
    }
   },
   "outputs": [],
   "source": []
  },
  {
   "cell_type": "code",
   "execution_count": null,
   "metadata": {
    "ExecuteTime": {
     "end_time": "2020-11-23T00:48:21.764190Z",
     "start_time": "2020-11-23T00:48:21.701976Z"
    },
    "hidden": true,
    "run_control": {
     "marked": false
    }
   },
   "outputs": [],
   "source": [
    "cats_df.pivot_table(index=[ 'Attend/Absence Type - Short Text'], values='Cats Hours', aggfunc='sum')"
   ]
  },
  {
   "cell_type": "code",
   "execution_count": null,
   "metadata": {
    "ExecuteTime": {
     "end_time": "2020-11-22T18:03:50.887858Z",
     "start_time": "2020-11-22T18:03:50.841541Z"
    },
    "hidden": true,
    "run_control": {
     "marked": false
    }
   },
   "outputs": [],
   "source": [
    "am_df.pivot_table(index=['Name', 'Description'], values='Activity Type', aggfunc='count')"
   ]
  },
  {
   "cell_type": "markdown",
   "metadata": {
    "hidden": true
   },
   "source": [
    "## Activity Map Join SQL"
   ]
  },
  {
   "attachments": {
    "image.png": {
     "image/png": "[encoded data removed]"
    }
   },
   "cell_type": "markdown",
   "metadata": {
    "hidden": true
   },
   "source": [
    "![image.png](attachment:image.png)"
   ]
  },
  {
   "cell_type": "markdown",
   "metadata": {
    "hidden": true
   },
   "source": [
    "## Attend Type SQL"
   ]
  },
  {
   "attachments": {
    "image.png": {
     "image/png": "[encoded data removed]"
    }
   },
   "cell_type": "markdown",
   "metadata": {
    "hidden": true
   },
   "source": [
    "![image.png](attachment:image.png)"
   ]
  },
  {
   "cell_type": "markdown",
   "metadata": {
    "hidden": true
   },
   "source": [
    "## Non-Shop SQL"
   ]
  },
  {
   "attachments": {
    "image.png": {
     "image/png": "[encoded data removed]"
    }
   },
   "cell_type": "markdown",
   "metadata": {
    "hidden": true
   },
   "source": [
    "![image.png](attachment:image.png)"
   ]
  },
  {
   "cell_type": "markdown",
   "metadata": {
    "hidden": true
   },
   "source": [
    "## Shop Hours Make Table SQL"
   ]
  },
  {
   "attachments": {
    "image.png": {
     "image/png": "[encoded data removed]"
    }
   },
   "cell_type": "markdown",
   "metadata": {
    "hidden": true
   },
   "source": [
    "![image.png](attachment:image.png)"
   ]
  },
  {
   "cell_type": "markdown",
   "metadata": {
    "hidden": true
   },
   "source": [
    "### Print cats_df Columns"
   ]
  },
  {
   "cell_type": "code",
   "execution_count": null,
   "metadata": {
    "ExecuteTime": {
     "end_time": "2020-11-23T12:29:32.144397Z",
     "start_time": "2020-11-23T12:29:32.051288Z"
    },
    "hidden": true,
    "run_control": {
     "marked": false
    }
   },
   "outputs": [],
   "source": [
    "cats_df.iloc[100:, 0:15].head(2)"
   ]
  },
  {
   "cell_type": "code",
   "execution_count": null,
   "metadata": {
    "ExecuteTime": {
     "end_time": "2020-11-23T12:29:34.203148Z",
     "start_time": "2020-11-23T12:29:34.114232Z"
    },
    "hidden": true,
    "run_control": {
     "marked": false
    }
   },
   "outputs": [],
   "source": [
    "cats_df.iloc[100:, 14:30].head(2)"
   ]
  },
  {
   "cell_type": "code",
   "execution_count": null,
   "metadata": {
    "ExecuteTime": {
     "end_time": "2020-11-23T12:30:09.158812Z",
     "start_time": "2020-11-23T12:30:09.074846Z"
    },
    "hidden": true,
    "run_control": {
     "marked": false
    }
   },
   "outputs": [],
   "source": [
    "cats_df.iloc[100:, 29:45].head(2)"
   ]
  },
  {
   "attachments": {
    "image.png": {
     "image/png": "[encoded data removed]"
    }
   },
   "cell_type": "markdown",
   "metadata": {
    "hidden": true
   },
   "source": [
    "![image.png](attachment:image.png)"
   ]
  },
  {
   "cell_type": "markdown",
   "metadata": {
    "hidden": true
   },
   "source": [
    "## Shop Hours Pivot Table"
   ]
  },
  {
   "cell_type": "code",
   "execution_count": null,
   "metadata": {
    "ExecuteTime": {
     "end_time": "2020-11-23T12:26:46.236937Z",
     "start_time": "2020-11-23T12:26:46.188653Z"
    },
    "hidden": true,
    "run_control": {
     "marked": false
    }
   },
   "outputs": [],
   "source": [
    "cats_df[(cats_df['Date'] == '11/9/2020') &\n",
    "       (cats_df['Lab Type'] == 'Touch')].pivot_table(index=['Lab Type', 'Direct/Indirect Ind. - Key'], columns='Wrkdte Week - Key', values='Cats Hours', aggfunc='sum')"
   ]
  },
  {
   "cell_type": "code",
   "execution_count": null,
   "metadata": {
    "ExecuteTime": {
     "end_time": "2020-11-23T12:26:34.431881Z",
     "start_time": "2020-11-23T12:26:34.322797Z"
    },
    "hidden": true,
    "run_control": {
     "marked": false
    }
   },
   "outputs": [],
   "source": [
    "cats_df[\n",
    "    (cats_df['Date'] == '11/9/2020') &\n",
    "    (cats_df['Lab Type'] == 'Touch') & \n",
    "    (\n",
    "        (cats_df['Non-Shop'] == 'Shop Order') |\n",
    "        (cats_df['Non-Shop'] == 'Non-Shop')\n",
    "    )].pivot_table(columns=['Lab Type'], index=[ 'Wrkdte Week - Key'], values='Cats Hours', margins=True, aggfunc='sum')"
   ]
  },
  {
   "cell_type": "code",
   "execution_count": null,
   "metadata": {
    "ExecuteTime": {
     "end_time": "2020-11-23T12:21:06.877510Z",
     "start_time": "2020-11-23T12:21:06.613679Z"
    },
    "hidden": true,
    "run_control": {
     "marked": false
    }
   },
   "outputs": [],
   "source": [
    "cats_df[cats_df['Lab Type'] == 'Touch'].pivot_table(index=['Lab Type', 'Direct/Indirect Ind. - Key'], columns='Wrkdte Week - Key', values='Cats Hours', aggfunc='sum')"
   ]
  },
  {
   "cell_type": "code",
   "execution_count": null,
   "metadata": {
    "deletable": false,
    "editable": false,
    "hidden": true,
    "run_control": {
     "frozen": true,
     "marked": false
    }
   },
   "outputs": [],
   "source": [
    "Mid([CATS_Hours] ! [Prod Order (CATS Account)], 5, 8) AS [S/O],\n",
    "\"STICK\" AS [S/L Type],\n",
    "\"FIRM\" AS POC,"
   ]
  },
  {
   "cell_type": "code",
   "execution_count": null,
   "metadata": {
    "hidden": true,
    "run_control": {
     "marked": false
    }
   },
   "outputs": [],
   "source": []
  },
  {
   "cell_type": "code",
   "execution_count": null,
   "metadata": {
    "ExecuteTime": {
     "end_time": "2020-11-21T19:12:28.411727Z",
     "start_time": "2020-11-21T19:12:28.169030Z"
    },
    "hidden": true,
    "run_control": {
     "marked": false
    }
   },
   "outputs": [],
   "source": [
    "cats_df[\n",
    "    (cats_df['CalWeekYear'] == '45/2020') &\n",
    "    (cats_df['Lab Type'] == 'Touch')\n",
    "].pivot_table(columns=['Lab Type'], index=[ 'Wrkdte Week - Key'], values='Cats Hours', margins=True, aggfunc='sum')"
   ]
  },
  {
   "cell_type": "code",
   "execution_count": null,
   "metadata": {
    "ExecuteTime": {
     "end_time": "2020-11-22T17:24:12.204242Z",
     "start_time": "2020-11-22T17:24:12.193627Z"
    },
    "hidden": true,
    "run_control": {
     "marked": false
    }
   },
   "outputs": [],
   "source": [
    "cats_df.columns"
   ]
  },
  {
   "cell_type": "code",
   "execution_count": null,
   "metadata": {
    "ExecuteTime": {
     "end_time": "2020-11-22T17:53:58.893056Z",
     "start_time": "2020-11-22T17:53:58.823323Z"
    },
    "hidden": true,
    "run_control": {
     "marked": false
    }
   },
   "outputs": [],
   "source": [
    "cats_df[(cats_df['Wrkdte Week - Key'] == '44/2020')].pivot_table(index=['Attend/Absence Type - Short Text'], columns=['Direct/Indirect Ind. - Key'], values='Cats Hours', aggfunc='sum')"
   ]
  },
  {
   "cell_type": "markdown",
   "metadata": {
    "hidden": true
   },
   "source": []
  },
  {
   "cell_type": "code",
   "execution_count": null,
   "metadata": {
    "hidden": true,
    "run_control": {
     "marked": false
    }
   },
   "outputs": [],
   "source": []
  },
  {
   "cell_type": "markdown",
   "metadata": {
    "hidden": true
   },
   "source": [
    "<img style=\"float: left;\" src=\"./Source/target_hours.png\">"
   ]
  },
  {
   "cell_type": "code",
   "execution_count": null,
   "metadata": {
    "hidden": true,
    "run_control": {
     "marked": false
    }
   },
   "outputs": [],
   "source": []
  },
  {
   "attachments": {
    "image.png": {
     "image/png": "[encoded data removed]"
    }
   },
   "cell_type": "markdown",
   "metadata": {
    "hidden": true
   },
   "source": [
    "![image.png](attachment:image.png)"
   ]
  },
  {
   "cell_type": "code",
   "execution_count": null,
   "metadata": {
    "hidden": true,
    "run_control": {
     "marked": false
    }
   },
   "outputs": [],
   "source": []
  },
  {
   "cell_type": "code",
   "execution_count": null,
   "metadata": {
    "hidden": true,
    "run_control": {
     "marked": false
    }
   },
   "outputs": [],
   "source": []
  },
  {
   "cell_type": "code",
   "execution_count": null,
   "metadata": {
    "hidden": true,
    "run_control": {
     "marked": false
    }
   },
   "outputs": [],
   "source": []
  },
  {
   "cell_type": "code",
   "execution_count": null,
   "metadata": {
    "hidden": true,
    "run_control": {
     "marked": false
    }
   },
   "outputs": [],
   "source": []
  },
  {
   "cell_type": "markdown",
   "metadata": {
    "deletable": false,
    "editable": false,
    "run_control": {
     "frozen": true
    }
   },
   "source": [
    "# Print Access Queries"
   ]
  },
  {
   "cell_type": "markdown",
   "metadata": {
    "deletable": false,
    "editable": false,
    "run_control": {
     "frozen": true
    }
   },
   "source": [
    "## Print Access Queries"
   ]
  },
  {
   "cell_type": "markdown",
   "metadata": {
    "deletable": false,
    "editable": false,
    "run_control": {
     "frozen": true
    }
   },
   "source": [
    "### Init Access "
   ]
  },
  {
   "cell_type": "code",
   "execution_count": null,
   "metadata": {
    "ExecuteTime": {
     "end_time": "2020-12-12T19:11:41.151156Z",
     "start_time": "2020-12-12T19:11:32.530776Z"
    },
    "run_control": {
     "marked": false
    }
   },
   "outputs": [],
   "source": [
    "# cats_access_file = r\"C:\\Users\\1155449\\project_home\\cats\\Reports\\Template\\Archive\\CATS DB - Template - Copy.accdb\"\n",
    "cats_access_file = get_universal_path(sg.PopupGetFile('Select The Access Database To Get The Queries From', keep_on_top=True, initial_folder=abs_execuatble_folder))"
   ]
  },
  {
   "cell_type": "code",
   "execution_count": null,
   "metadata": {
    "ExecuteTime": {
     "end_time": "2020-12-12T19:12:05.919383Z",
     "start_time": "2020-12-12T19:11:43.342098Z"
    },
    "run_control": {
     "marked": false
    }
   },
   "outputs": [],
   "source": [
    "sql_export_folder = get_universal_path(sg.PopupGetFolder('Select The SQL Export Folder', keep_on_top=True, initial_folder=abs_execuatble_folder))"
   ]
  },
  {
   "cell_type": "code",
   "execution_count": null,
   "metadata": {
    "ExecuteTime": {
     "end_time": "2020-12-12T19:12:16.607315Z",
     "start_time": "2020-12-12T19:12:16.592664Z"
    },
    "run_control": {
     "marked": false
    }
   },
   "outputs": [],
   "source": [
    "pythoncom.CoInitialize()\n",
    "\n",
    "filename = os.path.basename(cats_access_file)\n",
    "print(f'File|{filename}|Opening database {filename}')"
   ]
  },
  {
   "cell_type": "code",
   "execution_count": null,
   "metadata": {
    "ExecuteTime": {
     "end_time": "2020-12-12T19:12:18.758786Z",
     "start_time": "2020-12-12T19:12:16.608732Z"
    },
    "run_control": {
     "marked": false
    }
   },
   "outputs": [],
   "source": [
    "access_app = win32com.client.DispatchEx('Access.Application')\n",
    "access_app.Visible = False\n",
    "\n",
    "# access_app.Visible = True\n",
    "\n",
    "access_app.OpenCurrentDatabase(cats_access_file)\n",
    "\n",
    "db = access_app.CurrentDb()"
   ]
  },
  {
   "cell_type": "markdown",
   "metadata": {},
   "source": [
    "### Query Names And SQL To Dictionary"
   ]
  },
  {
   "cell_type": "code",
   "execution_count": null,
   "metadata": {
    "ExecuteTime": {
     "end_time": "2020-12-12T19:12:18.947055Z",
     "start_time": "2020-12-12T19:12:18.759846Z"
    },
    "run_control": {
     "marked": false
    }
   },
   "outputs": [],
   "source": [
    "qry_dict = {}\n",
    "\n",
    "\n",
    "for qry_def in db.QueryDefs:\n",
    "    t_qry_file = os.path.join(sql_export_folder, '-- ' + ''.join(_ for _ in qry_def.Name if _.isalnum()) + '.sql')\n",
    "    \n",
    "    qry_dict[t_qry_file] = f'-- {qry_def.Name}\\n-- {cats_access_file}\\n\\n\\n{qry_def.SQL}\\n'"
   ]
  },
  {
   "cell_type": "markdown",
   "metadata": {},
   "source": [
    "### Close Database"
   ]
  },
  {
   "cell_type": "code",
   "execution_count": null,
   "metadata": {
    "ExecuteTime": {
     "end_time": "2020-12-12T19:12:19.995458Z",
     "start_time": "2020-12-12T19:12:18.948091Z"
    },
    "run_control": {
     "marked": false
    }
   },
   "outputs": [],
   "source": [
    "access_app.CloseCurrentDatabase\n",
    "close_by_force(access_app)"
   ]
  },
  {
   "cell_type": "markdown",
   "metadata": {},
   "source": [
    "### Print First Query"
   ]
  },
  {
   "cell_type": "code",
   "execution_count": null,
   "metadata": {
    "ExecuteTime": {
     "end_time": "2020-12-12T19:12:20.014661Z",
     "start_time": "2020-12-12T19:12:19.998068Z"
    },
    "run_control": {
     "marked": false
    }
   },
   "outputs": [],
   "source": [
    "print(f'Query For|{list(qry_dict.keys())[0]}')\n",
    "print(f'{qry_dict[list(qry_dict.keys())[0]]}')"
   ]
  },
  {
   "cell_type": "markdown",
   "metadata": {},
   "source": [
    "### Save All To SQL Export Folder"
   ]
  },
  {
   "cell_type": "code",
   "execution_count": null,
   "metadata": {
    "ExecuteTime": {
     "end_time": "2020-12-12T19:12:25.814831Z",
     "start_time": "2020-12-12T19:12:25.776235Z"
    },
    "run_control": {
     "marked": false
    }
   },
   "outputs": [],
   "source": [
    "for sql_file, sql in qry_dict.items():\n",
    "    with open(sql_file, 'w') as file:\n",
    "        file.write(sql)\n",
    "    file.close()"
   ]
  },
  {
   "cell_type": "code",
   "execution_count": null,
   "metadata": {
    "run_control": {
     "marked": false
    }
   },
   "outputs": [],
   "source": []
  },
  {
   "cell_type": "code",
   "execution_count": null,
   "metadata": {
    "run_control": {
     "marked": false
    }
   },
   "outputs": [],
   "source": []
  },
  {
   "cell_type": "code",
   "execution_count": null,
   "metadata": {
    "run_control": {
     "marked": false
    }
   },
   "outputs": [],
   "source": []
  },
  {
   "cell_type": "code",
   "execution_count": null,
   "metadata": {
    "run_control": {
     "marked": false
    }
   },
   "outputs": [],
   "source": []
  },
  {
   "cell_type": "markdown",
   "metadata": {},
   "source": [
    "# Testing"
   ]
  },
  {
   "cell_type": "markdown",
   "metadata": {},
   "source": [
    "## Import Depot"
   ]
  },
  {
   "cell_type": "code",
   "execution_count": null,
   "metadata": {
    "ExecuteTime": {
     "end_time": "2020-12-12T18:00:42.546393Z",
     "start_time": "2020-12-12T18:00:42.515496Z"
    },
    "run_control": {
     "marked": false
    }
   },
   "outputs": [],
   "source": [
    "local_depot_file = list(c_df[c_df['Access Table Name'] == 'Depot']['Local File'])[0]"
   ]
  },
  {
   "cell_type": "code",
   "execution_count": null,
   "metadata": {
    "ExecuteTime": {
     "end_time": "2020-12-12T18:01:19.952964Z",
     "start_time": "2020-12-12T18:01:19.632117Z"
    },
    "run_control": {
     "marked": false
    }
   },
   "outputs": [],
   "source": [
    "depot_df = pd.read_csv(local_depot_file, delimiter=',', )"
   ]
  },
  {
   "cell_type": "markdown",
   "metadata": {},
   "source": [
    "## Import Previous Cats Hours File"
   ]
  },
  {
   "cell_type": "code",
   "execution_count": null,
   "metadata": {
    "ExecuteTime": {
     "end_time": "2020-12-12T17:02:45.732978Z",
     "start_time": "2020-12-12T17:02:44.319631Z"
    },
    "run_control": {
     "marked": false
    }
   },
   "outputs": [],
   "source": [
    "local_cats_file = list(c_df[c_df['Access Table Name'] == 'CATS_Hours']['Local File'])[0]\n",
    "\n",
    "cats_df = pd.read_csv(local_cats_file, delimiter='\\t')"
   ]
  },
  {
   "cell_type": "markdown",
   "metadata": {},
   "source": [
    "## Get Unique Counts Per CATS Column"
   ]
  },
  {
   "cell_type": "code",
   "execution_count": null,
   "metadata": {
    "ExecuteTime": {
     "end_time": "2020-12-12T17:07:50.148711Z",
     "start_time": "2020-12-12T17:07:49.657188Z"
    },
    "run_control": {
     "marked": false
    }
   },
   "outputs": [],
   "source": [
    "col_counts = {}\n",
    "\n",
    "for col in cats_df.columns.tolist():\n",
    "    col_counts[col] = len(cats_df[col].unique())"
   ]
  },
  {
   "cell_type": "code",
   "execution_count": null,
   "metadata": {
    "ExecuteTime": {
     "end_time": "2020-12-12T17:07:51.693702Z",
     "start_time": "2020-12-12T17:07:51.680483Z"
    },
    "run_control": {
     "marked": false
    }
   },
   "outputs": [],
   "source": [
    "col_counts"
   ]
  },
  {
   "cell_type": "code",
   "execution_count": null,
   "metadata": {
    "ExecuteTime": {
     "end_time": "2020-12-12T17:23:15.297651Z",
     "start_time": "2020-12-12T17:23:15.269181Z"
    },
    "run_control": {
     "marked": false
    }
   },
   "outputs": [],
   "source": [
    "sorted( cats_df.columns.tolist() )"
   ]
  },
  {
   "cell_type": "markdown",
   "metadata": {},
   "source": [
    "## CATS - Add NWA Charge Number"
   ]
  },
  {
   "cell_type": "code",
   "execution_count": null,
   "metadata": {
    "ExecuteTime": {
     "end_time": "2020-12-12T17:55:44.132167Z",
     "start_time": "2020-12-12T17:55:44.035828Z"
    },
    "run_control": {
     "marked": false
    }
   },
   "outputs": [],
   "source": [
    " cats_df['NWA Charge Number'] = cats_df['Network activity - Key'].apply(lambda x: x.replace('/', '-'))"
   ]
  },
  {
   "cell_type": "markdown",
   "metadata": {},
   "source": [
    "## CATS - Add Network Activity"
   ]
  },
  {
   "cell_type": "code",
   "execution_count": null,
   "metadata": {
    "ExecuteTime": {
     "end_time": "2020-12-12T17:57:53.755336Z",
     "start_time": "2020-12-12T17:57:53.741508Z"
    },
    "run_control": {
     "marked": false
    }
   },
   "outputs": [],
   "source": [
    "cats_df['Network activity'] = cats_df['Network activity - Text']"
   ]
  },
  {
   "cell_type": "code",
   "execution_count": null,
   "metadata": {
    "ExecuteTime": {
     "end_time": "2020-12-12T17:56:54.486971Z",
     "start_time": "2020-12-12T17:56:54.455911Z"
    },
    "run_control": {
     "marked": false
    }
   },
   "outputs": [],
   "source": [
    "cats_df[cats_df['NWA Charge Number'] == '601566258-OFFL'].iloc[0, :]"
   ]
  },
  {
   "cell_type": "markdown",
   "metadata": {},
   "source": [
    "## Depot - Add WBS Element"
   ]
  },
  {
   "cell_type": "code",
   "execution_count": null,
   "metadata": {
    "ExecuteTime": {
     "end_time": "2020-12-12T18:07:05.131075Z",
     "start_time": "2020-12-12T18:07:05.085312Z"
    },
    "run_control": {
     "marked": false
    }
   },
   "outputs": [],
   "source": [
    "depot_df.head(2)"
   ]
  },
  {
   "cell_type": "code",
   "execution_count": null,
   "metadata": {
    "ExecuteTime": {
     "end_time": "2020-12-12T18:05:16.430207Z",
     "start_time": "2020-12-12T18:05:16.417712Z"
    },
    "run_control": {
     "marked": false
    }
   },
   "outputs": [],
   "source": [
    "depot_df['WBS Element'] = depot_df['WBS element - Key']"
   ]
  },
  {
   "cell_type": "markdown",
   "metadata": {},
   "source": [
    "## Depot - Add WBS Description"
   ]
  },
  {
   "cell_type": "code",
   "execution_count": null,
   "metadata": {
    "ExecuteTime": {
     "end_time": "2020-12-12T18:05:45.763124Z",
     "start_time": "2020-12-12T18:05:45.719428Z"
    },
    "run_control": {
     "marked": false
    }
   },
   "outputs": [],
   "source": [
    "depot_df['WBS Description'] = depot_df['WBS element - Te']"
   ]
  },
  {
   "cell_type": "code",
   "execution_count": null,
   "metadata": {
    "ExecuteTime": {
     "end_time": "2020-12-12T18:06:52.270308Z",
     "start_time": "2020-12-12T18:06:52.210265Z"
    },
    "run_control": {
     "marked": false
    }
   },
   "outputs": [],
   "source": [
    "depot_df[depot_df['WBS Element'] == '15M03883ABCFA']"
   ]
  },
  {
   "cell_type": "code",
   "execution_count": null,
   "metadata": {
    "run_control": {
     "marked": false
    }
   },
   "outputs": [],
   "source": []
  }
 ],
 "metadata": {
  "kernelspec": {
   "display_name": "Python 3",
   "language": "python",
   "name": "python3"
  },
  "language_info": {
   "codemirror_mode": {
    "name": "ipython",
    "version": 3
   },
   "file_extension": ".py",
   "mimetype": "text/x-python",
   "name": "python",
   "nbconvert_exporter": "python",
   "pygments_lexer": "ipython3",
   "version": "3.8.2"
  },
  "toc": {
   "base_numbering": 1,
   "nav_menu": {},
   "number_sections": true,
   "sideBar": false,
   "skip_h1_title": true,
   "title_cell": "Table of Contents",
   "title_sidebar": "Contents",
   "toc_cell": true,
   "toc_position": {
    "height": "869px",
    "left": "1306.97px",
    "top": "52px",
    "width": "613.033px"
   },
   "toc_section_display": true,
   "toc_window_display": false
  },
  "varInspector": {
   "cols": {
    "lenName": 16,
    "lenType": 16,
    "lenVar": 40
   },
   "kernels_config": {
    "python": {
     "delete_cmd_postfix": "",
     "delete_cmd_prefix": "del ",
     "library": "var_list.py",
     "varRefreshCmd": "print(var_dic_list())"
    },
    "r": {
     "delete_cmd_postfix": ") ",
     "delete_cmd_prefix": "rm(",
     "library": "var_list.r",
     "varRefreshCmd": "cat(var_dic_list()) "
    }
   },
   "position": {
    "height": "619.85px",
    "left": "1159.6px",
    "right": "20px",
    "top": "120px",
    "width": "356.4px"
   },
   "types_to_exclude": [
    "module",
    "function",
    "builtin_function_or_method",
    "instance",
    "_Feature"
   ],
   "window_display": false
  }
 },
 "nbformat": 4,
 "nbformat_minor": 4
}

{
 "cells": [
  {
   "cell_type": "markdown",
   "metadata": {
    "toc": true
   },
   "source": [
    "<h1>Table of Contents<span class=\"tocSkip\"></span></h1>\n",
    "<div class=\"toc\"><ul class=\"toc-item\"><li><span><a href=\"#Imports\" data-toc-modified-id=\"Imports-1\"><span class=\"toc-item-num\">1&nbsp;&nbsp;</span>Imports</a></span></li><li><span><a href=\"#Functions\" data-toc-modified-id=\"Functions-2\"><span class=\"toc-item-num\">2&nbsp;&nbsp;</span>Functions</a></span><ul class=\"toc-item\"><li><span><a href=\"#init_c_df\" data-toc-modified-id=\"init_c_df-2.1\"><span class=\"toc-item-num\">2.1&nbsp;&nbsp;</span>init_c_df</a></span></li></ul></li><li><span><a href=\"#Parameters\" data-toc-modified-id=\"Parameters-3\"><span class=\"toc-item-num\">3&nbsp;&nbsp;</span>Parameters</a></span><ul class=\"toc-item\"><li><span><a href=\"#Current-Date\" data-toc-modified-id=\"Current-Date-3.1\"><span class=\"toc-item-num\">3.1&nbsp;&nbsp;</span>Current Date</a></span></li><li><span><a href=\"#Abs-Executable-Folder\" data-toc-modified-id=\"Abs-Executable-Folder-3.2\"><span class=\"toc-item-num\">3.2&nbsp;&nbsp;</span>Abs Executable Folder</a></span></li><li><span><a href=\"#Config-File\" data-toc-modified-id=\"Config-File-3.3\"><span class=\"toc-item-num\">3.3&nbsp;&nbsp;</span>Config File</a></span></li></ul></li><li><span><a href=\"#Import-c_df,-p_df,-And-cats_col_df\" data-toc-modified-id=\"Import-c_df,-p_df,-And-cats_col_df-4\"><span class=\"toc-item-num\">4&nbsp;&nbsp;</span>Import c_df, p_df, And cats_col_df</a></span><ul class=\"toc-item\"><li><span><a href=\"#c_df\" data-toc-modified-id=\"c_df-4.1\"><span class=\"toc-item-num\">4.1&nbsp;&nbsp;</span>c_df</a></span></li><li><span><a href=\"#p_df\" data-toc-modified-id=\"p_df-4.2\"><span class=\"toc-item-num\">4.2&nbsp;&nbsp;</span>p_df</a></span></li><li><span><a href=\"#Archive-Folder\" data-toc-modified-id=\"Archive-Folder-4.3\"><span class=\"toc-item-num\">4.3&nbsp;&nbsp;</span>Archive Folder</a></span></li><li><span><a href=\"#col_map_df\" data-toc-modified-id=\"col_map_df-4.4\"><span class=\"toc-item-num\">4.4&nbsp;&nbsp;</span>col_map_df</a></span></li><li><span><a href=\"#Output-Folder\" data-toc-modified-id=\"Output-Folder-4.5\"><span class=\"toc-item-num\">4.5&nbsp;&nbsp;</span>Output Folder</a></span></li><li><span><a href=\"#Use-Database-Tables\" data-toc-modified-id=\"Use-Database-Tables-4.6\"><span class=\"toc-item-num\">4.6&nbsp;&nbsp;</span>Use Database Tables</a></span></li><li><span><a href=\"#Copy-Locally\" data-toc-modified-id=\"Copy-Locally-4.7\"><span class=\"toc-item-num\">4.7&nbsp;&nbsp;</span>Copy Locally</a></span></li><li><span><a href=\"#Archive-Source-Files-Before-CATS-Update\" data-toc-modified-id=\"Archive-Source-Files-Before-CATS-Update-4.8\"><span class=\"toc-item-num\">4.8&nbsp;&nbsp;</span>Archive Source Files Before CATS Update</a></span></li><li><span><a href=\"#Local-Folder\" data-toc-modified-id=\"Local-Folder-4.9\"><span class=\"toc-item-num\">4.9&nbsp;&nbsp;</span>Local Folder</a></span></li><li><span><a href=\"#CATS-Local-Files\" data-toc-modified-id=\"CATS-Local-Files-4.10\"><span class=\"toc-item-num\">4.10&nbsp;&nbsp;</span>CATS Local Files</a></span></li></ul></li><li><span><a href=\"#Robocopy-Source-Files\" data-toc-modified-id=\"Robocopy-Source-Files-5\"><span class=\"toc-item-num\">5&nbsp;&nbsp;</span>Robocopy Source Files</a></span><ul class=\"toc-item\"><li><span><a href=\"#Create-File-Compare-DataFrame-t_df\" data-toc-modified-id=\"Create-File-Compare-DataFrame-t_df-5.1\"><span class=\"toc-item-num\">5.1&nbsp;&nbsp;</span>Create File Compare DataFrame t_df</a></span></li><li><span><a href=\"#Robocopy-Supporting-CATS-Files\" data-toc-modified-id=\"Robocopy-Supporting-CATS-Files-5.2\"><span class=\"toc-item-num\">5.2&nbsp;&nbsp;</span>Robocopy Supporting CATS Files</a></span></li><li><span><a href=\"#Check-All-Files-Exist-In-Local-Folder\" data-toc-modified-id=\"Check-All-Files-Exist-In-Local-Folder-5.3\"><span class=\"toc-item-num\">5.3&nbsp;&nbsp;</span>Check All Files Exist In Local Folder</a></span></li></ul></li></ul></div>"
   ]
  },
  {
   "cell_type": "code",
   "execution_count": 30,
   "metadata": {
    "ExecuteTime": {
     "end_time": "2020-12-28T14:53:06.576518Z",
     "start_time": "2020-12-28T14:53:06.554717Z"
    },
    "run_control": {
     "marked": false
    }
   },
   "outputs": [
    {
     "data": {
      "text/html": [
       "<style>.container {width:95% !important; } </style>"
      ],
      "text/plain": [
       "<IPython.core.display.HTML object>"
      ]
     },
     "metadata": {},
     "output_type": "display_data"
    }
   ],
   "source": [
    "from IPython.core.display import display, HTML\n",
    "\n",
    "display(HTML('<style>.container {width:95% !important; } </style>'))"
   ]
  },
  {
   "cell_type": "code",
   "execution_count": 31,
   "metadata": {
    "ExecuteTime": {
     "end_time": "2020-12-28T14:53:06.604309Z",
     "start_time": "2020-12-28T14:53:06.578423Z"
    },
    "run_control": {
     "marked": false
    }
   },
   "outputs": [],
   "source": [
    " %config Completer.use_jedi = False "
   ]
  },
  {
   "cell_type": "markdown",
   "metadata": {},
   "source": [
    "# Setup"
   ]
  },
  {
   "cell_type": "markdown",
   "metadata": {},
   "source": [
    "## Imports"
   ]
  },
  {
   "cell_type": "code",
   "execution_count": 32,
   "metadata": {
    "ExecuteTime": {
     "end_time": "2020-12-28T14:53:06.754857Z",
     "start_time": "2020-12-28T14:53:06.746095Z"
    },
    "run_control": {
     "marked": false
    }
   },
   "outputs": [],
   "source": [
    "import os\n",
    "import sys\n",
    "import time\n",
    "import filecmp\n",
    "import pandas as pd\n",
    "import PySimpleGUI as sg\n",
    "from zipfile import ZipFile\n",
    "from datetime import datetime\n",
    "from collections import defaultdict\n",
    "from common_functions import robocopy_multithreading, robocopy_file, get_universal_path"
   ]
  },
  {
   "cell_type": "code",
   "execution_count": 33,
   "metadata": {
    "ExecuteTime": {
     "end_time": "2020-12-28T14:53:06.779175Z",
     "start_time": "2020-12-28T14:53:06.756086Z"
    },
    "run_control": {
     "marked": false
    }
   },
   "outputs": [],
   "source": [
    "pd.set_option('display.max_rows', 500)"
   ]
  },
  {
   "cell_type": "markdown",
   "metadata": {},
   "source": [
    "# Functions"
   ]
  },
  {
   "cell_type": "markdown",
   "metadata": {},
   "source": [
    "## Functions"
   ]
  },
  {
   "cell_type": "markdown",
   "metadata": {},
   "source": [
    "### init_c_df"
   ]
  },
  {
   "cell_type": "code",
   "execution_count": 34,
   "metadata": {
    "ExecuteTime": {
     "end_time": "2020-12-28T14:53:07.019327Z",
     "start_time": "2020-12-28T14:53:07.003855Z"
    },
    "run_control": {
     "marked": false
    }
   },
   "outputs": [],
   "source": [
    "def init_c_df(c_df=None):\n",
    "    c_df = pd.read_excel(config_file, sheet_name='Files')\n",
    "    ### Add Processed File Column\n",
    "    c_df['Processed File'] = False\n",
    "    ### Add Processed Time Column\n",
    "    c_df['Processed Time'] = None\n",
    "    return c_df"
   ]
  },
  {
   "cell_type": "markdown",
   "metadata": {},
   "source": [
    "# Parameters"
   ]
  },
  {
   "cell_type": "markdown",
   "metadata": {},
   "source": [
    "## Parameters"
   ]
  },
  {
   "cell_type": "markdown",
   "metadata": {},
   "source": [
    "### Current Date"
   ]
  },
  {
   "cell_type": "code",
   "execution_count": 35,
   "metadata": {
    "ExecuteTime": {
     "end_time": "2020-12-28T14:53:07.257425Z",
     "start_time": "2020-12-28T14:53:07.248773Z"
    },
    "run_control": {
     "marked": false
    }
   },
   "outputs": [],
   "source": [
    "cur_date = datetime.now()"
   ]
  },
  {
   "cell_type": "markdown",
   "metadata": {},
   "source": [
    "### Abs Executable Folder"
   ]
  },
  {
   "cell_type": "code",
   "execution_count": 36,
   "metadata": {
    "ExecuteTime": {
     "end_time": "2020-12-28T14:53:07.355118Z",
     "start_time": "2020-12-28T14:53:07.340396Z"
    },
    "run_control": {
     "marked": false
    }
   },
   "outputs": [],
   "source": [
    "abs_execuatble_folder = get_universal_path()"
   ]
  },
  {
   "cell_type": "markdown",
   "metadata": {},
   "source": [
    "### Config File"
   ]
  },
  {
   "cell_type": "code",
   "execution_count": 37,
   "metadata": {
    "ExecuteTime": {
     "end_time": "2020-12-28T14:53:07.439580Z",
     "start_time": "2020-12-28T14:53:07.423747Z"
    },
    "run_control": {
     "marked": false
    }
   },
   "outputs": [],
   "source": [
    "try:\n",
    "    config_file\n",
    "except:\n",
    "    config_file = get_universal_path(sg.PopupGetFile('Select The CATS Config File', keep_on_top=True, initial_folder=abs_execuatble_folder))"
   ]
  },
  {
   "cell_type": "markdown",
   "metadata": {},
   "source": [
    "## Import c_df, p_df, And cats_col_df"
   ]
  },
  {
   "cell_type": "markdown",
   "metadata": {},
   "source": [
    "### c_df"
   ]
  },
  {
   "cell_type": "code",
   "execution_count": 38,
   "metadata": {
    "ExecuteTime": {
     "end_time": "2020-12-28T14:53:07.621445Z",
     "start_time": "2020-12-28T14:53:07.587177Z"
    },
    "run_control": {
     "marked": false
    }
   },
   "outputs": [],
   "source": [
    "try:\n",
    "    c_df\n",
    "except:\n",
    "    c_df = init_c_df()"
   ]
  },
  {
   "cell_type": "markdown",
   "metadata": {},
   "source": [
    "### p_df"
   ]
  },
  {
   "cell_type": "code",
   "execution_count": 39,
   "metadata": {
    "ExecuteTime": {
     "end_time": "2020-12-28T14:53:07.687313Z",
     "start_time": "2020-12-28T14:53:07.671491Z"
    },
    "run_control": {
     "marked": false
    }
   },
   "outputs": [],
   "source": [
    "try:\n",
    "    p_df\n",
    "except:\n",
    "    p_df = pd.read_excel(config_file, sheet_name='Parameters')"
   ]
  },
  {
   "cell_type": "markdown",
   "metadata": {},
   "source": [
    "### Archive Folder"
   ]
  },
  {
   "cell_type": "code",
   "execution_count": 40,
   "metadata": {
    "ExecuteTime": {
     "end_time": "2020-12-28T14:53:07.792220Z",
     "start_time": "2020-12-28T14:53:07.756671Z"
    },
    "run_control": {
     "marked": false
    }
   },
   "outputs": [],
   "source": [
    "archive_folder = get_universal_path(p_df.loc[0, 'Archive Folder'])"
   ]
  },
  {
   "cell_type": "markdown",
   "metadata": {},
   "source": [
    "### col_map_df"
   ]
  },
  {
   "cell_type": "code",
   "execution_count": 41,
   "metadata": {
    "ExecuteTime": {
     "end_time": "2020-12-28T14:53:07.878492Z",
     "start_time": "2020-12-28T14:53:07.840286Z"
    },
    "run_control": {
     "marked": false
    }
   },
   "outputs": [],
   "source": [
    "try:\n",
    "    col_map_df\n",
    "except:\n",
    "    col_map_df = pd.read_excel(config_file, sheet_name='CATS Hours Column Mapping')"
   ]
  },
  {
   "cell_type": "markdown",
   "metadata": {},
   "source": [
    "### Output Folder"
   ]
  },
  {
   "cell_type": "code",
   "execution_count": 42,
   "metadata": {
    "ExecuteTime": {
     "end_time": "2020-12-28T14:53:07.940348Z",
     "start_time": "2020-12-28T14:53:07.924620Z"
    },
    "run_control": {
     "marked": false
    }
   },
   "outputs": [],
   "source": [
    "try:\n",
    "    output_folder\n",
    "except:\n",
    "    output_folder = p_df.loc[0, 'Output Folder']"
   ]
  },
  {
   "cell_type": "markdown",
   "metadata": {},
   "source": [
    "### Use Database Tables"
   ]
  },
  {
   "cell_type": "code",
   "execution_count": 43,
   "metadata": {
    "ExecuteTime": {
     "end_time": "2020-12-28T14:53:08.033556Z",
     "start_time": "2020-12-28T14:53:08.024515Z"
    },
    "run_control": {
     "marked": false
    }
   },
   "outputs": [],
   "source": [
    "try:\n",
    "    use_db_tables\n",
    "except:\n",
    "    use_db_tables = p_df.loc[0, 'Use Database Tables']"
   ]
  },
  {
   "cell_type": "markdown",
   "metadata": {},
   "source": [
    "### Copy Locally"
   ]
  },
  {
   "cell_type": "code",
   "execution_count": 44,
   "metadata": {
    "ExecuteTime": {
     "end_time": "2020-12-28T14:53:08.144725Z",
     "start_time": "2020-12-28T14:53:08.120465Z"
    },
    "run_control": {
     "marked": false
    }
   },
   "outputs": [],
   "source": [
    "try:\n",
    "    copy_locally\n",
    "except:\n",
    "    copy_locally = p_df.loc[0, 'Copy Locally']"
   ]
  },
  {
   "cell_type": "code",
   "execution_count": 45,
   "metadata": {
    "ExecuteTime": {
     "end_time": "2020-12-28T14:53:08.168516Z",
     "start_time": "2020-12-28T14:53:08.145008Z"
    },
    "run_control": {
     "marked": false
    }
   },
   "outputs": [],
   "source": [
    "if use_db_tables and copy_locally:\n",
    "    if sg.PopupYesNo('Do You Want To Use Database Tables?') == 'Yes':\n",
    "        copy_locally = False\n",
    "    else:\n",
    "        use_db_tables = False"
   ]
  },
  {
   "cell_type": "markdown",
   "metadata": {},
   "source": [
    "### Archive Source Files Before CATS Update"
   ]
  },
  {
   "cell_type": "code",
   "execution_count": 46,
   "metadata": {
    "ExecuteTime": {
     "end_time": "2020-12-28T14:53:08.940612Z",
     "start_time": "2020-12-28T14:53:08.219525Z"
    },
    "run_control": {
     "marked": false
    }
   },
   "outputs": [
    {
     "name": "stdout",
     "output_type": "stream",
     "text": [
      "Archiving Source Files Before CATS Update\n"
     ]
    }
   ],
   "source": [
    "if copy_locally:\n",
    "    print('Archiving Source Files Before CATS Update')\n",
    "    pre_excel_zip_file = os.path.join(archive_folder, f\"CATS Source Files - Pre - {datetime.now().strftime('%#d%b%Y %#H%M')}.zip\")\n",
    "\n",
    "    with ZipFile(pre_excel_zip_file, 'w') as zip_obj:\n",
    "        for _ in list(c_df[c_df['Use File'] == True]['Local File']):\n",
    "            zip_obj.write(_, os.path.basename(_))"
   ]
  },
  {
   "cell_type": "markdown",
   "metadata": {},
   "source": [
    "### Local Folder"
   ]
  },
  {
   "cell_type": "code",
   "execution_count": 47,
   "metadata": {
    "ExecuteTime": {
     "end_time": "2020-12-28T14:53:08.955718Z",
     "start_time": "2020-12-28T14:53:08.942416Z"
    },
    "run_control": {
     "marked": false
    }
   },
   "outputs": [],
   "source": [
    "if copy_locally:\n",
    "    try:\n",
    "        local_folder\n",
    "    except:\n",
    "        local_folder = p_df.loc[0, 'Local Folder']"
   ]
  },
  {
   "cell_type": "markdown",
   "metadata": {},
   "source": [
    "### CATS Local Files"
   ]
  },
  {
   "cell_type": "code",
   "execution_count": 48,
   "metadata": {
    "ExecuteTime": {
     "end_time": "2020-12-28T14:53:08.975208Z",
     "start_time": "2020-12-28T14:53:08.957713Z"
    },
    "run_control": {
     "marked": false
    }
   },
   "outputs": [],
   "source": [
    "if copy_locally:\n",
    "    local_cats_file = list(c_df[c_df['Access Table Name'] == 'CATS_Hours']['Local File'])[0]"
   ]
  },
  {
   "cell_type": "markdown",
   "metadata": {},
   "source": [
    "## Robocopy Source Files "
   ]
  },
  {
   "cell_type": "markdown",
   "metadata": {},
   "source": [
    "### Create File Compare DataFrame t_df"
   ]
  },
  {
   "cell_type": "code",
   "execution_count": 49,
   "metadata": {
    "ExecuteTime": {
     "end_time": "2020-12-28T14:53:09.005485Z",
     "start_time": "2020-12-28T14:53:08.977336Z"
    },
    "run_control": {
     "marked": false
    }
   },
   "outputs": [],
   "source": [
    "t_df = c_df.copy(deep=True)\n",
    "\n",
    "t_df['Source Folder'] = [get_universal_path(os.path.dirname(x)) for x in list(t_df.loc[:, 'Source File'])]\n",
    "\n",
    "t_df['Network Files'] = t_df.groupby(['Source Folder'])['Source Folder'].transform(lambda x : '|'.join(x)) \n",
    "t_df['Basenames'] = t_df.groupby(['Source Folder'])['Basename'].transform(lambda x : '|'.join(x)) \n",
    "t_df['Local Files'] = t_df.groupby(['Source Folder'])['Local File'].transform(lambda x : '|'.join(x)) \n",
    "\n",
    "t_df = t_df[['Source Folder', 'Network Files', 'Basenames', 'Local Files']]\n",
    "\n",
    "t_df.drop_duplicates(inplace=True)"
   ]
  },
  {
   "cell_type": "markdown",
   "metadata": {},
   "source": [
    "### Robocopy Supporting CATS Files"
   ]
  },
  {
   "cell_type": "code",
   "execution_count": 50,
   "metadata": {
    "ExecuteTime": {
     "end_time": "2020-12-28T14:53:12.983479Z",
     "start_time": "2020-12-28T14:53:09.006394Z"
    },
    "run_control": {
     "marked": false
    }
   },
   "outputs": [],
   "source": [
    "if copy_locally:\n",
    "    for idx, _ in t_df.iterrows():\n",
    "        network_folder = t_df.loc[idx, 'Source Folder']\n",
    "        common_files = t_df.loc[idx, 'Basenames'].split('|')\n",
    "        \n",
    "        match, mismatch, errors = filecmp.cmpfiles(network_folder, local_folder, common=common_files)\n",
    "        \n",
    "        while len(errors) > 0:\n",
    "            print(f'Updating {len(errors)} Out Of {len(common_files)} File(s)')\n",
    "            src_folders = [network_folder for _ in errors]\n",
    "            dst_folders = [local_folder for _ in errors]\n",
    "            verbs = [True for _ in errors]\n",
    "            \n",
    "            robocopy_multithreading(srcs=src_folders, dsts=dst_folders, files=errors, verbose=verbs)\n",
    "            time.sleep(2)\n",
    "            match, mismatch, errors = filecmp.cmpfiles(network_folder, local_folder, common=common_files)\n",
    "\n",
    "            if len(errors) == 0:\n",
    "                print(f'No Errors, Exiting Loop...')\n",
    "                "
   ]
  },
  {
   "cell_type": "code",
   "execution_count": 51,
   "metadata": {
    "ExecuteTime": {
     "end_time": "2020-12-28T14:53:14.518147Z",
     "start_time": "2020-12-28T14:53:12.984827Z"
    },
    "run_control": {
     "marked": false
    }
   },
   "outputs": [],
   "source": [
    "if copy_locally:\n",
    "    idx = 0\n",
    "    network_folder = t_df.loc[idx, 'Source Folder']\n",
    "    common_files = t_df.loc[idx, 'Basenames'].split('|')\n",
    "\n",
    "    match, mismatch, errors = filecmp.cmpfiles(network_folder, local_folder, common=common_files)\n",
    "\n",
    "    while len(errors) > 0:\n",
    "        print(f'Updating {len(errors)} Out Of {len(common_files)} File(s)')\n",
    "        src_folders = [network_folder for _ in errors]\n",
    "        dst_folders = [local_folder for _ in errors]\n",
    "        verbs = [True for _ in errors]\n",
    "\n",
    "        robocopy_multithreading(srcs=src_folders, dsts=dst_folders, files=errors, verbose=verbs)\n",
    "        time.sleep(2)\n",
    "        match, mismatch, errors = filecmp.cmpfiles(network_folder, local_folder, common=common_files)\n",
    "\n",
    "        if len(errors) == 0:\n",
    "            print(f'No Errors, Exiting Loop...')\n"
   ]
  },
  {
   "cell_type": "code",
   "execution_count": 52,
   "metadata": {
    "ExecuteTime": {
     "end_time": "2020-12-28T14:53:16.053140Z",
     "start_time": "2020-12-28T14:53:14.519876Z"
    }
   },
   "outputs": [],
   "source": [
    "match, mismatch, errors = filecmp.cmpfiles(network_folder, local_folder, common=common_files)"
   ]
  },
  {
   "cell_type": "code",
   "execution_count": 53,
   "metadata": {
    "ExecuteTime": {
     "end_time": "2020-12-28T14:53:16.069269Z",
     "start_time": "2020-12-28T14:53:16.053140Z"
    }
   },
   "outputs": [
    {
     "data": {
      "text/plain": [
       "['Activity Mapping.txt',\n",
       " 'CATS_Hours.txt',\n",
       " 'IDExceptionMapping.csv',\n",
       " 'Mapping 1.txt',\n",
       " 'WORKCENTERTOCELL.txt',\n",
       " 'PRISIMPoolMapping.txt']"
      ]
     },
     "execution_count": 53,
     "metadata": {},
     "output_type": "execute_result"
    }
   ],
   "source": [
    "match"
   ]
  },
  {
   "cell_type": "code",
   "execution_count": 54,
   "metadata": {
    "ExecuteTime": {
     "end_time": "2020-12-28T14:53:16.086791Z",
     "start_time": "2020-12-28T14:53:16.071847Z"
    }
   },
   "outputs": [
    {
     "data": {
      "text/plain": [
       "[]"
      ]
     },
     "execution_count": 54,
     "metadata": {},
     "output_type": "execute_result"
    }
   ],
   "source": [
    "errors"
   ]
  },
  {
   "cell_type": "code",
   "execution_count": 55,
   "metadata": {
    "ExecuteTime": {
     "end_time": "2020-12-28T14:53:16.104119Z",
     "start_time": "2020-12-28T14:53:16.089629Z"
    }
   },
   "outputs": [
    {
     "data": {
      "text/plain": [
       "['CostCenterMapping.txt', 'Depot.csv', 'ProductionPegging.csv']"
      ]
     },
     "execution_count": 55,
     "metadata": {},
     "output_type": "execute_result"
    }
   ],
   "source": [
    "mismatch"
   ]
  },
  {
   "cell_type": "code",
   "execution_count": 56,
   "metadata": {
    "ExecuteTime": {
     "end_time": "2020-12-28T14:53:16.119552Z",
     "start_time": "2020-12-28T14:53:16.105211Z"
    }
   },
   "outputs": [
    {
     "data": {
      "text/plain": [
       "['Activity Mapping.txt',\n",
       " 'CATS_Hours.txt',\n",
       " 'CostCenterMapping.txt',\n",
       " 'Depot.csv',\n",
       " 'IDExceptionMapping.csv',\n",
       " 'Mapping 1.txt',\n",
       " 'WORKCENTERTOCELL.txt',\n",
       " 'PRISIMPoolMapping.txt',\n",
       " 'ProductionPegging.csv']"
      ]
     },
     "execution_count": 56,
     "metadata": {},
     "output_type": "execute_result"
    }
   ],
   "source": [
    "common_files"
   ]
  },
  {
   "cell_type": "code",
   "execution_count": 57,
   "metadata": {
    "ExecuteTime": {
     "end_time": "2020-12-28T14:53:16.140928Z",
     "start_time": "2020-12-28T14:53:16.120902Z"
    }
   },
   "outputs": [
    {
     "data": {
      "text/html": [
       "<div>\n",
       "<style scoped>\n",
       "    .dataframe tbody tr th:only-of-type {\n",
       "        vertical-align: middle;\n",
       "    }\n",
       "\n",
       "    .dataframe tbody tr th {\n",
       "        vertical-align: top;\n",
       "    }\n",
       "\n",
       "    .dataframe thead th {\n",
       "        text-align: right;\n",
       "    }\n",
       "</style>\n",
       "<table border=\"1\" class=\"dataframe\">\n",
       "  <thead>\n",
       "    <tr style=\"text-align: right;\">\n",
       "      <th></th>\n",
       "      <th>Source Folder</th>\n",
       "      <th>Network Files</th>\n",
       "      <th>Basenames</th>\n",
       "      <th>Local Files</th>\n",
       "    </tr>\n",
       "  </thead>\n",
       "  <tbody>\n",
       "    <tr>\n",
       "      <th>0</th>\n",
       "      <td>\\\\v2GBSdwesSQL01\\IMPORT\\OPS</td>\n",
       "      <td>\\\\v2GBSdwesSQL01\\IMPORT\\OPS|\\\\v2GBSdwesSQL01\\I...</td>\n",
       "      <td>Activity Mapping.txt|CATS_Hours.txt|CostCenter...</td>\n",
       "      <td>C:\\Users\\1155449\\project_home\\cats\\Reports\\Tem...</td>\n",
       "    </tr>\n",
       "    <tr>\n",
       "      <th>9</th>\n",
       "      <td>\\\\estp-fs003.stp.us.ray.com\\w2k-projects1\\Manu...</td>\n",
       "      <td>\\\\estp-fs003.stp.us.ray.com\\w2k-projects1\\Manu...</td>\n",
       "      <td>Largo Headcount All With Sigma Level.xlsx</td>\n",
       "      <td>C:\\Users\\1155449\\project_home\\cats\\Reports\\Tem...</td>\n",
       "    </tr>\n",
       "    <tr>\n",
       "      <th>10</th>\n",
       "      <td>\\\\estp-fs003.stp.us.ray.com\\w2k-projects1\\Manu...</td>\n",
       "      <td>\\\\estp-fs003.stp.us.ray.com\\w2k-projects1\\Manu...</td>\n",
       "      <td>Master Program XREF.xlsx|WBS XREF.xlsm|Master ...</td>\n",
       "      <td>C:\\Users\\1155449\\project_home\\cats\\Reports\\Tem...</td>\n",
       "    </tr>\n",
       "  </tbody>\n",
       "</table>\n",
       "</div>"
      ],
      "text/plain": [
       "                                        Source Folder  \\\n",
       "0                         \\\\v2GBSdwesSQL01\\IMPORT\\OPS   \n",
       "9   \\\\estp-fs003.stp.us.ray.com\\w2k-projects1\\Manu...   \n",
       "10  \\\\estp-fs003.stp.us.ray.com\\w2k-projects1\\Manu...   \n",
       "\n",
       "                                        Network Files  \\\n",
       "0   \\\\v2GBSdwesSQL01\\IMPORT\\OPS|\\\\v2GBSdwesSQL01\\I...   \n",
       "9   \\\\estp-fs003.stp.us.ray.com\\w2k-projects1\\Manu...   \n",
       "10  \\\\estp-fs003.stp.us.ray.com\\w2k-projects1\\Manu...   \n",
       "\n",
       "                                            Basenames  \\\n",
       "0   Activity Mapping.txt|CATS_Hours.txt|CostCenter...   \n",
       "9           Largo Headcount All With Sigma Level.xlsx   \n",
       "10  Master Program XREF.xlsx|WBS XREF.xlsm|Master ...   \n",
       "\n",
       "                                          Local Files  \n",
       "0   C:\\Users\\1155449\\project_home\\cats\\Reports\\Tem...  \n",
       "9   C:\\Users\\1155449\\project_home\\cats\\Reports\\Tem...  \n",
       "10  C:\\Users\\1155449\\project_home\\cats\\Reports\\Tem...  "
      ]
     },
     "execution_count": 57,
     "metadata": {},
     "output_type": "execute_result"
    }
   ],
   "source": [
    "t_df"
   ]
  },
  {
   "cell_type": "code",
   "execution_count": 58,
   "metadata": {
    "ExecuteTime": {
     "end_time": "2020-12-28T14:55:36.186341Z",
     "start_time": "2020-12-28T14:53:16.142305Z"
    }
   },
   "outputs": [
    {
     "name": "stdout",
     "output_type": "stream",
     "text": [
      "\n",
      "-------------------------------------------------------------------------------\n",
      "   ROBOCOPY     ::     Robust File Copy for Windows                              \n",
      "-------------------------------------------------------------------------------\n",
      "\n",
      "  Started : Monday, December 28, 2020 9:53:16 AM\n",
      "   Source : \\\\v2GBSdwesSQL01\\IMPORT\\OPS\\\n",
      "     Dest : C:\\Users\\1155449\\project_home\\cats\\Reports\\Template\\\n",
      "\n",
      "    Files : Activity Mapping.txt\n",
      "\t    \n",
      "  Options : /V /TEE /DCOPY:DA /COPY:DAT /Z /J /XO /MT:16 /R:5 /W:5 \n",
      "\n",
      "------------------------------------------------------------------------------\n",
      "\n",
      "\t          same\t\t    6400\t\\\\v2GBSdwesSQL01\\IMPORT\\OPS\\Activity Mapping.txt\n",
      "\n",
      "------------------------------------------------------------------------------\n",
      "\n",
      "               Total    Copied   Skipped  Mismatch    FAILED    Extras\n",
      "    Dirs :         1         1         1         0         0         0\n",
      "   Files :         1         0         1         0         0         0\n",
      "   Bytes :     6.2 k         0     6.2 k         0         0         0\n",
      "   Times :   0:00:00   0:00:00                       0:00:00   0:00:00\n",
      "   Ended : Monday, December 28, 2020 9:53:17 AM\n",
      "\n",
      "\n",
      "\n",
      "-------------------------------------------------------------------------------\n",
      "   ROBOCOPY     ::     Robust File Copy for Windows                              \n",
      "-------------------------------------------------------------------------------\n",
      "\n",
      "  Started : Monday, December 28, 2020 9:53:16 AM\n",
      "   Source : \\\\v2GBSdwesSQL01\\IMPORT\\OPS\\\n",
      "     Dest : C:\\Users\\1155449\\project_home\\cats\\Reports\\Template\\\n",
      "\n",
      "    Files : Activity Mapping.txt\n",
      "\t    \n",
      "  Options : /V /TEE /DCOPY:DA /COPY:DAT /Z /J /XO /MT:16 /R:5 /W:5 \n",
      "\n",
      "------------------------------------------------------------------------------\n",
      "\n",
      "\t          same\t\t    6400\t\\\\v2GBSdwesSQL01\\IMPORT\\OPS\\Activity Mapping.txt\n",
      "\n",
      "------------------------------------------------------------------------------\n",
      "\n",
      "               Total    Copied   Skipped  Mismatch    FAILED    Extras\n",
      "    Dirs :         1         1         1         0         0         0\n",
      "   Files :         1         0         1         0         0         0\n",
      "   Bytes :     6.2 k         0     6.2 k         0         0         0\n",
      "   Times :   0:00:00   0:00:00                       0:00:00   0:00:00\n",
      "   Ended : Monday, December 28, 2020 9:53:17 AM\n",
      "\n",
      "\n",
      "\n",
      "-------------------------------------------------------------------------------\n",
      "   ROBOCOPY     ::     Robust File Copy for Windows                              \n",
      "-------------------------------------------------------------------------------\n",
      "\n",
      "  Started : Monday, December 28, 2020 9:53:17 AM\n",
      "   Source : \\\\v2GBSdwesSQL01\\IMPORT\\OPS\\\n",
      "     Dest : C:\\Users\\1155449\\project_home\\cats\\Reports\\Template\\\n",
      "\n",
      "    Files : CATS_Hours.txt\n",
      "\t    \n",
      "  Options : /V /TEE /DCOPY:DA /COPY:DAT /Z /J /XO /MT:16 /R:5 /W:5 \n",
      "\n",
      "------------------------------------------------------------------------------\n",
      "\n",
      "\t          same\t\t 113.4 m\t\\\\v2GBSdwesSQL01\\IMPORT\\OPS\\CATS_Hours.txt\n",
      "\n",
      "------------------------------------------------------------------------------\n",
      "\n",
      "               Total    Copied   Skipped  Mismatch    FAILED    Extras\n",
      "    Dirs :         1         1         1         0         0         0\n",
      "   Files :         1         0         1         0         0         0\n",
      "   Bytes :  113.42 m         0  113.42 m         0         0         0\n",
      "   Times :   0:00:00   0:00:00                       0:00:00   0:00:00\n",
      "   Ended : Monday, December 28, 2020 9:53:17 AM\n",
      "\n",
      "\n",
      "\n",
      "-------------------------------------------------------------------------------\n",
      "   ROBOCOPY     ::     Robust File Copy for Windows                              \n",
      "-------------------------------------------------------------------------------\n",
      "\n",
      "  Started : Monday, December 28, 2020 9:53:17 AM\n",
      "   Source : \\\\v2GBSdwesSQL01\\IMPORT\\OPS\\\n",
      "     Dest : C:\\Users\\1155449\\project_home\\cats\\Reports\\Template\\\n",
      "\n",
      "    Files : CATS_Hours.txt\n",
      "\t    \n",
      "  Options : /V /TEE /DCOPY:DA /COPY:DAT /Z /J /XO /MT:16 /R:5 /W:5 \n",
      "\n",
      "------------------------------------------------------------------------------\n",
      "\n",
      "\t          same\t\t 113.4 m\t\\\\v2GBSdwesSQL01\\IMPORT\\OPS\\CATS_Hours.txt\n",
      "\n",
      "------------------------------------------------------------------------------\n",
      "\n",
      "               Total    Copied   Skipped  Mismatch    FAILED    Extras\n",
      "    Dirs :         1         1         1         0         0         0\n",
      "   Files :         1         0         1         0         0         0\n",
      "   Bytes :  113.42 m         0  113.42 m         0         0         0\n",
      "   Times :   0:00:00   0:00:00                       0:00:00   0:00:00\n",
      "   Ended : Monday, December 28, 2020 9:53:17 AM\n",
      "\n",
      "\n",
      "\n",
      "-------------------------------------------------------------------------------\n",
      "   ROBOCOPY     ::     Robust File Copy for Windows                              \n",
      "-------------------------------------------------------------------------------\n",
      "\n",
      "  Started : Monday, December 28, 2020 9:53:17 AM\n",
      "   Source : \\\\v2GBSdwesSQL01\\IMPORT\\OPS\\\n",
      "     Dest : C:\\Users\\1155449\\project_home\\cats\\Reports\\Template\\\n",
      "\n",
      "    Files : CostCenterMapping.txt\n",
      "\t    \n",
      "  Options : /V /TEE /DCOPY:DA /COPY:DAT /Z /J /XO /MT:16 /R:5 /W:5 \n",
      "\n",
      "------------------------------------------------------------------------------\n",
      "\n",
      "\t         older\t\t   15509\t\\\\v2GBSdwesSQL01\\IMPORT\\OPS\\CostCenterMapping.txt\n",
      "\n",
      "------------------------------------------------------------------------------\n",
      "\n",
      "               Total    Copied   Skipped  Mismatch    FAILED    Extras\n",
      "    Dirs :         1         1         1         0         0         0\n",
      "   Files :         1         0         1         0         0         0\n",
      "   Bytes :    15.1 k         0    15.1 k         0         0         0\n",
      "   Times :   0:00:00   0:00:00                       0:00:00   0:00:00\n",
      "   Ended : Monday, December 28, 2020 9:53:18 AM\n",
      "\n",
      "\n",
      "\n",
      "-------------------------------------------------------------------------------\n",
      "   ROBOCOPY     ::     Robust File Copy for Windows                              \n",
      "-------------------------------------------------------------------------------\n",
      "\n",
      "  Started : Monday, December 28, 2020 9:53:17 AM\n",
      "   Source : \\\\v2GBSdwesSQL01\\IMPORT\\OPS\\\n",
      "     Dest : C:\\Users\\1155449\\project_home\\cats\\Reports\\Template\\\n",
      "\n",
      "    Files : CostCenterMapping.txt\n",
      "\t    \n",
      "  Options : /V /TEE /DCOPY:DA /COPY:DAT /Z /J /XO /MT:16 /R:5 /W:5 \n",
      "\n",
      "------------------------------------------------------------------------------\n",
      "\n",
      "\t         older\t\t   15509\t\\\\v2GBSdwesSQL01\\IMPORT\\OPS\\CostCenterMapping.txt\n",
      "\n",
      "------------------------------------------------------------------------------\n",
      "\n",
      "               Total    Copied   Skipped  Mismatch    FAILED    Extras\n",
      "    Dirs :         1         1         1         0         0         0\n",
      "   Files :         1         0         1         0         0         0\n",
      "   Bytes :    15.1 k         0    15.1 k         0         0         0\n",
      "   Times :   0:00:00   0:00:00                       0:00:00   0:00:00\n",
      "   Ended : Monday, December 28, 2020 9:53:18 AM\n",
      "\n",
      "\n",
      "\n",
      "-------------------------------------------------------------------------------\n",
      "   ROBOCOPY     ::     Robust File Copy for Windows                              \n",
      "-------------------------------------------------------------------------------\n",
      "\n",
      "  Started : Monday, December 28, 2020 9:53:18 AM\n",
      "   Source : \\\\v2GBSdwesSQL01\\IMPORT\\OPS\\\n",
      "     Dest : C:\\Users\\1155449\\project_home\\cats\\Reports\\Template\\\n",
      "\n",
      "    Files : Depot.csv\n",
      "\t    \n",
      "  Options : /V /TEE /DCOPY:DA /COPY:DAT /Z /J /XO /MT:16 /R:5 /W:5 \n",
      "\n",
      "------------------------------------------------------------------------------\n",
      "\n",
      "\t    Newer     \t\t  33.1 m\t\\\\v2GBSdwesSQL01\\IMPORT\\OPS\\Depot.csv\n",
      "  0%  \n",
      "  2%  \n",
      "  3%  \n",
      "  5%  \n",
      "  6%  \n",
      "  8%  \n",
      "  9%  \n",
      " 11%  \n",
      " 12%  \n",
      " 14%  \n",
      " 15%  \n",
      " 17%  \n",
      " 18%  \n",
      " 20%  \n",
      " 21%  \n",
      " 23%  \n",
      " 24%  \n",
      " 26%  \n",
      " 27%  \n",
      " 29%  \n",
      " 30%  \n",
      " 31%  \n",
      " 33%  \n",
      " 35%  \n",
      " 37%  \n",
      " 39%  \n",
      " 40%  \n",
      " 42%  \n",
      " 44%  \n",
      " 47%  \n",
      " 49%  \n",
      " 52%  \n",
      " 55%  \n",
      " 58%  \n",
      " 62%  \n",
      " 65%  \n",
      " 68%  \n",
      " 72%  \n",
      " 75%  \n",
      " 79%  \n",
      " 83%  \n",
      " 87%  \n",
      " 91%  \n",
      " 95%  \n",
      " 99%  \n",
      "100%  \n",
      "\n",
      "------------------------------------------------------------------------------\n",
      "\n",
      "               Total    Copied   Skipped  Mismatch    FAILED    Extras\n",
      "    Dirs :         1         1         1         0         0         0\n",
      "   Files :         1         1         0         0         0         0\n",
      "   Bytes :   33.17 m   33.17 m         0         0         0         0\n",
      "   Times :   0:01:36   0:00:24                       0:00:00   0:00:24\n",
      "\n",
      "\n",
      "   Speed :             1438842 Bytes/sec.\n",
      "   Speed :              82.331 MegaBytes/min.\n",
      "   Ended : Monday, December 28, 2020 9:54:06 AM\n",
      "\n",
      "\n",
      "\n",
      "-------------------------------------------------------------------------------\n",
      "   ROBOCOPY     ::     Robust File Copy for Windows                              \n",
      "-------------------------------------------------------------------------------\n",
      "\n",
      "  Started : Monday, December 28, 2020 9:53:18 AM\n",
      "   Source : \\\\v2GBSdwesSQL01\\IMPORT\\OPS\\\n",
      "     Dest : C:\\Users\\1155449\\project_home\\cats\\Reports\\Template\\\n",
      "\n",
      "    Files : Depot.csv\n",
      "\t    \n",
      "  Options : /V /TEE /DCOPY:DA /COPY:DAT /Z /J /XO /MT:16 /R:5 /W:5 \n",
      "\n",
      "------------------------------------------------------------------------------\n",
      "\n",
      "\t    Newer     \t\t  33.1 m\t\\\\v2GBSdwesSQL01\\IMPORT\\OPS\\Depot.csv\n",
      "  0%  \n",
      "  2%  \n",
      "  3%  \n",
      "  5%  \n",
      "  6%  \n",
      "  8%  \n",
      "  9%  \n",
      " 11%  \n",
      " 12%  \n",
      " 14%  \n",
      " 15%  \n",
      " 17%  \n",
      " 18%  \n",
      " 20%  \n",
      " 21%  \n",
      " 23%  \n",
      " 24%  \n",
      " 26%  \n",
      " 27%  \n",
      " 29%  \n",
      " 30%  \n",
      " 31%  \n",
      " 33%  \n",
      " 35%  \n",
      " 37%  \n",
      " 39%  \n",
      " 40%  \n",
      " 42%  \n",
      " 44%  \n",
      " 47%  \n",
      " 49%  \n",
      " 52%  \n",
      " 55%  \n",
      " 58%  \n",
      " 62%  \n",
      " 65%  \n",
      " 68%  \n",
      " 72%  \n",
      " 75%  \n",
      " 79%  \n",
      " 83%  \n",
      " 87%  \n",
      " 91%  \n",
      " 95%  \n",
      " 99%  \n",
      "100%  \n",
      "\n",
      "------------------------------------------------------------------------------\n",
      "\n",
      "               Total    Copied   Skipped  Mismatch    FAILED    Extras\n",
      "    Dirs :         1         1         1         0         0         0\n",
      "   Files :         1         1         0         0         0         0\n",
      "   Bytes :   33.17 m   33.17 m         0         0         0         0\n",
      "   Times :   0:01:36   0:00:24                       0:00:00   0:00:24\n",
      "\n",
      "\n",
      "   Speed :             1438842 Bytes/sec.\n",
      "   Speed :              82.331 MegaBytes/min.\n",
      "   Ended : Monday, December 28, 2020 9:54:06 AM\n",
      "\n",
      "\n"
     ]
    },
    {
     "name": "stdout",
     "output_type": "stream",
     "text": [
      "\n",
      "-------------------------------------------------------------------------------\n",
      "   ROBOCOPY     ::     Robust File Copy for Windows                              \n",
      "-------------------------------------------------------------------------------\n",
      "\n",
      "  Started : Monday, December 28, 2020 9:54:06 AM\n",
      "   Source : \\\\v2GBSdwesSQL01\\IMPORT\\OPS\\\n",
      "     Dest : C:\\Users\\1155449\\project_home\\cats\\Reports\\Template\\\n",
      "\n",
      "    Files : IDExceptionMapping.csv\n",
      "\t    \n",
      "  Options : /V /TEE /DCOPY:DA /COPY:DAT /Z /J /XO /MT:16 /R:5 /W:5 \n",
      "\n",
      "------------------------------------------------------------------------------\n",
      "\n",
      "\t          same\t\t      30\t\\\\v2GBSdwesSQL01\\IMPORT\\OPS\\IDExceptionMapping.csv\n",
      "\n",
      "------------------------------------------------------------------------------\n",
      "\n",
      "               Total    Copied   Skipped  Mismatch    FAILED    Extras\n",
      "    Dirs :         1         1         1         0         0         0\n",
      "   Files :         1         0         1         0         0         0\n",
      "   Bytes :        30         0        30         0         0         0\n",
      "   Times :   0:00:00   0:00:00                       0:00:00   0:00:00\n",
      "   Ended : Monday, December 28, 2020 9:54:08 AM\n",
      "\n",
      "\n",
      "\n",
      "-------------------------------------------------------------------------------\n",
      "   ROBOCOPY     ::     Robust File Copy for Windows                              \n",
      "-------------------------------------------------------------------------------\n",
      "\n",
      "  Started : Monday, December 28, 2020 9:54:06 AM\n",
      "   Source : \\\\v2GBSdwesSQL01\\IMPORT\\OPS\\\n",
      "     Dest : C:\\Users\\1155449\\project_home\\cats\\Reports\\Template\\\n",
      "\n",
      "    Files : IDExceptionMapping.csv\n",
      "\t    \n",
      "  Options : /V /TEE /DCOPY:DA /COPY:DAT /Z /J /XO /MT:16 /R:5 /W:5 \n",
      "\n",
      "------------------------------------------------------------------------------\n",
      "\n",
      "\t          same\t\t      30\t\\\\v2GBSdwesSQL01\\IMPORT\\OPS\\IDExceptionMapping.csv\n",
      "\n",
      "------------------------------------------------------------------------------\n",
      "\n",
      "               Total    Copied   Skipped  Mismatch    FAILED    Extras\n",
      "    Dirs :         1         1         1         0         0         0\n",
      "   Files :         1         0         1         0         0         0\n",
      "   Bytes :        30         0        30         0         0         0\n",
      "   Times :   0:00:00   0:00:00                       0:00:00   0:00:00\n",
      "   Ended : Monday, December 28, 2020 9:54:08 AM\n",
      "\n",
      "\n",
      "\n",
      "-------------------------------------------------------------------------------\n",
      "   ROBOCOPY     ::     Robust File Copy for Windows                              \n",
      "-------------------------------------------------------------------------------\n",
      "\n",
      "  Started : Monday, December 28, 2020 9:54:08 AM\n",
      "   Source : \\\\v2GBSdwesSQL01\\IMPORT\\OPS\\\n",
      "     Dest : C:\\Users\\1155449\\project_home\\cats\\Reports\\Template\\\n",
      "\n",
      "    Files : Mapping 1.txt\n",
      "\t    \n",
      "  Options : /V /TEE /DCOPY:DA /COPY:DAT /Z /J /XO /MT:16 /R:5 /W:5 \n",
      "\n",
      "------------------------------------------------------------------------------\n",
      "\n",
      "\t      modified\t\t     818\t\\\\v2GBSdwesSQL01\\IMPORT\\OPS\\Mapping 1.txt\n",
      "\n",
      "------------------------------------------------------------------------------\n",
      "\n",
      "               Total    Copied   Skipped  Mismatch    FAILED    Extras\n",
      "    Dirs :         1         1         1         0         0         0\n",
      "   Files :         1         0         1         0         0         0\n",
      "   Bytes :       818         0       818         0         0         0\n",
      "   Times :   0:00:00   0:00:00                       0:00:00   0:00:00\n",
      "   Ended : Monday, December 28, 2020 9:54:09 AM\n",
      "\n",
      "\n",
      "\n",
      "-------------------------------------------------------------------------------\n",
      "   ROBOCOPY     ::     Robust File Copy for Windows                              \n",
      "-------------------------------------------------------------------------------\n",
      "\n",
      "  Started : Monday, December 28, 2020 9:54:08 AM\n",
      "   Source : \\\\v2GBSdwesSQL01\\IMPORT\\OPS\\\n",
      "     Dest : C:\\Users\\1155449\\project_home\\cats\\Reports\\Template\\\n",
      "\n",
      "    Files : Mapping 1.txt\n",
      "\t    \n",
      "  Options : /V /TEE /DCOPY:DA /COPY:DAT /Z /J /XO /MT:16 /R:5 /W:5 \n",
      "\n",
      "------------------------------------------------------------------------------\n",
      "\n",
      "\t      modified\t\t     818\t\\\\v2GBSdwesSQL01\\IMPORT\\OPS\\Mapping 1.txt\n",
      "\n",
      "------------------------------------------------------------------------------\n",
      "\n",
      "               Total    Copied   Skipped  Mismatch    FAILED    Extras\n",
      "    Dirs :         1         1         1         0         0         0\n",
      "   Files :         1         0         1         0         0         0\n",
      "   Bytes :       818         0       818         0         0         0\n",
      "   Times :   0:00:00   0:00:00                       0:00:00   0:00:00\n",
      "   Ended : Monday, December 28, 2020 9:54:09 AM\n",
      "\n",
      "\n",
      "\n",
      "-------------------------------------------------------------------------------\n",
      "   ROBOCOPY     ::     Robust File Copy for Windows                              \n",
      "-------------------------------------------------------------------------------\n",
      "\n",
      "  Started : Monday, December 28, 2020 9:54:09 AM\n",
      "   Source : \\\\v2GBSdwesSQL01\\IMPORT\\OPS\\\n",
      "     Dest : C:\\Users\\1155449\\project_home\\cats\\Reports\\Template\\\n",
      "\n",
      "    Files : WORKCENTERTOCELL.txt\n",
      "\t    \n",
      "  Options : /V /TEE /DCOPY:DA /COPY:DAT /Z /J /XO /MT:16 /R:5 /W:5 \n",
      "\n",
      "------------------------------------------------------------------------------\n",
      "\n",
      "\t      modified\t\t   19491\t\\\\v2GBSdwesSQL01\\IMPORT\\OPS\\WORKCENTERTOCELL.txt\n",
      "\n",
      "------------------------------------------------------------------------------\n",
      "\n",
      "               Total    Copied   Skipped  Mismatch    FAILED    Extras\n",
      "    Dirs :         1         1         1         0         0         0\n",
      "   Files :         1         0         1         0         0         0\n",
      "   Bytes :    19.0 k         0    19.0 k         0         0         0\n",
      "   Times :   0:00:00   0:00:00                       0:00:00   0:00:00\n",
      "   Ended : Monday, December 28, 2020 9:54:10 AM\n",
      "\n",
      "\n",
      "\n",
      "-------------------------------------------------------------------------------\n",
      "   ROBOCOPY     ::     Robust File Copy for Windows                              \n",
      "-------------------------------------------------------------------------------\n",
      "\n",
      "  Started : Monday, December 28, 2020 9:54:09 AM\n",
      "   Source : \\\\v2GBSdwesSQL01\\IMPORT\\OPS\\\n",
      "     Dest : C:\\Users\\1155449\\project_home\\cats\\Reports\\Template\\\n",
      "\n",
      "    Files : WORKCENTERTOCELL.txt\n",
      "\t    \n",
      "  Options : /V /TEE /DCOPY:DA /COPY:DAT /Z /J /XO /MT:16 /R:5 /W:5 \n",
      "\n",
      "------------------------------------------------------------------------------\n",
      "\n",
      "\t      modified\t\t   19491\t\\\\v2GBSdwesSQL01\\IMPORT\\OPS\\WORKCENTERTOCELL.txt\n",
      "\n",
      "------------------------------------------------------------------------------\n",
      "\n",
      "               Total    Copied   Skipped  Mismatch    FAILED    Extras\n",
      "    Dirs :         1         1         1         0         0         0\n",
      "   Files :         1         0         1         0         0         0\n",
      "   Bytes :    19.0 k         0    19.0 k         0         0         0\n",
      "   Times :   0:00:00   0:00:00                       0:00:00   0:00:00\n",
      "   Ended : Monday, December 28, 2020 9:54:10 AM\n",
      "\n",
      "\n",
      "\n",
      "-------------------------------------------------------------------------------\n",
      "   ROBOCOPY     ::     Robust File Copy for Windows                              \n",
      "-------------------------------------------------------------------------------\n",
      "\n",
      "  Started : Monday, December 28, 2020 9:54:10 AM\n",
      "   Source : \\\\v2GBSdwesSQL01\\IMPORT\\OPS\\\n",
      "     Dest : C:\\Users\\1155449\\project_home\\cats\\Reports\\Template\\\n",
      "\n",
      "    Files : PRISIMPoolMapping.txt\n",
      "\t    \n",
      "  Options : /V /TEE /DCOPY:DA /COPY:DAT /Z /J /XO /MT:16 /R:5 /W:5 \n",
      "\n",
      "------------------------------------------------------------------------------\n",
      "\n",
      "\t      modified\t\t    9333\t\\\\v2GBSdwesSQL01\\IMPORT\\OPS\\PRISIMPoolMapping.txt\n",
      "\n",
      "------------------------------------------------------------------------------\n",
      "\n",
      "               Total    Copied   Skipped  Mismatch    FAILED    Extras\n",
      "    Dirs :         1         1         1         0         0         0\n",
      "   Files :         1         0         1         0         0         0\n",
      "   Bytes :     9.1 k         0     9.1 k         0         0         0\n",
      "   Times :   0:00:00   0:00:00                       0:00:00   0:00:00\n",
      "   Ended : Monday, December 28, 2020 9:54:11 AM\n",
      "\n",
      "\n",
      "\n",
      "-------------------------------------------------------------------------------\n",
      "   ROBOCOPY     ::     Robust File Copy for Windows                              \n",
      "-------------------------------------------------------------------------------\n",
      "\n",
      "  Started : Monday, December 28, 2020 9:54:10 AM\n",
      "   Source : \\\\v2GBSdwesSQL01\\IMPORT\\OPS\\\n",
      "     Dest : C:\\Users\\1155449\\project_home\\cats\\Reports\\Template\\\n",
      "\n",
      "    Files : PRISIMPoolMapping.txt\n",
      "\t    \n",
      "  Options : /V /TEE /DCOPY:DA /COPY:DAT /Z /J /XO /MT:16 /R:5 /W:5 \n",
      "\n",
      "------------------------------------------------------------------------------\n",
      "\n",
      "\t      modified\t\t    9333\t\\\\v2GBSdwesSQL01\\IMPORT\\OPS\\PRISIMPoolMapping.txt\n",
      "\n",
      "------------------------------------------------------------------------------\n",
      "\n",
      "               Total    Copied   Skipped  Mismatch    FAILED    Extras\n",
      "    Dirs :         1         1         1         0         0         0\n",
      "   Files :         1         0         1         0         0         0\n",
      "   Bytes :     9.1 k         0     9.1 k         0         0         0\n",
      "   Times :   0:00:00   0:00:00                       0:00:00   0:00:00\n",
      "   Ended : Monday, December 28, 2020 9:54:11 AM\n",
      "\n",
      "\n"
     ]
    },
    {
     "name": "stdout",
     "output_type": "stream",
     "text": [
      "\n",
      "-------------------------------------------------------------------------------\n",
      "   ROBOCOPY     ::     Robust File Copy for Windows                              \n",
      "-------------------------------------------------------------------------------\n",
      "\n",
      "  Started : Monday, December 28, 2020 9:54:11 AM\n",
      "   Source : \\\\v2GBSdwesSQL01\\IMPORT\\OPS\\\n",
      "     Dest : C:\\Users\\1155449\\project_home\\cats\\Reports\\Template\\\n",
      "\n",
      "    Files : ProductionPegging.csv\n",
      "\t    \n",
      "  Options : /V /TEE /DCOPY:DA /COPY:DAT /Z /J /XO /MT:16 /R:5 /W:5 \n",
      "\n",
      "------------------------------------------------------------------------------\n",
      "\n",
      "\t    Newer     \t\t  59.0 m\t\\\\v2GBSdwesSQL01\\IMPORT\\OPS\\ProductionPegging.csv\n",
      "  1%  \n",
      "  2%  \n",
      "  3%  \n",
      "  4%  \n",
      "  5%  \n",
      "  6%  \n",
      "  7%  \n",
      "  8%  \n",
      "  9%  \n",
      " 10%  \n",
      " 11%  \n",
      " 12%  \n",
      " 13%  \n",
      " 14%  \n",
      " 15%  \n",
      " 16%  \n",
      " 17%  \n",
      " 18%  \n",
      " 19%  \n",
      " 20%  \n",
      " 22%  \n",
      " 23%  \n",
      " 24%  \n",
      " 25%  \n",
      " 27%  \n",
      " 28%  \n",
      " 30%  \n",
      " 31%  \n",
      " 32%  \n",
      " 33%  \n",
      " 35%  \n",
      " 36%  \n",
      " 38%  \n",
      " 40%  \n",
      " 42%  \n",
      " 44%  \n",
      " 46%  \n",
      " 48%  \n",
      " 50%  \n",
      " 52%  \n",
      " 54%  \n",
      " 56%  \n",
      " 59%  \n",
      " 61%  \n",
      " 63%  \n",
      " 64%  \n",
      " 66%  \n",
      " 69%  \n",
      " 71%  \n",
      " 74%  \n",
      " 75%  \n",
      " 77%  \n",
      " 79%  \n",
      " 82%  \n",
      " 83%  \n",
      " 85%  \n",
      " 88%  \n",
      " 91%  \n",
      " 94%  \n",
      " 98%  \n",
      "100%  \n",
      "\n",
      "------------------------------------------------------------------------------\n",
      "\n",
      "               Total    Copied   Skipped  Mismatch    FAILED    Extras\n",
      "    Dirs :         1         1         1         0         0         0\n",
      "   Files :         1         1         0         0         0         0\n",
      "   Bytes :   59.05 m   59.05 m         0         0         0         0\n",
      "   Times :   0:02:42   0:00:40                       0:00:00   0:00:40\n",
      "\n",
      "\n",
      "   Speed :             1527202 Bytes/sec.\n",
      "   Speed :              87.387 MegaBytes/min.\n",
      "   Ended : Monday, December 28, 2020 9:55:32 AM\n",
      "\n",
      "\n",
      "\n",
      "-------------------------------------------------------------------------------\n",
      "   ROBOCOPY     ::     Robust File Copy for Windows                              \n",
      "-------------------------------------------------------------------------------\n",
      "\n",
      "  Started : Monday, December 28, 2020 9:54:11 AM\n",
      "   Source : \\\\v2GBSdwesSQL01\\IMPORT\\OPS\\\n",
      "     Dest : C:\\Users\\1155449\\project_home\\cats\\Reports\\Template\\\n",
      "\n",
      "    Files : ProductionPegging.csv\n",
      "\t    \n",
      "  Options : /V /TEE /DCOPY:DA /COPY:DAT /Z /J /XO /MT:16 /R:5 /W:5 \n",
      "\n",
      "------------------------------------------------------------------------------\n",
      "\n",
      "\t    Newer     \t\t  59.0 m\t\\\\v2GBSdwesSQL01\\IMPORT\\OPS\\ProductionPegging.csv\n",
      "  1%  \n",
      "  2%  \n",
      "  3%  \n",
      "  4%  \n",
      "  5%  \n",
      "  6%  \n",
      "  7%  \n",
      "  8%  \n",
      "  9%  \n",
      " 10%  \n",
      " 11%  \n",
      " 12%  \n",
      " 13%  \n",
      " 14%  \n",
      " 15%  \n",
      " 16%  \n",
      " 17%  \n",
      " 18%  \n",
      " 19%  \n",
      " 20%  \n",
      " 22%  \n",
      " 23%  \n",
      " 24%  \n",
      " 25%  \n",
      " 27%  \n",
      " 28%  \n",
      " 30%  \n",
      " 31%  \n",
      " 32%  \n",
      " 33%  \n",
      " 35%  \n",
      " 36%  \n",
      " 38%  \n",
      " 40%  \n",
      " 42%  \n",
      " 44%  \n",
      " 46%  \n",
      " 48%  \n",
      " 50%  \n",
      " 52%  \n",
      " 54%  \n",
      " 56%  \n",
      " 59%  \n",
      " 61%  \n",
      " 63%  \n",
      " 64%  \n",
      " 66%  \n",
      " 69%  \n",
      " 71%  \n",
      " 74%  \n",
      " 75%  \n",
      " 77%  \n",
      " 79%  \n",
      " 82%  \n",
      " 83%  \n",
      " 85%  \n",
      " 88%  \n",
      " 91%  \n",
      " 94%  \n",
      " 98%  \n",
      "100%  \n",
      "\n",
      "------------------------------------------------------------------------------\n",
      "\n",
      "               Total    Copied   Skipped  Mismatch    FAILED    Extras\n",
      "    Dirs :         1         1         1         0         0         0\n",
      "   Files :         1         1         0         0         0         0\n",
      "   Bytes :   59.05 m   59.05 m         0         0         0         0\n",
      "   Times :   0:02:42   0:00:40                       0:00:00   0:00:40\n",
      "\n",
      "\n",
      "   Speed :             1527202 Bytes/sec.\n",
      "   Speed :              87.387 MegaBytes/min.\n",
      "   Ended : Monday, December 28, 2020 9:55:32 AM\n",
      "\n",
      "\n",
      "\n",
      "-------------------------------------------------------------------------------\n",
      "   ROBOCOPY     ::     Robust File Copy for Windows                              \n",
      "-------------------------------------------------------------------------------\n",
      "\n",
      "  Started : Monday, December 28, 2020 9:55:33 AM\n",
      "   Source : \\\\estp-fs003.stp.us.ray.com\\w2k-projects1\\Manufacturing\\BAM Data Reports\\ShopLoad\\CATS Actuals\\Process\\\n",
      "     Dest : C:\\Users\\1155449\\project_home\\cats\\Reports\\Template\\\n",
      "\n",
      "    Files : Largo Headcount All With Sigma Level.xlsx\n",
      "\t    \n",
      "  Options : /V /TEE /DCOPY:DA /COPY:DAT /Z /J /XO /MT:16 /R:5 /W:5 \n",
      "\n",
      "------------------------------------------------------------------------------\n",
      "\n",
      "\t         older\t\t  184170\t\\\\estp-fs003.stp.us.ray.com\\w2k-projects1\\Manufacturing\\BAM Data Reports\\ShopLoad\\CATS Actuals\\Process\\Largo Headcount All With Sigma Level.xlsx\n",
      "\n",
      "------------------------------------------------------------------------------\n",
      "\n",
      "               Total    Copied   Skipped  Mismatch    FAILED    Extras\n",
      "    Dirs :         1         1         1         0         0         0\n",
      "   Files :         1         0         1         0         0         0\n",
      "   Bytes :   179.8 k         0   179.8 k         0         0         0\n",
      "   Times :   0:00:00   0:00:00                       0:00:00   0:00:00\n",
      "   Ended : Monday, December 28, 2020 9:55:34 AM\n",
      "\n",
      "\n",
      "\n",
      "-------------------------------------------------------------------------------\n",
      "   ROBOCOPY     ::     Robust File Copy for Windows                              \n",
      "-------------------------------------------------------------------------------\n",
      "\n",
      "  Started : Monday, December 28, 2020 9:55:33 AM\n",
      "   Source : \\\\estp-fs003.stp.us.ray.com\\w2k-projects1\\Manufacturing\\BAM Data Reports\\ShopLoad\\CATS Actuals\\Process\\\n",
      "     Dest : C:\\Users\\1155449\\project_home\\cats\\Reports\\Template\\\n",
      "\n",
      "    Files : Largo Headcount All With Sigma Level.xlsx\n",
      "\t    \n",
      "  Options : /V /TEE /DCOPY:DA /COPY:DAT /Z /J /XO /MT:16 /R:5 /W:5 \n",
      "\n",
      "------------------------------------------------------------------------------\n",
      "\n",
      "\t         older\t\t  184170\t\\\\estp-fs003.stp.us.ray.com\\w2k-projects1\\Manufacturing\\BAM Data Reports\\ShopLoad\\CATS Actuals\\Process\\Largo Headcount All With Sigma Level.xlsx\n",
      "\n",
      "------------------------------------------------------------------------------\n",
      "\n",
      "               Total    Copied   Skipped  Mismatch    FAILED    Extras\n",
      "    Dirs :         1         1         1         0         0         0\n",
      "   Files :         1         0         1         0         0         0\n",
      "   Bytes :   179.8 k         0   179.8 k         0         0         0\n",
      "   Times :   0:00:00   0:00:00                       0:00:00   0:00:00\n",
      "   Ended : Monday, December 28, 2020 9:55:34 AM\n",
      "\n",
      "\n",
      "\n",
      "-------------------------------------------------------------------------------\n",
      "   ROBOCOPY     ::     Robust File Copy for Windows                              \n",
      "-------------------------------------------------------------------------------\n",
      "\n",
      "  Started : Monday, December 28, 2020 9:55:34 AM\n",
      "   Source : \\\\estp-fs003.stp.us.ray.com\\w2k-projects1\\Manufacturing\\BAM Data Reports\\MRP Health\\\n",
      "     Dest : C:\\Users\\1155449\\project_home\\cats\\Reports\\Template\\\n",
      "\n",
      "    Files : Master Program XREF.xlsx\n",
      "\t    \n",
      "  Options : /V /TEE /DCOPY:DA /COPY:DAT /Z /J /XO /MT:16 /R:5 /W:5 \n",
      "\n",
      "------------------------------------------------------------------------------\n",
      "\n",
      "\t      modified\t\t   6.4 m\t\\\\estp-fs003.stp.us.ray.com\\w2k-projects1\\Manufacturing\\BAM Data Reports\\MRP Health\\Master Program XREF.xlsx\n",
      "\n",
      "------------------------------------------------------------------------------\n",
      "\n",
      "               Total    Copied   Skipped  Mismatch    FAILED    Extras\n",
      "    Dirs :         1         1         1         0         0         0\n",
      "   Files :         1         0         1         0         0         0\n",
      "   Bytes :    6.43 m         0    6.43 m         0         0         0\n",
      "   Times :   0:00:00   0:00:00                       0:00:00   0:00:00\n",
      "   Ended : Monday, December 28, 2020 9:55:35 AM\n",
      "\n",
      "\n",
      "\n",
      "-------------------------------------------------------------------------------\n",
      "   ROBOCOPY     ::     Robust File Copy for Windows                              \n",
      "-------------------------------------------------------------------------------\n",
      "\n",
      "  Started : Monday, December 28, 2020 9:55:34 AM\n",
      "   Source : \\\\estp-fs003.stp.us.ray.com\\w2k-projects1\\Manufacturing\\BAM Data Reports\\MRP Health\\\n",
      "     Dest : C:\\Users\\1155449\\project_home\\cats\\Reports\\Template\\\n",
      "\n",
      "    Files : Master Program XREF.xlsx\n",
      "\t    \n",
      "  Options : /V /TEE /DCOPY:DA /COPY:DAT /Z /J /XO /MT:16 /R:5 /W:5 \n",
      "\n",
      "------------------------------------------------------------------------------\n",
      "\n",
      "\t      modified\t\t   6.4 m\t\\\\estp-fs003.stp.us.ray.com\\w2k-projects1\\Manufacturing\\BAM Data Reports\\MRP Health\\Master Program XREF.xlsx\n",
      "\n",
      "------------------------------------------------------------------------------\n",
      "\n",
      "               Total    Copied   Skipped  Mismatch    FAILED    Extras\n",
      "    Dirs :         1         1         1         0         0         0\n",
      "   Files :         1         0         1         0         0         0\n",
      "   Bytes :    6.43 m         0    6.43 m         0         0         0\n",
      "   Times :   0:00:00   0:00:00                       0:00:00   0:00:00\n",
      "   Ended : Monday, December 28, 2020 9:55:35 AM\n",
      "\n",
      "\n"
     ]
    },
    {
     "name": "stdout",
     "output_type": "stream",
     "text": [
      "\n",
      "-------------------------------------------------------------------------------\n",
      "   ROBOCOPY     ::     Robust File Copy for Windows                              \n",
      "-------------------------------------------------------------------------------\n",
      "\n",
      "  Started : Monday, December 28, 2020 9:55:35 AM\n",
      "   Source : \\\\estp-fs003.stp.us.ray.com\\w2k-projects1\\Manufacturing\\BAM Data Reports\\MRP Health\\\n",
      "     Dest : C:\\Users\\1155449\\project_home\\cats\\Reports\\Template\\\n",
      "\n",
      "    Files : WBS XREF.xlsm\n",
      "\t    \n",
      "  Options : /V /TEE /DCOPY:DA /COPY:DAT /Z /J /XO /MT:16 /R:5 /W:5 \n",
      "\n",
      "------------------------------------------------------------------------------\n",
      "\n",
      "\t         older\t\t   6.6 m\t\\\\estp-fs003.stp.us.ray.com\\w2k-projects1\\Manufacturing\\BAM Data Reports\\MRP Health\\WBS XREF.xlsm\n",
      "\n",
      "------------------------------------------------------------------------------\n",
      "\n",
      "               Total    Copied   Skipped  Mismatch    FAILED    Extras\n",
      "    Dirs :         1         1         1         0         0         0\n",
      "   Files :         1         0         1         0         0         0\n",
      "   Bytes :    6.61 m         0    6.61 m         0         0         0\n",
      "   Times :   0:00:00   0:00:00                       0:00:00   0:00:00\n",
      "   Ended : Monday, December 28, 2020 9:55:35 AM\n",
      "\n",
      "\n",
      "\n",
      "-------------------------------------------------------------------------------\n",
      "   ROBOCOPY     ::     Robust File Copy for Windows                              \n",
      "-------------------------------------------------------------------------------\n",
      "\n",
      "  Started : Monday, December 28, 2020 9:55:35 AM\n",
      "   Source : \\\\estp-fs003.stp.us.ray.com\\w2k-projects1\\Manufacturing\\BAM Data Reports\\MRP Health\\\n",
      "     Dest : C:\\Users\\1155449\\project_home\\cats\\Reports\\Template\\\n",
      "\n",
      "    Files : WBS XREF.xlsm\n",
      "\t    \n",
      "  Options : /V /TEE /DCOPY:DA /COPY:DAT /Z /J /XO /MT:16 /R:5 /W:5 \n",
      "\n",
      "------------------------------------------------------------------------------\n",
      "\n",
      "\t         older\t\t   6.6 m\t\\\\estp-fs003.stp.us.ray.com\\w2k-projects1\\Manufacturing\\BAM Data Reports\\MRP Health\\WBS XREF.xlsm\n",
      "\n",
      "------------------------------------------------------------------------------\n",
      "\n",
      "               Total    Copied   Skipped  Mismatch    FAILED    Extras\n",
      "    Dirs :         1         1         1         0         0         0\n",
      "   Files :         1         0         1         0         0         0\n",
      "   Bytes :    6.61 m         0    6.61 m         0         0         0\n",
      "   Times :   0:00:00   0:00:00                       0:00:00   0:00:00\n",
      "   Ended : Monday, December 28, 2020 9:55:35 AM\n",
      "\n",
      "\n",
      "\n",
      "-------------------------------------------------------------------------------\n",
      "   ROBOCOPY     ::     Robust File Copy for Windows                              \n",
      "-------------------------------------------------------------------------------\n",
      "\n",
      "  Started : Monday, December 28, 2020 9:55:35 AM\n",
      "   Source : \\\\estp-fs003.stp.us.ray.com\\w2k-projects1\\Manufacturing\\BAM Data Reports\\MRP Health\\\n",
      "     Dest : C:\\Users\\1155449\\project_home\\cats\\Reports\\Template\\\n",
      "\n",
      "    Files : Master Program XREF.xlsx\n",
      "\t    \n",
      "  Options : /V /TEE /DCOPY:DA /COPY:DAT /Z /J /XO /MT:16 /R:5 /W:5 \n",
      "\n",
      "------------------------------------------------------------------------------\n",
      "\n",
      "\t      modified\t\t   6.4 m\t\\\\estp-fs003.stp.us.ray.com\\w2k-projects1\\Manufacturing\\BAM Data Reports\\MRP Health\\Master Program XREF.xlsx\n",
      "\n",
      "------------------------------------------------------------------------------\n",
      "\n",
      "               Total    Copied   Skipped  Mismatch    FAILED    Extras\n",
      "    Dirs :         1         1         1         0         0         0\n",
      "   Files :         1         0         1         0         0         0\n",
      "   Bytes :    6.43 m         0    6.43 m         0         0         0\n",
      "   Times :   0:00:00   0:00:00                       0:00:00   0:00:00\n",
      "   Ended : Monday, December 28, 2020 9:55:36 AM\n",
      "\n",
      "\n",
      "\n",
      "-------------------------------------------------------------------------------\n",
      "   ROBOCOPY     ::     Robust File Copy for Windows                              \n",
      "-------------------------------------------------------------------------------\n",
      "\n",
      "  Started : Monday, December 28, 2020 9:55:35 AM\n",
      "   Source : \\\\estp-fs003.stp.us.ray.com\\w2k-projects1\\Manufacturing\\BAM Data Reports\\MRP Health\\\n",
      "     Dest : C:\\Users\\1155449\\project_home\\cats\\Reports\\Template\\\n",
      "\n",
      "    Files : Master Program XREF.xlsx\n",
      "\t    \n",
      "  Options : /V /TEE /DCOPY:DA /COPY:DAT /Z /J /XO /MT:16 /R:5 /W:5 \n",
      "\n",
      "------------------------------------------------------------------------------\n",
      "\n",
      "\t      modified\t\t   6.4 m\t\\\\estp-fs003.stp.us.ray.com\\w2k-projects1\\Manufacturing\\BAM Data Reports\\MRP Health\\Master Program XREF.xlsx\n",
      "\n",
      "------------------------------------------------------------------------------\n",
      "\n",
      "               Total    Copied   Skipped  Mismatch    FAILED    Extras\n",
      "    Dirs :         1         1         1         0         0         0\n",
      "   Files :         1         0         1         0         0         0\n",
      "   Bytes :    6.43 m         0    6.43 m         0         0         0\n",
      "   Times :   0:00:00   0:00:00                       0:00:00   0:00:00\n",
      "   Ended : Monday, December 28, 2020 9:55:36 AM\n",
      "\n",
      "\n"
     ]
    }
   ],
   "source": [
    "if copy_locally:\n",
    "    for idx, _ in t_df.iterrows():\n",
    "        src = t_df.loc[idx, 'Source Folder']\n",
    "        files = t_df.loc[idx, 'Basenames'].split('|')\n",
    "        \n",
    "        for f in files:\n",
    "            output = robocopy_file(src, local_folder, f, True)\n",
    "            print(output.stdout)"
   ]
  },
  {
   "cell_type": "markdown",
   "metadata": {},
   "source": [
    "### Check All Files Exist In Local Folder"
   ]
  },
  {
   "cell_type": "code",
   "execution_count": 61,
   "metadata": {
    "ExecuteTime": {
     "end_time": "2020-12-28T14:57:28.322737Z",
     "start_time": "2020-12-28T14:57:26.280771Z"
    },
    "run_control": {
     "marked": false
    }
   },
   "outputs": [
    {
     "name": "stdout",
     "output_type": "stream",
     "text": [
      "All Local Files Were Found.\n"
     ]
    },
    {
     "data": {
      "text/plain": [
       "''"
      ]
     },
     "execution_count": 61,
     "metadata": {},
     "output_type": "execute_result"
    }
   ],
   "source": [
    "if copy_locally:\n",
    "    not_found = []\n",
    "\n",
    "    for file in files:\n",
    "        t_file = os.path.join(local_folder, file)\n",
    "        \n",
    "        if not os.path.isfile(t_file):\n",
    "            not_found.append(t_file)\n",
    "\n",
    "            \n",
    "    if len(not_found) > 0:\n",
    "        message = 'The Files Below Were Not Found:\\n\\n'\n",
    "        \n",
    "        for idx, _ in enumerate(not_found):\n",
    "            if idx == 0:\n",
    "                message += f'\\t{os.path.basename(_)}'\n",
    "            else:\n",
    "                message += f' | {os.path.basename(_)}'\n",
    "                \n",
    "        message += f'\\n\\nPlace The Files To The Below Folder.\\n\\n\\t{local_folder}\\n\\nPress Enter Here To Continue.'\n",
    "        \n",
    "    else:\n",
    "        message = 'All Local Files Were Found.'\n",
    "        \n",
    "        \n",
    "sg.PopupOK(message)\n",
    "input(message)        "
   ]
  },
  {
   "cell_type": "code",
   "execution_count": null,
   "metadata": {},
   "outputs": [],
   "source": []
  }
 ],
 "metadata": {
  "kernelspec": {
   "display_name": "Python 3",
   "language": "python",
   "name": "python3"
  },
  "language_info": {
   "codemirror_mode": {
    "name": "ipython",
    "version": 3
   },
   "file_extension": ".py",
   "mimetype": "text/x-python",
   "name": "python",
   "nbconvert_exporter": "python",
   "pygments_lexer": "ipython3",
   "version": "3.8.2"
  },
  "toc": {
   "base_numbering": 1,
   "nav_menu": {},
   "number_sections": true,
   "sideBar": false,
   "skip_h1_title": true,
   "title_cell": "Table of Contents",
   "title_sidebar": "Contents",
   "toc_cell": true,
   "toc_position": {
    "height": "869px",
    "left": "1306.97px",
    "top": "52px",
    "width": "613.033px"
   },
   "toc_section_display": true,
   "toc_window_display": false
  },
  "varInspector": {
   "cols": {
    "lenName": 16,
    "lenType": 16,
    "lenVar": 40
   },
   "kernels_config": {
    "python": {
     "delete_cmd_postfix": "",
     "delete_cmd_prefix": "del ",
     "library": "var_list.py",
     "varRefreshCmd": "print(var_dic_list())"
    },
    "r": {
     "delete_cmd_postfix": ") ",
     "delete_cmd_prefix": "rm(",
     "library": "var_list.r",
     "varRefreshCmd": "cat(var_dic_list()) "
    }
   },
   "position": {
    "height": "619.85px",
    "left": "1159.6px",
    "right": "20px",
    "top": "120px",
    "width": "356.4px"
   },
   "types_to_exclude": [
    "module",
    "function",
    "builtin_function_or_method",
    "instance",
    "_Feature"
   ],
   "window_display": false
  }
 },
 "nbformat": 4,
 "nbformat_minor": 4
}

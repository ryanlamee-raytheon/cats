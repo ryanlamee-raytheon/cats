{
 "cells": [
  {
   "cell_type": "markdown",
   "metadata": {
    "toc": true
   },
   "source": [
    "<h1>Table of Contents<span class=\"tocSkip\"></span></h1>\n",
    "<div class=\"toc\"><ul class=\"toc-item\"><li><span><a href=\"#Imports\" data-toc-modified-id=\"Imports-1\"><span class=\"toc-item-num\">1&nbsp;&nbsp;</span>Imports</a></span></li><li><span><a href=\"#Parameters\" data-toc-modified-id=\"Parameters-2\"><span class=\"toc-item-num\">2&nbsp;&nbsp;</span>Parameters</a></span><ul class=\"toc-item\"><li><span><a href=\"#wbs_file\" data-toc-modified-id=\"wbs_file-2.1\"><span class=\"toc-item-num\">2.1&nbsp;&nbsp;</span>wbs_file</a></span></li><li><span><a href=\"#cats_file\" data-toc-modified-id=\"cats_file-2.2\"><span class=\"toc-item-num\">2.2&nbsp;&nbsp;</span>cats_file</a></span></li><li><span><a href=\"#input_file\" data-toc-modified-id=\"input_file-2.3\"><span class=\"toc-item-num\">2.3&nbsp;&nbsp;</span>input_file</a></span></li></ul></li><li><span><a href=\"#Step-01:-Prep-NWAs\" data-toc-modified-id=\"Step-01:-Prep-NWAs-3\"><span class=\"toc-item-num\">3&nbsp;&nbsp;</span>Step 01: Prep NWAs</a></span></li><li><span><a href=\"#input_df---tbl-NWAs-to-Network\" data-toc-modified-id=\"input_df---tbl-NWAs-to-Network-4\"><span class=\"toc-item-num\">4&nbsp;&nbsp;</span>input_df - tbl NWAs to Network</a></span></li><li><span><a href=\"#Query-Result-Values\" data-toc-modified-id=\"Query-Result-Values-5\"><span class=\"toc-item-num\">5&nbsp;&nbsp;</span>Query Result Values</a></span></li><li><span><a href=\"#Step-02:-Replace-Space-with-Hyphen\" data-toc-modified-id=\"Step-02:-Replace-Space-with-Hyphen-6\"><span class=\"toc-item-num\">6&nbsp;&nbsp;</span>Step 02: Replace Space with Hyphen</a></span></li><li><span><a href=\"#Step-03:-Narrow-Results\" data-toc-modified-id=\"Step-03:-Narrow-Results-7\"><span class=\"toc-item-num\">7&nbsp;&nbsp;</span>Step 03: Narrow Results</a></span></li></ul></div>"
   ]
  },
  {
   "cell_type": "code",
   "execution_count": 1,
   "metadata": {
    "ExecuteTime": {
     "end_time": "2020-12-15T14:23:48.433565Z",
     "start_time": "2020-12-15T14:23:48.420773Z"
    },
    "run_control": {
     "marked": false
    }
   },
   "outputs": [],
   "source": [
    " %config Completer.use_jedi = False "
   ]
  },
  {
   "cell_type": "markdown",
   "metadata": {},
   "source": [
    "## Imports"
   ]
  },
  {
   "cell_type": "code",
   "execution_count": 2,
   "metadata": {
    "ExecuteTime": {
     "end_time": "2020-12-15T14:23:49.568947Z",
     "start_time": "2020-12-15T14:23:48.468576Z"
    },
    "run_control": {
     "marked": false
    }
   },
   "outputs": [],
   "source": [
    "import os\n",
    "import sys\n",
    "# import time\n",
    "# import pythoncom\n",
    "# import numpy as np\n",
    "import pandas as pd\n",
    "# import win32com.client\n",
    "import PySimpleGUI as sg\n",
    "from datetime import datetime\n",
    "# from collections import defaultdict\n",
    "# import csv\n",
    "# import sql_metadata\n",
    "# import networkx as nx\n",
    "# from copy import deepcopy\n",
    "# from matplotlib import pyplot as plt\n",
    "# import plotly.graph_objects as go\n",
    "# from networkx.drawing.nx_pydot import graphviz_layout\n",
    "# import sqlparse"
   ]
  },
  {
   "cell_type": "code",
   "execution_count": 3,
   "metadata": {
    "ExecuteTime": {
     "end_time": "2020-12-15T14:23:49.659635Z",
     "start_time": "2020-12-15T14:23:49.569973Z"
    }
   },
   "outputs": [],
   "source": [
    "from common_functions import get_universal_path"
   ]
  },
  {
   "cell_type": "code",
   "execution_count": 4,
   "metadata": {
    "ExecuteTime": {
     "end_time": "2020-12-15T14:23:49.681782Z",
     "start_time": "2020-12-15T14:23:49.659990Z"
    },
    "run_control": {
     "marked": false
    }
   },
   "outputs": [],
   "source": [
    "pd.set_option('display.max_rows', 500)"
   ]
  },
  {
   "cell_type": "code",
   "execution_count": 5,
   "metadata": {
    "ExecuteTime": {
     "end_time": "2020-12-15T14:23:49.730636Z",
     "start_time": "2020-12-15T14:23:49.681782Z"
    }
   },
   "outputs": [],
   "source": [
    "abs_executable_path = get_universal_path()"
   ]
  },
  {
   "cell_type": "markdown",
   "metadata": {},
   "source": [
    "## Parameters"
   ]
  },
  {
   "cell_type": "markdown",
   "metadata": {},
   "source": [
    "### wbs_file"
   ]
  },
  {
   "cell_type": "code",
   "execution_count": 6,
   "metadata": {
    "ExecuteTime": {
     "end_time": "2020-12-15T14:24:28.153188Z",
     "start_time": "2020-12-15T14:24:19.293067Z"
    }
   },
   "outputs": [],
   "source": [
    "wbs_file = get_universal_path(sg.PopupGetFile('Select The WBS XREF Excel File', keep_on_top=True, initial_folder=abs_executable_path))"
   ]
  },
  {
   "cell_type": "code",
   "execution_count": 7,
   "metadata": {
    "ExecuteTime": {
     "end_time": "2020-12-15T14:24:37.934164Z",
     "start_time": "2020-12-15T14:24:30.863585Z"
    }
   },
   "outputs": [],
   "source": [
    "wbs_df = pd.read_excel(wbs_file, sheet_name='WBS Ref')"
   ]
  },
  {
   "cell_type": "code",
   "execution_count": 8,
   "metadata": {
    "ExecuteTime": {
     "end_time": "2020-12-15T14:25:13.512441Z",
     "start_time": "2020-12-15T14:25:13.468194Z"
    }
   },
   "outputs": [
    {
     "data": {
      "text/html": [
       "<div>\n",
       "<style scoped>\n",
       "    .dataframe tbody tr th:only-of-type {\n",
       "        vertical-align: middle;\n",
       "    }\n",
       "\n",
       "    .dataframe tbody tr th {\n",
       "        vertical-align: top;\n",
       "    }\n",
       "\n",
       "    .dataframe thead th {\n",
       "        text-align: right;\n",
       "    }\n",
       "</style>\n",
       "<table border=\"1\" class=\"dataframe\">\n",
       "  <thead>\n",
       "    <tr style=\"text-align: right;\">\n",
       "      <th></th>\n",
       "      <th>Network activity</th>\n",
       "      <th>NWA Charge Number</th>\n",
       "      <th>WBS Element</th>\n",
       "      <th>WBS Description</th>\n",
       "      <th>Prj Def</th>\n",
       "      <th>Project Definition Desc</th>\n",
       "      <th>Major Program</th>\n",
       "      <th>MP ID</th>\n",
       "      <th>Sub Program 1 (Proj)</th>\n",
       "      <th>Sub Program 2 (Proj)</th>\n",
       "      <th>Sub Program 3 (Proj)</th>\n",
       "      <th>Alternative SP1</th>\n",
       "      <th>Alternative SP2</th>\n",
       "      <th>Alternative SP3</th>\n",
       "      <th>Phase</th>\n",
       "      <th>Date Added</th>\n",
       "      <th>Phase Formula</th>\n",
       "      <th>NWA Contract Number</th>\n",
       "    </tr>\n",
       "  </thead>\n",
       "  <tbody>\n",
       "    <tr>\n",
       "      <th>0</th>\n",
       "      <td>2018 TacLink LTB A/R - Material</td>\n",
       "      <td>601527358-1000</td>\n",
       "      <td>Z4EACAAED</td>\n",
       "      <td>2018 TacLink LTB A/R</td>\n",
       "      <td>Z4EACAAE</td>\n",
       "      <td>2018 TacLink LTB A/R</td>\n",
       "      <td>#</td>\n",
       "      <td>#</td>\n",
       "      <td>#</td>\n",
       "      <td>#</td>\n",
       "      <td>#</td>\n",
       "      <td>TCS NETWRK</td>\n",
       "      <td>TACLINK</td>\n",
       "      <td>TACLINK O&amp;R</td>\n",
       "      <td>DEPOT</td>\n",
       "      <td>NaT</td>\n",
       "      <td>NaN</td>\n",
       "      <td>601527358</td>\n",
       "    </tr>\n",
       "    <tr>\n",
       "      <th>1</th>\n",
       "      <td>VACM AR Material</td>\n",
       "      <td>601522755-0001</td>\n",
       "      <td>Z4EABAAV1</td>\n",
       "      <td>2018 VACM Schottky Diode &amp; NAND Obsol</td>\n",
       "      <td>Z4EABAAV</td>\n",
       "      <td>2018 VACM AR Schottky Diode &amp; NAND Obsol</td>\n",
       "      <td>#</td>\n",
       "      <td>#</td>\n",
       "      <td>#</td>\n",
       "      <td>#</td>\n",
       "      <td>#</td>\n",
       "      <td>TCS NETWRK</td>\n",
       "      <td>VACM</td>\n",
       "      <td>VACM LTB / OBS</td>\n",
       "      <td>PROD</td>\n",
       "      <td>NaT</td>\n",
       "      <td>NaN</td>\n",
       "      <td>601522755</td>\n",
       "    </tr>\n",
       "  </tbody>\n",
       "</table>\n",
       "</div>"
      ],
      "text/plain": [
       "                  Network activity NWA Charge Number WBS Element  \\\n",
       "0  2018 TacLink LTB A/R - Material    601527358-1000   Z4EACAAED   \n",
       "1                 VACM AR Material    601522755-0001   Z4EABAAV1   \n",
       "\n",
       "                         WBS Description   Prj Def  \\\n",
       "0                   2018 TacLink LTB A/R  Z4EACAAE   \n",
       "1  2018 VACM Schottky Diode & NAND Obsol  Z4EABAAV   \n",
       "\n",
       "                    Project Definition Desc Major Program MP ID  \\\n",
       "0                      2018 TacLink LTB A/R             #     #   \n",
       "1  2018 VACM AR Schottky Diode & NAND Obsol             #     #   \n",
       "\n",
       "  Sub Program 1 (Proj) Sub Program 2 (Proj) Sub Program 3 (Proj)  \\\n",
       "0                    #                    #                    #   \n",
       "1                    #                    #                    #   \n",
       "\n",
       "  Alternative SP1 Alternative SP2 Alternative SP3  Phase Date Added  \\\n",
       "0      TCS NETWRK         TACLINK     TACLINK O&R  DEPOT        NaT   \n",
       "1      TCS NETWRK            VACM  VACM LTB / OBS   PROD        NaT   \n",
       "\n",
       "  Phase Formula NWA Contract Number  \n",
       "0           NaN           601527358  \n",
       "1           NaN           601522755  "
      ]
     },
     "execution_count": 8,
     "metadata": {},
     "output_type": "execute_result"
    }
   ],
   "source": [
    "wbs_df.head(2)"
   ]
  },
  {
   "cell_type": "code",
   "execution_count": null,
   "metadata": {},
   "outputs": [],
   "source": []
  },
  {
   "cell_type": "markdown",
   "metadata": {},
   "source": [
    "### cats_file"
   ]
  },
  {
   "cell_type": "code",
   "execution_count": 9,
   "metadata": {
    "ExecuteTime": {
     "end_time": "2020-12-15T16:35:18.539040Z",
     "start_time": "2020-12-15T16:35:03.833325Z"
    }
   },
   "outputs": [],
   "source": [
    "cats_file = get_universal_path(sg.PopupGetFile('Select The CATS Hours Text File', keep_on_top=True, initial_folder=abs_executable_path))"
   ]
  },
  {
   "cell_type": "code",
   "execution_count": 10,
   "metadata": {
    "ExecuteTime": {
     "end_time": "2020-12-15T16:35:36.092934Z",
     "start_time": "2020-12-15T16:35:34.583856Z"
    }
   },
   "outputs": [
    {
     "name": "stderr",
     "output_type": "stream",
     "text": [
      "c:\\users\\1155449\\virtual_environments\\cats\\lib\\site-packages\\IPython\\core\\interactiveshell.py:3146: DtypeWarning: Columns (5) have mixed types.Specify dtype option on import or set low_memory=False.\n",
      "  has_raised = await self.run_ast_nodes(code_ast.body, cell_name,\n"
     ]
    }
   ],
   "source": [
    "cats_df = pd.read_csv(cats_file, delimiter='\\t')"
   ]
  },
  {
   "cell_type": "code",
   "execution_count": 11,
   "metadata": {
    "ExecuteTime": {
     "end_time": "2020-12-15T16:35:39.248898Z",
     "start_time": "2020-12-15T16:35:39.201665Z"
    }
   },
   "outputs": [
    {
     "data": {
      "text/html": [
       "<div>\n",
       "<style scoped>\n",
       "    .dataframe tbody tr th:only-of-type {\n",
       "        vertical-align: middle;\n",
       "    }\n",
       "\n",
       "    .dataframe tbody tr th {\n",
       "        vertical-align: top;\n",
       "    }\n",
       "\n",
       "    .dataframe thead th {\n",
       "        text-align: right;\n",
       "    }\n",
       "</style>\n",
       "<table border=\"1\" class=\"dataframe\">\n",
       "  <thead>\n",
       "    <tr style=\"text-align: right;\">\n",
       "      <th></th>\n",
       "      <th>Wrkdte Fscl Yr/Per - Key</th>\n",
       "      <th>Wrkdte Week - Key</th>\n",
       "      <th>Employee - Text</th>\n",
       "      <th>Cost center - Key (Not Compounded)</th>\n",
       "      <th>Cost center - Text</th>\n",
       "      <th>Directory ID - Key</th>\n",
       "      <th>Job Code - Text</th>\n",
       "      <th>Direct/Indirect Ind. - Key</th>\n",
       "      <th>Supervisor ID - Text</th>\n",
       "      <th>Dir/Indir Ind. -NAV - Key</th>\n",
       "      <th>...</th>\n",
       "      <th>Network activity - Text</th>\n",
       "      <th>Network activity - Key</th>\n",
       "      <th>Rec. cost ctr - Key (Not Compounded)</th>\n",
       "      <th>Activity Type - Key (Not Compounded)</th>\n",
       "      <th>Activity Type - Text</th>\n",
       "      <th>Attend/Absence Type - Short Text</th>\n",
       "      <th>Prod Order (CATS Account)</th>\n",
       "      <th>Receiver order - Key</th>\n",
       "      <th>Receiver order - Text</th>\n",
       "      <th>Cats Hours</th>\n",
       "    </tr>\n",
       "  </thead>\n",
       "  <tbody>\n",
       "    <tr>\n",
       "      <th>0</th>\n",
       "      <td>ZR/007/2020</td>\n",
       "      <td>27/2020</td>\n",
       "      <td>Aaron C Dermarderosian</td>\n",
       "      <td>42377</td>\n",
       "      <td>SAS FL Mech Dsgn &amp;</td>\n",
       "      <td>1001217</td>\n",
       "      <td>PRINCIPAL MULTI-DIS ENGR</td>\n",
       "      <td>D</td>\n",
       "      <td>Ricky D Cook</td>\n",
       "      <td>D</td>\n",
       "      <td>...</td>\n",
       "      <td>Not assigned</td>\n",
       "      <td>#/#</td>\n",
       "      <td>#</td>\n",
       "      <td>#</td>\n",
       "      <td>RAY0/Not assigned</td>\n",
       "      <td>PTO/Annual Leave</td>\n",
       "      <td>#</td>\n",
       "      <td>#</td>\n",
       "      <td>Not assigned</td>\n",
       "      <td>2.0</td>\n",
       "    </tr>\n",
       "    <tr>\n",
       "      <th>1</th>\n",
       "      <td>ZR/007/2020</td>\n",
       "      <td>27/2020</td>\n",
       "      <td>Aaron C Dermarderosian</td>\n",
       "      <td>42377</td>\n",
       "      <td>SAS FL Mech Dsgn &amp;</td>\n",
       "      <td>1001217</td>\n",
       "      <td>PRINCIPAL MULTI-DIS ENGR</td>\n",
       "      <td>D</td>\n",
       "      <td>Ricky D Cook</td>\n",
       "      <td>D</td>\n",
       "      <td>...</td>\n",
       "      <td>Not assigned</td>\n",
       "      <td>#/#</td>\n",
       "      <td>41868</td>\n",
       "      <td>N00001</td>\n",
       "      <td>Indirect by Direct</td>\n",
       "      <td>Straight Time</td>\n",
       "      <td>#</td>\n",
       "      <td>9005200</td>\n",
       "      <td>CROSSOVER - CALIBRATION AND R&amp;M</td>\n",
       "      <td>1.0</td>\n",
       "    </tr>\n",
       "  </tbody>\n",
       "</table>\n",
       "<p>2 rows × 26 columns</p>\n",
       "</div>"
      ],
      "text/plain": [
       "  Wrkdte Fscl Yr/Per - Key Wrkdte Week - Key         Employee - Text  \\\n",
       "0              ZR/007/2020           27/2020  Aaron C Dermarderosian   \n",
       "1              ZR/007/2020           27/2020  Aaron C Dermarderosian   \n",
       "\n",
       "   Cost center - Key (Not Compounded)  Cost center - Text Directory ID - Key  \\\n",
       "0                               42377  SAS FL Mech Dsgn &            1001217   \n",
       "1                               42377  SAS FL Mech Dsgn &            1001217   \n",
       "\n",
       "            Job Code - Text Direct/Indirect Ind. - Key Supervisor ID - Text  \\\n",
       "0  PRINCIPAL MULTI-DIS ENGR                          D         Ricky D Cook   \n",
       "1  PRINCIPAL MULTI-DIS ENGR                          D         Ricky D Cook   \n",
       "\n",
       "  Dir/Indir Ind. -NAV - Key  ... Network activity - Text  \\\n",
       "0                         D  ...            Not assigned   \n",
       "1                         D  ...            Not assigned   \n",
       "\n",
       "  Network activity - Key Rec. cost ctr - Key (Not Compounded)  \\\n",
       "0                    #/#                                    #   \n",
       "1                    #/#                                41868   \n",
       "\n",
       "  Activity Type - Key (Not Compounded) Activity Type - Text  \\\n",
       "0                                    #    RAY0/Not assigned   \n",
       "1                               N00001   Indirect by Direct   \n",
       "\n",
       "  Attend/Absence Type - Short Text Prod Order (CATS Account)  \\\n",
       "0                 PTO/Annual Leave                         #   \n",
       "1                    Straight Time                         #   \n",
       "\n",
       "  Receiver order - Key            Receiver order - Text Cats Hours  \n",
       "0                    #                     Not assigned        2.0  \n",
       "1              9005200  CROSSOVER - CALIBRATION AND R&M        1.0  \n",
       "\n",
       "[2 rows x 26 columns]"
      ]
     },
     "execution_count": 11,
     "metadata": {},
     "output_type": "execute_result"
    }
   ],
   "source": [
    "cats_df.head(2)"
   ]
  },
  {
   "cell_type": "markdown",
   "metadata": {},
   "source": [
    "### input_file"
   ]
  },
  {
   "cell_type": "code",
   "execution_count": null,
   "metadata": {
    "ExecuteTime": {
     "end_time": "2020-12-12T19:50:00.698714Z",
     "start_time": "2020-12-12T19:49:55.622166Z"
    }
   },
   "outputs": [],
   "source": [
    "input_file = get_universal_path(sg.PopupGetFile('Select The Input File', keep_on_top=True, initial_folder=abs_executable_path))"
   ]
  },
  {
   "cell_type": "code",
   "execution_count": null,
   "metadata": {
    "ExecuteTime": {
     "end_time": "2020-12-12T19:50:22.538241Z",
     "start_time": "2020-12-12T19:50:22.498349Z"
    }
   },
   "outputs": [],
   "source": [
    "input_df = pd.read_excel(input_file)"
   ]
  },
  {
   "cell_type": "code",
   "execution_count": null,
   "metadata": {
    "ExecuteTime": {
     "end_time": "2020-12-12T19:51:46.674741Z",
     "start_time": "2020-12-12T19:51:46.663965Z"
    }
   },
   "outputs": [],
   "source": [
    "input_df.head(2)"
   ]
  },
  {
   "cell_type": "markdown",
   "metadata": {},
   "source": [
    "## Step 01: Prep NWAs"
   ]
  },
  {
   "cell_type": "code",
   "execution_count": null,
   "metadata": {
    "ExecuteTime": {
     "end_time": "2020-12-12T19:52:32.669958Z",
     "start_time": "2020-12-12T19:52:32.647320Z"
    }
   },
   "outputs": [],
   "source": [
    "len(input_df.iloc[0, 0][:9])"
   ]
  },
  {
   "cell_type": "markdown",
   "metadata": {},
   "source": [
    "## input_df - tbl NWAs to Network"
   ]
  },
  {
   "cell_type": "code",
   "execution_count": null,
   "metadata": {
    "ExecuteTime": {
     "end_time": "2020-12-12T19:52:45.225223Z",
     "start_time": "2020-12-12T19:52:45.214850Z"
    }
   },
   "outputs": [],
   "source": [
    "input_df['Network'] = input_df['NWA Charge Number'].apply(lambda x: x[:9])"
   ]
  },
  {
   "cell_type": "code",
   "execution_count": null,
   "metadata": {
    "ExecuteTime": {
     "end_time": "2020-12-12T20:26:10.364496Z",
     "start_time": "2020-12-12T20:26:09.044290Z"
    }
   },
   "outputs": [],
   "source": [
    "sg.PopupOK('Hit Enter Both Here And In The Main Program Window After The Structure Mapping File Is Updated With The Input Values', keep_on_top=True)\n",
    "input('Hit Enter When The Structure Mapping File Is Updated With The Input Values')"
   ]
  },
  {
   "cell_type": "markdown",
   "metadata": {},
   "source": [
    "## Query Result Values"
   ]
  },
  {
   "cell_type": "code",
   "execution_count": null,
   "metadata": {
    "ExecuteTime": {
     "end_time": "2020-12-12T20:24:42.925368Z",
     "start_time": "2020-12-12T20:24:35.216472Z"
    }
   },
   "outputs": [],
   "source": [
    "qry_file = get_universal_path(sg.PopupGetFile('Select The Structure Mapping Automation File', keep_on_top=True, initial_folder=abs_executable_path))"
   ]
  },
  {
   "cell_type": "code",
   "execution_count": null,
   "metadata": {
    "ExecuteTime": {
     "end_time": "2020-12-12T20:26:46.563734Z",
     "start_time": "2020-12-12T20:26:45.846993Z"
    }
   },
   "outputs": [],
   "source": [
    "qry_df = pd.read_excel(qry_file, sheet_name='Query')"
   ]
  },
  {
   "cell_type": "code",
   "execution_count": null,
   "metadata": {
    "ExecuteTime": {
     "end_time": "2020-12-12T20:28:35.273563Z",
     "start_time": "2020-12-12T20:28:35.232423Z"
    }
   },
   "outputs": [],
   "source": [
    "qry_df.head(2)"
   ]
  },
  {
   "cell_type": "markdown",
   "metadata": {},
   "source": [
    "## Step 02: Replace Space with Hyphen"
   ]
  },
  {
   "cell_type": "code",
   "execution_count": null,
   "metadata": {
    "ExecuteTime": {
     "end_time": "2020-12-12T20:28:10.975043Z",
     "start_time": "2020-12-12T20:28:10.939983Z"
    }
   },
   "outputs": [],
   "source": [
    "qry_df['NWA Parent/ Activity'] = qry_df['NWA Parent/ Activity'].apply(lambda x: x.replace(' ', '-'))"
   ]
  },
  {
   "cell_type": "markdown",
   "metadata": {},
   "source": [
    "## Step 03: Narrow Results"
   ]
  },
  {
   "cell_type": "code",
   "execution_count": null,
   "metadata": {
    "ExecuteTime": {
     "end_time": "2020-12-12T20:32:34.351742Z",
     "start_time": "2020-12-12T20:32:34.325056Z"
    }
   },
   "outputs": [],
   "source": [
    "len(input_df.index), len(qry_df.index), len(input_df.merge(qry_df, how='inner', left_on='NWA Charge Number', right_on='NWA Parent/ Activity').index)"
   ]
  },
  {
   "cell_type": "code",
   "execution_count": null,
   "metadata": {
    "ExecuteTime": {
     "end_time": "2020-12-12T20:32:57.281854Z",
     "start_time": "2020-12-12T20:32:57.244554Z"
    }
   },
   "outputs": [],
   "source": [
    "input_df.merge(qry_df, how='inner', left_on='NWA Charge Number', right_on='NWA Parent/ Activity')"
   ]
  },
  {
   "cell_type": "code",
   "execution_count": null,
   "metadata": {},
   "outputs": [],
   "source": []
  }
 ],
 "metadata": {
  "kernelspec": {
   "display_name": "Python 3",
   "language": "python",
   "name": "python3"
  },
  "language_info": {
   "codemirror_mode": {
    "name": "ipython",
    "version": 3
   },
   "file_extension": ".py",
   "mimetype": "text/x-python",
   "name": "python",
   "nbconvert_exporter": "python",
   "pygments_lexer": "ipython3",
   "version": "3.8.2"
  },
  "toc": {
   "base_numbering": 1,
   "nav_menu": {},
   "number_sections": true,
   "sideBar": false,
   "skip_h1_title": true,
   "title_cell": "Table of Contents",
   "title_sidebar": "Contents",
   "toc_cell": true,
   "toc_position": {},
   "toc_section_display": false,
   "toc_window_display": false
  },
  "varInspector": {
   "cols": {
    "lenName": 16,
    "lenType": 16,
    "lenVar": 40
   },
   "kernels_config": {
    "python": {
     "delete_cmd_postfix": "",
     "delete_cmd_prefix": "del ",
     "library": "var_list.py",
     "varRefreshCmd": "print(var_dic_list())"
    },
    "r": {
     "delete_cmd_postfix": ") ",
     "delete_cmd_prefix": "rm(",
     "library": "var_list.r",
     "varRefreshCmd": "cat(var_dic_list()) "
    }
   },
   "types_to_exclude": [
    "module",
    "function",
    "builtin_function_or_method",
    "instance",
    "_Feature"
   ],
   "window_display": false
  }
 },
 "nbformat": 4,
 "nbformat_minor": 4
}
